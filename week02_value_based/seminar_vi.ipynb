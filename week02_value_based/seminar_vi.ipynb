{
  "cells": [
    {
      "cell_type": "markdown",
      "metadata": {
        "id": "view-in-github",
        "colab_type": "text"
      },
      "source": [
        "<a href=\"https://colab.research.google.com/github/ngocmink/practical_RL/blob/main/week02_value_based/seminar_vi.ipynb\" target=\"_parent\"><img src=\"https://colab.research.google.com/assets/colab-badge.svg\" alt=\"Open In Colab\"/></a>"
      ]
    },
    {
      "cell_type": "markdown",
      "metadata": {
        "id": "lbssiS9iuRDp"
      },
      "source": [
        "### Markov decision process\n",
        "\n",
        "This week's methods are all built to solve __M__arkov __D__ecision __P__rocesses. In the broadest sense, an MDP is defined by how it changes states and how rewards are computed.\n",
        "\n",
        "State transition is defined by $P(s' |s,a)$ - how likely are you to end at state $s'$ if you take action $a$ from state $s$. Now there's more than one way to define rewards, but we'll use $r(s,a,s')$ function for convenience.\n",
        "\n",
        "_This notebook is inspired by the awesome_ [CS294](https://github.com/berkeleydeeprlcourse/homework/blob/36a0b58261acde756abd55306fbe63df226bf62b/hw2/HW2.ipynb) _by Berkeley_"
      ]
    },
    {
      "cell_type": "markdown",
      "metadata": {
        "id": "t0eu0DPWuRDq"
      },
      "source": [
        "For starters, let's define a simple MDP from this picture:\n",
        "\n",
        "<img src=\"https://upload.wikimedia.org/wikipedia/commons/a/ad/Markov_Decision_Process.svg\" width=\"400px\" alt=\"Diagram by Waldoalvarez via Wikimedia Commons, CC BY-SA 4.0\"/>"
      ]
    },
    {
      "cell_type": "code",
      "execution_count": 1,
      "metadata": {
        "colab": {
          "base_uri": "https://localhost:8080/"
        },
        "id": "kadwP-cXuRDr",
        "outputId": "58fbff6f-5b47-4773-9e1b-c07b6dd4423b"
      },
      "outputs": [
        {
          "output_type": "stream",
          "name": "stdout",
          "text": [
            "W: Skipping acquire of configured file 'main/source/Sources' as repository 'https://r2u.stat.illinois.edu/ubuntu jammy InRelease' does not seem to provide it (sources.list entry misspelt?)\n",
            "Starting virtual X frame buffer: Xvfb.\n"
          ]
        }
      ],
      "source": [
        "import sys, os\n",
        "if 'google.colab' in sys.modules and not os.path.exists('.setup_complete'):\n",
        "    !wget -q https://raw.githubusercontent.com/yandexdataschool/Practical_RL/master/setup_colab.sh -O- | bash\n",
        "    !wget -q https://raw.githubusercontent.com/yandexdataschool/Practical_RL/master/week02_value_based/mdp.py\n",
        "    !touch .setup_complete\n",
        "\n",
        "# This code creates a virtual display to draw game images on.\n",
        "# It will have no effect if your machine has a monitor.\n",
        "if type(os.environ.get(\"DISPLAY\")) is not str or len(os.environ.get(\"DISPLAY\")) == 0:\n",
        "    !bash ../xvfb start\n",
        "    os.environ['DISPLAY'] = ':1'"
      ]
    },
    {
      "cell_type": "code",
      "execution_count": 2,
      "metadata": {
        "colab": {
          "base_uri": "https://localhost:8080/"
        },
        "id": "z54CCBpyuRDs",
        "outputId": "2b4c6c51-f4f1-4300-d3a5-b51a46cca9a3"
      },
      "outputs": [
        {
          "output_type": "stream",
          "name": "stderr",
          "text": [
            "Gym has been unmaintained since 2022 and does not support NumPy 2.0 amongst other critical functionality.\n",
            "Please upgrade to Gymnasium, the maintained drop-in replacement of Gym, or contact the authors of your software and request that they upgrade.\n",
            "See the migration guide at https://gymnasium.farama.org/introduction/migration_guide/ for additional information.\n",
            "/usr/local/lib/python3.12/dist-packages/jupyter_client/session.py:203: DeprecationWarning: datetime.datetime.utcnow() is deprecated and scheduled for removal in a future version. Use timezone-aware objects to represent datetimes in UTC: datetime.datetime.now(datetime.UTC).\n",
            "  return datetime.utcnow().replace(tzinfo=utc)\n"
          ]
        }
      ],
      "source": [
        "transition_probs = {\n",
        "    's0': {\n",
        "        'a0': {'s0': 0.5, 's2': 0.5},\n",
        "        'a1': {'s2': 1}\n",
        "    },\n",
        "    's1': {\n",
        "        'a0': {'s0': 0.7, 's1': 0.1, 's2': 0.2},\n",
        "        'a1': {'s1': 0.95, 's2': 0.05}\n",
        "    },\n",
        "    's2': {\n",
        "        'a0': {'s0': 0.4, 's2': 0.6},\n",
        "        'a1': {'s0': 0.3, 's1': 0.3, 's2': 0.4}\n",
        "    }\n",
        "}\n",
        "rewards = {\n",
        "    's1': {'a0': {'s0': +5}},\n",
        "    's2': {'a1': {'s0': -1}}\n",
        "}\n",
        "\n",
        "from mdp import MDP\n",
        "mdp = MDP(transition_probs, rewards, initial_state='s0')"
      ]
    },
    {
      "cell_type": "markdown",
      "metadata": {
        "id": "MYvj0Jx9uRDt"
      },
      "source": [
        "We can now use MDP just as any other gym environment:"
      ]
    },
    {
      "cell_type": "code",
      "execution_count": 3,
      "metadata": {
        "colab": {
          "base_uri": "https://localhost:8080/"
        },
        "id": "fc3fmLmIuRDt",
        "outputId": "a7ef7a8d-8a25-449b-e72b-c23977d92d3d"
      },
      "outputs": [
        {
          "output_type": "stream",
          "name": "stdout",
          "text": [
            "initial state = s0\n",
            "next_state = s2, reward = 0.0, done = False\n"
          ]
        }
      ],
      "source": [
        "print('initial state =', mdp.reset())\n",
        "next_state, reward, done, info = mdp.step('a1')\n",
        "print('next_state = %s, reward = %s, done = %s' % (next_state, reward, done))"
      ]
    },
    {
      "cell_type": "markdown",
      "metadata": {
        "id": "Rkv2zfuOuRDu"
      },
      "source": [
        "but it also has other methods that you'll need for Value Iteration"
      ]
    },
    {
      "cell_type": "code",
      "execution_count": 4,
      "metadata": {
        "colab": {
          "base_uri": "https://localhost:8080/"
        },
        "id": "owGxgwoguRDv",
        "outputId": "9f469df3-5ead-4510-b3b6-3a3e9be6c3f4"
      },
      "outputs": [
        {
          "output_type": "stream",
          "name": "stdout",
          "text": [
            "mdp.get_all_states = ('s0', 's1', 's2')\n",
            "mdp.get_possible_actions('s1') =  ('a0', 'a1')\n",
            "mdp.get_next_states('s1', 'a0') =  {'s0': 0.7, 's1': 0.1, 's2': 0.2}\n",
            "mdp.get_reward('s1', 'a0', 's0') =  5\n",
            "mdp.get_transition_prob('s1', 'a0', 's0') =  0.7\n"
          ]
        }
      ],
      "source": [
        "print(\"mdp.get_all_states =\", mdp.get_all_states())\n",
        "print(\"mdp.get_possible_actions('s1') = \", mdp.get_possible_actions('s1'))\n",
        "print(\"mdp.get_next_states('s1', 'a0') = \", mdp.get_next_states('s1', 'a0'))\n",
        "print(\"mdp.get_reward('s1', 'a0', 's0') = \", mdp.get_reward('s1', 'a0', 's0'))\n",
        "print(\"mdp.get_transition_prob('s1', 'a0', 's0') = \", mdp.get_transition_prob('s1', 'a0', 's0'))"
      ]
    },
    {
      "cell_type": "markdown",
      "metadata": {
        "id": "RlUBGf9OuRDv"
      },
      "source": [
        "### Optional: Visualizing MDPs\n",
        "\n",
        "You can also visualize any MDP with the drawing fuction donated by [neer201](https://github.com/neer201).\n",
        "\n",
        "You have to install graphviz for system and for python.\n",
        "\n",
        "1. * For ubuntu just run: `sudo apt-get install graphviz`\n",
        "   * For OSX: `brew install graphviz`\n",
        "2. `pip install graphviz`\n",
        "3. restart the notebook\n",
        "\n",
        "__Note:__ Installing graphviz on some OS (esp. Windows) may be tricky. However, you can ignore this part alltogether and use the standart vizualization."
      ]
    },
    {
      "cell_type": "code",
      "execution_count": 5,
      "metadata": {
        "colab": {
          "base_uri": "https://localhost:8080/"
        },
        "id": "dVHsYZTVuRDv",
        "outputId": "e229dfad-a159-42ac-d600-92fddd16f982"
      },
      "outputs": [
        {
          "output_type": "stream",
          "name": "stdout",
          "text": [
            "Graphviz available: True\n"
          ]
        }
      ],
      "source": [
        "from mdp import has_graphviz\n",
        "from IPython.display import display\n",
        "print(\"Graphviz available:\", has_graphviz)"
      ]
    },
    {
      "cell_type": "code",
      "execution_count": 11,
      "metadata": {
        "colab": {
          "base_uri": "https://localhost:8080/",
          "height": 508
        },
        "id": "w9PRjFrjuRDw",
        "outputId": "7638e3e0-eb4f-44ed-8d1d-70d1e9ddd6a2"
      },
      "outputs": [
        {
          "output_type": "display_data",
          "data": {
            "image/svg+xml": "<?xml version=\"1.0\" encoding=\"UTF-8\" standalone=\"no\"?>\n<!DOCTYPE svg PUBLIC \"-//W3C//DTD SVG 1.1//EN\"\n \"http://www.w3.org/Graphics/SVG/1.1/DTD/svg11.dtd\">\n<!-- Generated by graphviz version 2.43.0 (0)\n -->\n<!-- Title: MDP Pages: 1 -->\n<svg width=\"1027pt\" height=\"323pt\"\n viewBox=\"0.00 0.00 1027.46 323.00\" xmlns=\"http://www.w3.org/2000/svg\" xmlns:xlink=\"http://www.w3.org/1999/xlink\">\n<g id=\"graph0\" class=\"graph\" transform=\"scale(1 1) rotate(0) translate(4 319)\">\n<title>MDP</title>\n<polygon fill=\"white\" stroke=\"transparent\" points=\"-4,4 -4,-319 1023.46,-319 1023.46,4 -4,4\"/>\n<!-- s0 -->\n<g id=\"node1\" class=\"node\">\n<title>s0</title>\n<ellipse fill=\"#85ff75\" stroke=\"#85ff75\" cx=\"40\" cy=\"-116\" rx=\"36\" ry=\"36\"/>\n<ellipse fill=\"none\" stroke=\"#85ff75\" cx=\"40\" cy=\"-116\" rx=\"40\" ry=\"40\"/>\n<text text-anchor=\"middle\" x=\"40\" y=\"-109.8\" font-family=\"Arial\" font-size=\"24.00\">s0</text>\n</g>\n<!-- s0&#45;a0 -->\n<g id=\"node2\" class=\"node\">\n<title>s0&#45;a0</title>\n<ellipse fill=\"lightpink\" stroke=\"lightpink\" cx=\"193.58\" cy=\"-160\" rx=\"27.65\" ry=\"27.65\"/>\n<text text-anchor=\"middle\" x=\"193.58\" y=\"-155\" font-family=\"Arial\" font-size=\"20.00\">a0</text>\n</g>\n<!-- s0&#45;&gt;s0&#45;a0 -->\n<g id=\"edge1\" class=\"edge\">\n<title>s0&#45;&gt;s0&#45;a0</title>\n<path fill=\"none\" stroke=\"red\" stroke-width=\"2\" d=\"M79.19,-124.49C99.74,-129.34 125.44,-135.88 148,-143 151.34,-144.05 154.79,-145.22 158.23,-146.44\"/>\n<polygon fill=\"red\" stroke=\"red\" stroke-width=\"2\" points=\"157.17,-149.78 167.77,-149.95 159.59,-143.21 157.17,-149.78\"/>\n</g>\n<!-- s0&#45;a1 -->\n<g id=\"node4\" class=\"node\">\n<title>s0&#45;a1</title>\n<ellipse fill=\"lightpink\" stroke=\"lightpink\" cx=\"193.58\" cy=\"-233\" rx=\"27.65\" ry=\"27.65\"/>\n<text text-anchor=\"middle\" x=\"193.58\" y=\"-228\" font-family=\"Arial\" font-size=\"20.00\">a1</text>\n</g>\n<!-- s0&#45;&gt;s0&#45;a1 -->\n<g id=\"edge4\" class=\"edge\">\n<title>s0&#45;&gt;s0&#45;a1</title>\n<path fill=\"none\" stroke=\"red\" stroke-width=\"2\" d=\"M66.9,-145.7C76.21,-155.57 87.12,-166.26 98,-175 117.23,-190.44 140.89,-204.94 159.73,-215.59\"/>\n<polygon fill=\"red\" stroke=\"red\" stroke-width=\"2\" points=\"158.11,-218.69 168.55,-220.49 161.51,-212.57 158.11,-218.69\"/>\n</g>\n<!-- s0&#45;a0&#45;&gt;s0 -->\n<g id=\"edge2\" class=\"edge\">\n<title>s0&#45;a0&#45;&gt;s0</title>\n<path fill=\"none\" stroke=\"blue\" stroke-dasharray=\"5,2\" d=\"M166.14,-155.8C146.98,-152.42 120.58,-147.07 98,-140 94.19,-138.81 90.28,-137.45 86.39,-136.01\"/>\n<polygon fill=\"blue\" stroke=\"blue\" points=\"87.39,-132.65 76.8,-132.29 84.85,-139.17 87.39,-132.65\"/>\n<text text-anchor=\"middle\" x=\"123\" y=\"-158.2\" font-family=\"Arial\" font-size=\"16.00\">p = 0.5</text>\n</g>\n<!-- s2 -->\n<g id=\"node3\" class=\"node\">\n<title>s2</title>\n<ellipse fill=\"#85ff75\" stroke=\"#85ff75\" cx=\"433.15\" cy=\"-183\" rx=\"36\" ry=\"36\"/>\n<ellipse fill=\"none\" stroke=\"#85ff75\" cx=\"433.15\" cy=\"-183\" rx=\"40\" ry=\"40\"/>\n<text text-anchor=\"middle\" x=\"433.15\" y=\"-176.8\" font-family=\"Arial\" font-size=\"24.00\">s2</text>\n</g>\n<!-- s0&#45;a0&#45;&gt;s2 -->\n<g id=\"edge3\" class=\"edge\">\n<title>s0&#45;a0&#45;&gt;s2</title>\n<path fill=\"none\" stroke=\"blue\" stroke-dasharray=\"5,2\" d=\"M221.37,-162.59C260.57,-166.39 334.21,-173.52 383.23,-178.26\"/>\n<polygon fill=\"blue\" stroke=\"blue\" points=\"383,-181.76 393.29,-179.24 383.67,-174.79 383,-181.76\"/>\n<text text-anchor=\"middle\" x=\"307.15\" y=\"-183.2\" font-family=\"Arial\" font-size=\"16.00\">p = 0.5</text>\n</g>\n<!-- s2&#45;a0 -->\n<g id=\"node8\" class=\"node\">\n<title>s2&#45;a0</title>\n<ellipse fill=\"lightpink\" stroke=\"lightpink\" cx=\"666.73\" cy=\"-162\" rx=\"27.65\" ry=\"27.65\"/>\n<text text-anchor=\"middle\" x=\"666.73\" y=\"-157\" font-family=\"Arial\" font-size=\"20.00\">a0</text>\n</g>\n<!-- s2&#45;&gt;s2&#45;a0 -->\n<g id=\"edge13\" class=\"edge\">\n<title>s2&#45;&gt;s2&#45;a0</title>\n<path fill=\"none\" stroke=\"red\" stroke-width=\"2\" d=\"M473.31,-186.98C511.48,-189.83 570.95,-191.53 621.15,-181 624.83,-180.23 628.58,-179.15 632.26,-177.89\"/>\n<polygon fill=\"red\" stroke=\"red\" stroke-width=\"2\" points=\"633.69,-181.09 641.77,-174.24 631.18,-174.56 633.69,-181.09\"/>\n</g>\n<!-- s2&#45;a1 -->\n<g id=\"node9\" class=\"node\">\n<title>s2&#45;a1</title>\n<ellipse fill=\"lightpink\" stroke=\"lightpink\" cx=\"666.73\" cy=\"-80\" rx=\"27.65\" ry=\"27.65\"/>\n<text text-anchor=\"middle\" x=\"666.73\" y=\"-75\" font-family=\"Arial\" font-size=\"20.00\">a1</text>\n</g>\n<!-- s2&#45;&gt;s2&#45;a1 -->\n<g id=\"edge16\" class=\"edge\">\n<title>s2&#45;&gt;s2&#45;a1</title>\n<path fill=\"none\" stroke=\"red\" stroke-width=\"2\" d=\"M467.41,-161.94C475.08,-157.43 483.3,-152.87 491.15,-149 538.2,-125.86 595.06,-104.55 630.82,-91.92\"/>\n<polygon fill=\"red\" stroke=\"red\" stroke-width=\"2\" points=\"632.04,-95.2 640.32,-88.59 629.73,-88.59 632.04,-95.2\"/>\n</g>\n<!-- s0&#45;a1&#45;&gt;s2 -->\n<g id=\"edge5\" class=\"edge\">\n<title>s0&#45;a1&#45;&gt;s2</title>\n<path fill=\"none\" stroke=\"blue\" stroke-dasharray=\"5,2\" d=\"M221.08,-229.08C256.45,-223.65 320.92,-213 375.15,-200 378.37,-199.23 381.67,-198.39 384.98,-197.5\"/>\n<polygon fill=\"blue\" stroke=\"blue\" points=\"386.21,-200.79 394.91,-194.74 384.33,-194.05 386.21,-200.79\"/>\n<text text-anchor=\"middle\" x=\"307.15\" y=\"-230.2\" font-family=\"Arial\" font-size=\"16.00\">p = 1</text>\n</g>\n<!-- s1 -->\n<g id=\"node5\" class=\"node\">\n<title>s1</title>\n<ellipse fill=\"#85ff75\" stroke=\"#85ff75\" cx=\"829.31\" cy=\"-116\" rx=\"36\" ry=\"36\"/>\n<ellipse fill=\"none\" stroke=\"#85ff75\" cx=\"829.31\" cy=\"-116\" rx=\"40\" ry=\"40\"/>\n<text text-anchor=\"middle\" x=\"829.31\" y=\"-109.8\" font-family=\"Arial\" font-size=\"24.00\">s1</text>\n</g>\n<!-- s1&#45;a0 -->\n<g id=\"node6\" class=\"node\">\n<title>s1&#45;a0</title>\n<ellipse fill=\"lightpink\" stroke=\"lightpink\" cx=\"991.89\" cy=\"-92\" rx=\"27.65\" ry=\"27.65\"/>\n<text text-anchor=\"middle\" x=\"991.89\" y=\"-87\" font-family=\"Arial\" font-size=\"20.00\">a0</text>\n</g>\n<!-- s1&#45;&gt;s1&#45;a0 -->\n<g id=\"edge6\" class=\"edge\">\n<title>s1&#45;&gt;s1&#45;a0</title>\n<path fill=\"none\" stroke=\"red\" stroke-width=\"2\" d=\"M869.38,-112.27C891.95,-109.88 920.82,-106.39 946.31,-102 949,-101.54 951.77,-101.02 954.56,-100.47\"/>\n<polygon fill=\"red\" stroke=\"red\" stroke-width=\"2\" points=\"955.51,-103.84 964.57,-98.36 954.07,-96.99 955.51,-103.84\"/>\n</g>\n<!-- s1&#45;a1 -->\n<g id=\"node7\" class=\"node\">\n<title>s1&#45;a1</title>\n<ellipse fill=\"lightpink\" stroke=\"lightpink\" cx=\"991.89\" cy=\"-174\" rx=\"27.65\" ry=\"27.65\"/>\n<text text-anchor=\"middle\" x=\"991.89\" y=\"-169\" font-family=\"Arial\" font-size=\"20.00\">a1</text>\n</g>\n<!-- s1&#45;&gt;s1&#45;a1 -->\n<g id=\"edge10\" class=\"edge\">\n<title>s1&#45;&gt;s1&#45;a1</title>\n<path fill=\"none\" stroke=\"red\" stroke-width=\"2\" d=\"M867.66,-127.73C890.53,-135.12 920.3,-145.1 946.31,-155 949.82,-156.34 953.46,-157.78 957.08,-159.26\"/>\n<polygon fill=\"red\" stroke=\"red\" stroke-width=\"2\" points=\"955.93,-162.57 966.5,-163.2 958.62,-156.11 955.93,-162.57\"/>\n</g>\n<!-- s1&#45;a0&#45;&gt;s0 -->\n<g id=\"edge7\" class=\"edge\">\n<title>s1&#45;a0&#45;&gt;s0</title>\n<path fill=\"none\" stroke=\"blue\" stroke-dasharray=\"5,2\" d=\"M972.12,-72.49C944.03,-45.48 888.14,0 830.31,0 192.58,0 192.58,0 192.58,0 141.5,0 96.98,-42.06 69.63,-75.52\"/>\n<polygon fill=\"blue\" stroke=\"blue\" points=\"66.87,-73.37 63.4,-83.38 72.35,-77.72 66.87,-73.37\"/>\n<text text-anchor=\"middle\" x=\"556.15\" y=\"-5.2\" font-family=\"Arial\" font-size=\"16.00\">p = 0.7 &#160;reward =5</text>\n</g>\n<!-- s1&#45;a0&#45;&gt;s2 -->\n<g id=\"edge9\" class=\"edge\">\n<title>s1&#45;a0&#45;&gt;s2</title>\n<path fill=\"none\" stroke=\"blue\" stroke-dasharray=\"5,2\" d=\"M976.15,-114.86C972.01,-121.81 967.72,-129.58 964.31,-137 953.93,-159.61 966.27,-175.15 946.31,-190 783.96,-310.76 691.37,-229.22 491.15,-200 487.88,-199.52 484.54,-198.9 481.19,-198.17\"/>\n<polygon fill=\"blue\" stroke=\"blue\" points=\"481.76,-194.71 471.21,-195.73 480.1,-201.51 481.76,-194.71\"/>\n<text text-anchor=\"middle\" x=\"741.81\" y=\"-259.2\" font-family=\"Arial\" font-size=\"16.00\">p = 0.2</text>\n</g>\n<!-- s1&#45;a0&#45;&gt;s1 -->\n<g id=\"edge8\" class=\"edge\">\n<title>s1&#45;a0&#45;&gt;s1</title>\n<path fill=\"none\" stroke=\"blue\" stroke-dasharray=\"5,2\" d=\"M965.31,-83.53C944.06,-77.8 913.22,-72.5 887.31,-80 881.62,-81.65 875.95,-84.05 870.52,-86.84\"/>\n<polygon fill=\"blue\" stroke=\"blue\" points=\"868.63,-83.89 861.64,-91.85 872.07,-89.99 868.63,-83.89\"/>\n<text text-anchor=\"middle\" x=\"916.81\" y=\"-85.2\" font-family=\"Arial\" font-size=\"16.00\">p = 0.1</text>\n</g>\n<!-- s1&#45;a1&#45;&gt;s2 -->\n<g id=\"edge12\" class=\"edge\">\n<title>s1&#45;a1&#45;&gt;s2</title>\n<path fill=\"none\" stroke=\"blue\" stroke-dasharray=\"5,2\" d=\"M979.29,-198.86C971.84,-211.79 960.81,-226.45 946.31,-234 766.9,-327.45 679.29,-308.33 491.15,-234 482.81,-230.7 474.9,-225.59 467.78,-219.86\"/>\n<polygon fill=\"blue\" stroke=\"blue\" points=\"469.64,-216.84 459.8,-212.91 465.04,-222.12 469.64,-216.84\"/>\n<text text-anchor=\"middle\" x=\"741.81\" y=\"-302.2\" font-family=\"Arial\" font-size=\"16.00\">p = 0.05</text>\n</g>\n<!-- s1&#45;a1&#45;&gt;s1 -->\n<g id=\"edge11\" class=\"edge\">\n<title>s1&#45;a1&#45;&gt;s1</title>\n<path fill=\"none\" stroke=\"blue\" stroke-dasharray=\"5,2\" d=\"M964.16,-170.97C942.78,-167.92 912.34,-162.18 887.31,-152 881.89,-149.8 876.42,-147.08 871.11,-144.14\"/>\n<polygon fill=\"blue\" stroke=\"blue\" points=\"872.79,-141.06 862.39,-139.02 869.25,-147.1 872.79,-141.06\"/>\n<text text-anchor=\"middle\" x=\"916.81\" y=\"-173.2\" font-family=\"Arial\" font-size=\"16.00\">p = 0.95</text>\n</g>\n<!-- s2&#45;a0&#45;&gt;s0 -->\n<g id=\"edge14\" class=\"edge\">\n<title>s2&#45;a0&#45;&gt;s0</title>\n<path fill=\"none\" stroke=\"blue\" stroke-dasharray=\"5,2\" d=\"M640,-153.63C633.88,-151.88 627.33,-150.2 621.15,-149 446.29,-114.94 399.16,-130.34 221.15,-123 176.89,-121.17 126.51,-119.23 90.3,-117.85\"/>\n<polygon fill=\"blue\" stroke=\"blue\" points=\"90.14,-114.34 80.01,-117.46 89.87,-121.34 90.14,-114.34\"/>\n<text text-anchor=\"middle\" x=\"307.15\" y=\"-131.2\" font-family=\"Arial\" font-size=\"16.00\">p = 0.4</text>\n</g>\n<!-- s2&#45;a0&#45;&gt;s2 -->\n<g id=\"edge15\" class=\"edge\">\n<title>s2&#45;a0&#45;&gt;s2</title>\n<path fill=\"none\" stroke=\"blue\" stroke-dasharray=\"5,2\" d=\"M639.38,-158.06C604.93,-153.7 542.86,-148.56 491.15,-159 487.07,-159.82 482.91,-160.95 478.8,-162.27\"/>\n<polygon fill=\"blue\" stroke=\"blue\" points=\"477.59,-158.99 469.34,-165.64 479.93,-165.58 477.59,-158.99\"/>\n<text text-anchor=\"middle\" x=\"556.15\" y=\"-164.2\" font-family=\"Arial\" font-size=\"16.00\">p = 0.6</text>\n</g>\n<!-- s2&#45;a1&#45;&gt;s0 -->\n<g id=\"edge17\" class=\"edge\">\n<title>s2&#45;a1&#45;&gt;s0</title>\n<path fill=\"none\" stroke=\"blue\" stroke-dasharray=\"5,2\" d=\"M643.56,-64.64C636.68,-60.71 628.88,-57.02 621.15,-55 456.84,-12.07 407.97,-45.54 239.15,-64 175.74,-70.93 158.85,-70.84 98,-90 93.92,-91.29 89.74,-92.79 85.59,-94.42\"/>\n<polygon fill=\"blue\" stroke=\"blue\" points=\"83.93,-91.32 76.04,-98.39 86.62,-97.78 83.93,-91.32\"/>\n<text text-anchor=\"middle\" x=\"307.15\" y=\"-69.2\" font-family=\"Arial\" font-size=\"16.00\">p = 0.3 &#160;reward =&#45;1</text>\n</g>\n<!-- s2&#45;a1&#45;&gt;s2 -->\n<g id=\"edge19\" class=\"edge\">\n<title>s2&#45;a1&#45;&gt;s2</title>\n<path fill=\"none\" stroke=\"blue\" stroke-dasharray=\"5,2\" d=\"M640.47,-71.31C604.47,-60.59 537.63,-46.98 491.15,-75 469.57,-88.02 455.74,-112.24 447.11,-134.45\"/>\n<polygon fill=\"blue\" stroke=\"blue\" points=\"443.72,-133.54 443.62,-144.14 450.3,-135.92 443.72,-133.54\"/>\n<text text-anchor=\"middle\" x=\"556.15\" y=\"-80.2\" font-family=\"Arial\" font-size=\"16.00\">p = 0.4</text>\n</g>\n<!-- s2&#45;a1&#45;&gt;s1 -->\n<g id=\"edge18\" class=\"edge\">\n<title>s2&#45;a1&#45;&gt;s1</title>\n<path fill=\"none\" stroke=\"blue\" stroke-dasharray=\"5,2\" d=\"M693.89,-85.86C717.16,-91.08 751.78,-98.84 780.06,-105.18\"/>\n<polygon fill=\"blue\" stroke=\"blue\" points=\"779.64,-108.68 790.16,-107.45 781.17,-101.85 779.64,-108.68\"/>\n<text text-anchor=\"middle\" x=\"741.81\" y=\"-108.2\" font-family=\"Arial\" font-size=\"16.00\">p = 0.3</text>\n</g>\n</g>\n</svg>\n",
            "text/plain": [
              "<graphviz.graphs.Digraph at 0x7914e19d9910>"
            ]
          },
          "metadata": {}
        },
        {
          "output_type": "stream",
          "name": "stderr",
          "text": [
            "/usr/local/lib/python3.12/dist-packages/jupyter_client/session.py:203: DeprecationWarning: datetime.datetime.utcnow() is deprecated and scheduled for removal in a future version. Use timezone-aware objects to represent datetimes in UTC: datetime.datetime.now(datetime.UTC).\n",
            "  return datetime.utcnow().replace(tzinfo=utc)\n"
          ]
        }
      ],
      "source": [
        "if has_graphviz:\n",
        "    from mdp import plot_graph, plot_graph_with_state_values, plot_graph_optimal_strategy_and_state_values\n",
        "    display(plot_graph(mdp))"
      ]
    },
    {
      "cell_type": "markdown",
      "metadata": {
        "id": "2wrBYG-ouRDw"
      },
      "source": [
        "### Value Iteration\n",
        "\n",
        "Now let's build something to solve this MDP. The simplest algorithm so far is __V__alue __I__teration\n",
        "\n",
        "Here's the pseudo-code for VI:\n",
        "\n",
        "---\n",
        "\n",
        "`1.` Initialize $V^{(0)}(s)=0$, for all $s$\n",
        "\n",
        "`2.` For $i=0, 1, 2, \\dots$\n",
        "\n",
        "`3.` $ \\quad V_{(i+1)}(s) = \\max_a \\sum_{s'} P(s' | s,a) \\cdot [ r(s,a,s') + \\gamma V_{i}(s')]$, for all $s$\n",
        "\n",
        "---"
      ]
    },
    {
      "cell_type": "markdown",
      "metadata": {
        "id": "ETUpn-D2uRDw"
      },
      "source": [
        "First, let's write a function to compute the state-action value function $Q^{\\pi}$, defined as follows\n",
        "\n",
        "$$Q_i(s, a) = \\sum_{s'} P(s' | s,a) \\cdot [ r(s,a,s') + \\gamma V_{i}(s')]$$\n"
      ]
    },
    {
      "cell_type": "code",
      "execution_count": 6,
      "metadata": {
        "id": "BQ5JzIpruRDx"
      },
      "outputs": [],
      "source": [
        "def get_action_value(mdp, state_values, state, action, gamma):\n",
        "    \"\"\" Computes Q(s,a) as in formula above \"\"\"\n",
        "    Q_sa = 0\n",
        "    for state_next in mdp.get_next_states(state, action):\n",
        "      # print(state)\n",
        "      # print(action)\n",
        "      # print(state_next)\n",
        "      Q_sa += transition_probs[state][action][state_next] * (rewards.get(state, {}).get(action, {}).get(state_next, 0) + gamma * state_values[state_next])\n",
        "\n",
        "    return Q_sa"
      ]
    },
    {
      "cell_type": "code",
      "execution_count": 7,
      "metadata": {
        "id": "tZ-el2pWuRDx"
      },
      "outputs": [],
      "source": [
        "import numpy as np\n",
        "test_Vs = {s: i for i, s in enumerate(sorted(mdp.get_all_states()))}\n",
        "assert np.isclose(get_action_value(mdp, test_Vs, 's2', 'a1', 0.9), 0.69)\n",
        "assert np.isclose(get_action_value(mdp, test_Vs, 's1', 'a0', 0.9), 3.95)"
      ]
    },
    {
      "cell_type": "markdown",
      "metadata": {
        "id": "Jb2IdOOguRDx"
      },
      "source": [
        "Using $Q(s,a)$ we can now define the \"next\" V(s) for value iteration.\n",
        " $$V_{(i+1)}(s) = \\max_a \\sum_{s'} P(s' | s,a) \\cdot [ r(s,a,s') + \\gamma V_{i}(s')] = \\max_a Q_i(s,a)$$"
      ]
    },
    {
      "cell_type": "code",
      "execution_count": 8,
      "metadata": {
        "id": "5FzXNAmnuRDx"
      },
      "outputs": [],
      "source": [
        "def get_new_state_value(mdp, state_values, state, gamma):\n",
        "    \"\"\" Computes next V(s) as in formula above. Please do not change state_values in process. \"\"\"\n",
        "    if mdp.is_terminal(state):\n",
        "        return 0\n",
        "    state_values_next = -999999999999\n",
        "    for i in range(len(mdp.get_possible_actions(state))):\n",
        "      if(state_values_next < get_action_value(mdp, state_values, state, mdp.get_possible_actions(state)[i], gamma)):\n",
        "        state_values_next = get_action_value(mdp, state_values, state, mdp.get_possible_actions(state)[i], gamma)\n",
        "    # state_values[state] = state_values_next\n",
        "    return state_values_next"
      ]
    },
    {
      "cell_type": "code",
      "execution_count": 9,
      "metadata": {
        "id": "8DN3hmKBuRDx"
      },
      "outputs": [],
      "source": [
        "test_Vs_copy = dict(test_Vs)\n",
        "assert np.isclose(get_new_state_value(mdp, test_Vs, 's0', 0.9), 1.8)\n",
        "assert np.isclose(get_new_state_value(mdp, test_Vs, 's2', 0.9), 1.08)\n",
        "assert np.isclose(get_new_state_value(mdp, {'s0': -1e10, 's1': 0, 's2': -2e10}, 's0', 0.9), -13500000000.0), \\\n",
        "    \"Please ensure that you handle negative Q-values of arbitrary magnitude correctly\"\n",
        "assert test_Vs == test_Vs_copy, \"Please do not change state_values in get_new_state_value\""
      ]
    },
    {
      "cell_type": "markdown",
      "metadata": {
        "id": "zWDHvGBMuRDy"
      },
      "source": [
        "Finally, let's combine everything we wrote into a working value iteration algo."
      ]
    },
    {
      "cell_type": "code",
      "execution_count": 12,
      "metadata": {
        "id": "3zaaCNGXuRDy",
        "outputId": "c64f2789-1196-4a47-af59-c7ed2f0a173e",
        "colab": {
          "base_uri": "https://localhost:8080/",
          "height": 1000
        }
      },
      "outputs": [
        {
          "output_type": "display_data",
          "data": {
            "image/svg+xml": "<?xml version=\"1.0\" encoding=\"UTF-8\" standalone=\"no\"?>\n<!DOCTYPE svg PUBLIC \"-//W3C//DTD SVG 1.1//EN\"\n \"http://www.w3.org/Graphics/SVG/1.1/DTD/svg11.dtd\">\n<!-- Generated by graphviz version 2.43.0 (0)\n -->\n<!-- Title: MDP Pages: 1 -->\n<svg width=\"1096pt\" height=\"327pt\"\n viewBox=\"0.00 0.00 1095.72 327.00\" xmlns=\"http://www.w3.org/2000/svg\" xmlns:xlink=\"http://www.w3.org/1999/xlink\">\n<g id=\"graph0\" class=\"graph\" transform=\"scale(1 1) rotate(0) translate(4 323)\">\n<title>MDP</title>\n<polygon fill=\"white\" stroke=\"transparent\" points=\"-4,4 -4,-323 1091.72,-323 1091.72,4 -4,4\"/>\n<!-- s0 -->\n<g id=\"node1\" class=\"node\">\n<title>s0</title>\n<ellipse fill=\"#85ff75\" stroke=\"#85ff75\" cx=\"51.38\" cy=\"-116\" rx=\"47.26\" ry=\"47.26\"/>\n<ellipse fill=\"none\" stroke=\"#85ff75\" cx=\"51.38\" cy=\"-116\" rx=\"51.25\" ry=\"51.25\"/>\n<text text-anchor=\"middle\" x=\"51.38\" y=\"-122.8\" font-family=\"Arial\" font-size=\"24.00\">s0</text>\n<text text-anchor=\"middle\" x=\"51.38\" y=\"-96.8\" font-family=\"Arial\" font-size=\"24.00\">V =0</text>\n</g>\n<!-- s0&#45;a0 -->\n<g id=\"node2\" class=\"node\">\n<title>s0&#45;a0</title>\n<ellipse fill=\"lightpink\" stroke=\"lightpink\" cx=\"216.33\" cy=\"-160\" rx=\"27.65\" ry=\"27.65\"/>\n<text text-anchor=\"middle\" x=\"216.33\" y=\"-155\" font-family=\"Arial\" font-size=\"20.00\">a0</text>\n</g>\n<!-- s0&#45;&gt;s0&#45;a0 -->\n<g id=\"edge1\" class=\"edge\">\n<title>s0&#45;&gt;s0&#45;a0</title>\n<path fill=\"none\" stroke=\"red\" stroke-width=\"2\" d=\"M102.02,-125.7C123.36,-130.29 148.46,-136.24 170.75,-143 174.1,-144.02 177.56,-145.16 181.01,-146.36\"/>\n<polygon fill=\"red\" stroke=\"red\" stroke-width=\"2\" points=\"179.96,-149.71 190.55,-149.85 182.36,-143.13 179.96,-149.71\"/>\n</g>\n<!-- s0&#45;a1 -->\n<g id=\"node4\" class=\"node\">\n<title>s0&#45;a1</title>\n<ellipse fill=\"lightpink\" stroke=\"lightpink\" cx=\"216.33\" cy=\"-233\" rx=\"27.65\" ry=\"27.65\"/>\n<text text-anchor=\"middle\" x=\"216.33\" y=\"-228\" font-family=\"Arial\" font-size=\"20.00\">a1</text>\n</g>\n<!-- s0&#45;&gt;s0&#45;a1 -->\n<g id=\"edge4\" class=\"edge\">\n<title>s0&#45;&gt;s0&#45;a1</title>\n<path fill=\"none\" stroke=\"red\" stroke-width=\"2\" d=\"M90.27,-149.83C99.98,-158.03 110.57,-166.57 120.75,-174 140.77,-188.61 164.42,-203.37 183.07,-214.47\"/>\n<polygon fill=\"red\" stroke=\"red\" stroke-width=\"2\" points=\"181.39,-217.54 191.78,-219.61 184.94,-211.51 181.39,-217.54\"/>\n</g>\n<!-- s0&#45;a0&#45;&gt;s0 -->\n<g id=\"edge2\" class=\"edge\">\n<title>s0&#45;a0&#45;&gt;s0</title>\n<path fill=\"none\" stroke=\"blue\" stroke-dasharray=\"5,2\" d=\"M189.02,-155.38C169.92,-151.8 143.54,-146.38 120.75,-140 117.15,-138.99 113.46,-137.89 109.75,-136.74\"/>\n<polygon fill=\"blue\" stroke=\"blue\" points=\"110.54,-133.31 99.95,-133.58 108.39,-139.98 110.54,-133.31\"/>\n<text text-anchor=\"middle\" x=\"145.75\" y=\"-157.2\" font-family=\"Arial\" font-size=\"16.00\">p = 0.5</text>\n</g>\n<!-- s2 -->\n<g id=\"node3\" class=\"node\">\n<title>s2</title>\n<ellipse fill=\"#85ff75\" stroke=\"#85ff75\" cx=\"467.28\" cy=\"-189\" rx=\"47.26\" ry=\"47.26\"/>\n<ellipse fill=\"none\" stroke=\"#85ff75\" cx=\"467.28\" cy=\"-189\" rx=\"51.25\" ry=\"51.25\"/>\n<text text-anchor=\"middle\" x=\"467.28\" y=\"-195.8\" font-family=\"Arial\" font-size=\"24.00\">s2</text>\n<text text-anchor=\"middle\" x=\"467.28\" y=\"-169.8\" font-family=\"Arial\" font-size=\"24.00\">V =0</text>\n</g>\n<!-- s0&#45;a0&#45;&gt;s2 -->\n<g id=\"edge3\" class=\"edge\">\n<title>s0&#45;a0&#45;&gt;s2</title>\n<path fill=\"none\" stroke=\"blue\" stroke-dasharray=\"5,2\" d=\"M243.97,-163.1C282.31,-167.57 354.09,-175.93 405.73,-181.95\"/>\n<polygon fill=\"blue\" stroke=\"blue\" points=\"405.43,-185.44 415.77,-183.12 406.24,-178.48 405.43,-185.44\"/>\n<text text-anchor=\"middle\" x=\"329.91\" y=\"-186.2\" font-family=\"Arial\" font-size=\"16.00\">p = 0.5</text>\n</g>\n<!-- s2&#45;a0 -->\n<g id=\"node8\" class=\"node\">\n<title>s2&#45;a0</title>\n<ellipse fill=\"lightpink\" stroke=\"lightpink\" cx=\"712.24\" cy=\"-162\" rx=\"27.65\" ry=\"27.65\"/>\n<text text-anchor=\"middle\" x=\"712.24\" y=\"-157\" font-family=\"Arial\" font-size=\"20.00\">a0</text>\n</g>\n<!-- s2&#45;&gt;s2&#45;a0 -->\n<g id=\"edge13\" class=\"edge\">\n<title>s2&#45;&gt;s2&#45;a0</title>\n<path fill=\"none\" stroke=\"red\" stroke-width=\"2\" d=\"M518.67,-191.94C559.16,-193.12 617.23,-192.14 666.66,-181 670.32,-180.17 674.06,-179.06 677.74,-177.78\"/>\n<polygon fill=\"red\" stroke=\"red\" stroke-width=\"2\" points=\"679.18,-180.98 687.24,-174.1 676.65,-174.45 679.18,-180.98\"/>\n</g>\n<!-- s2&#45;a1 -->\n<g id=\"node9\" class=\"node\">\n<title>s2&#45;a1</title>\n<ellipse fill=\"lightpink\" stroke=\"lightpink\" cx=\"712.24\" cy=\"-77\" rx=\"27.65\" ry=\"27.65\"/>\n<text text-anchor=\"middle\" x=\"712.24\" y=\"-72\" font-family=\"Arial\" font-size=\"20.00\">a1</text>\n</g>\n<!-- s2&#45;&gt;s2&#45;a1 -->\n<g id=\"edge16\" class=\"edge\">\n<title>s2&#45;&gt;s2&#45;a1</title>\n<path fill=\"none\" stroke=\"red\" stroke-width=\"2\" d=\"M511.56,-162.48C519.79,-157.78 528.4,-153.09 536.66,-149 584.05,-125.51 641.04,-103.03 676.71,-89.62\"/>\n<polygon fill=\"red\" stroke=\"red\" stroke-width=\"2\" points=\"678.04,-92.86 686.18,-86.08 675.59,-86.3 678.04,-92.86\"/>\n</g>\n<!-- s0&#45;a1&#45;&gt;s2 -->\n<g id=\"edge5\" class=\"edge\">\n<title>s0&#45;a1&#45;&gt;s2</title>\n<path fill=\"none\" stroke=\"blue\" stroke-dasharray=\"5,2\" d=\"M243.7,-228.93C278.92,-223.43 343.22,-213.14 397.91,-203 400.75,-202.47 403.67,-201.92 406.61,-201.35\"/>\n<polygon fill=\"blue\" stroke=\"blue\" points=\"407.51,-204.74 416.66,-199.39 406.17,-197.87 407.51,-204.74\"/>\n<text text-anchor=\"middle\" x=\"329.91\" y=\"-230.2\" font-family=\"Arial\" font-size=\"16.00\">p = 1</text>\n</g>\n<!-- s1 -->\n<g id=\"node5\" class=\"node\">\n<title>s1</title>\n<ellipse fill=\"#85ff75\" stroke=\"#85ff75\" cx=\"886.19\" cy=\"-86\" rx=\"47.26\" ry=\"47.26\"/>\n<ellipse fill=\"none\" stroke=\"#85ff75\" cx=\"886.19\" cy=\"-86\" rx=\"51.25\" ry=\"51.25\"/>\n<text text-anchor=\"middle\" x=\"886.19\" y=\"-92.8\" font-family=\"Arial\" font-size=\"24.00\">s1</text>\n<text text-anchor=\"middle\" x=\"886.19\" y=\"-66.8\" font-family=\"Arial\" font-size=\"24.00\">V =0</text>\n</g>\n<!-- s1&#45;a0 -->\n<g id=\"node6\" class=\"node\">\n<title>s1&#45;a0</title>\n<ellipse fill=\"lightpink\" stroke=\"lightpink\" cx=\"1060.14\" cy=\"-62\" rx=\"27.65\" ry=\"27.65\"/>\n<text text-anchor=\"middle\" x=\"1060.14\" y=\"-57\" font-family=\"Arial\" font-size=\"20.00\">a0</text>\n</g>\n<!-- s1&#45;&gt;s1&#45;a0 -->\n<g id=\"edge6\" class=\"edge\">\n<title>s1&#45;&gt;s1&#45;a0</title>\n<path fill=\"none\" stroke=\"red\" stroke-width=\"2\" d=\"M937.58,-81.76C961.06,-79.46 989.33,-76.2 1014.57,-72 1017.26,-71.55 1020.04,-71.04 1022.82,-70.5\"/>\n<polygon fill=\"red\" stroke=\"red\" stroke-width=\"2\" points=\"1023.76,-73.88 1032.84,-68.41 1022.33,-67.02 1023.76,-73.88\"/>\n</g>\n<!-- s1&#45;a1 -->\n<g id=\"node7\" class=\"node\">\n<title>s1&#45;a1</title>\n<ellipse fill=\"lightpink\" stroke=\"lightpink\" cx=\"1060.14\" cy=\"-144\" rx=\"27.65\" ry=\"27.65\"/>\n<text text-anchor=\"middle\" x=\"1060.14\" y=\"-139\" font-family=\"Arial\" font-size=\"20.00\">a1</text>\n</g>\n<!-- s1&#45;&gt;s1&#45;a1 -->\n<g id=\"edge10\" class=\"edge\">\n<title>s1&#45;&gt;s1&#45;a1</title>\n<path fill=\"none\" stroke=\"red\" stroke-width=\"2\" d=\"M935.98,-99.62C959.86,-106.62 988.93,-115.64 1014.57,-125 1018.09,-126.29 1021.74,-127.7 1025.37,-129.16\"/>\n<polygon fill=\"red\" stroke=\"red\" stroke-width=\"2\" points=\"1024.23,-132.48 1034.8,-133.08 1026.91,-126.01 1024.23,-132.48\"/>\n</g>\n<!-- s1&#45;a0&#45;&gt;s0 -->\n<g id=\"edge7\" class=\"edge\">\n<title>s1&#45;a0&#45;&gt;s0</title>\n<path fill=\"none\" stroke=\"blue\" stroke-dasharray=\"5,2\" d=\"M1036.17,-47.93C1004.06,-29.64 943.36,0 887.19,0 215.33,0 215.33,0 215.33,0 165.66,0 120.62,-36.21 90.55,-68.17\"/>\n<polygon fill=\"blue\" stroke=\"blue\" points=\"87.78,-66.01 83.61,-75.75 92.94,-70.74 87.78,-66.01\"/>\n<text text-anchor=\"middle\" x=\"601.66\" y=\"-5.2\" font-family=\"Arial\" font-size=\"16.00\">p = 0.7 &#160;reward =5</text>\n</g>\n<!-- s1&#45;a0&#45;&gt;s2 -->\n<g id=\"edge9\" class=\"edge\">\n<title>s1&#45;a0&#45;&gt;s2</title>\n<path fill=\"none\" stroke=\"blue\" stroke-dasharray=\"5,2\" d=\"M1044.41,-84.86C1040.27,-91.81 1035.97,-99.58 1032.57,-107 1022.19,-129.61 1033.72,-144.12 1014.57,-160 873.83,-276.68 635.88,-234.29 526.48,-206.07\"/>\n<polygon fill=\"blue\" stroke=\"blue\" points=\"527.18,-202.64 516.62,-203.48 525.4,-209.41 527.18,-202.64\"/>\n<text text-anchor=\"middle\" x=\"787.31\" y=\"-242.2\" font-family=\"Arial\" font-size=\"16.00\">p = 0.2</text>\n</g>\n<!-- s1&#45;a0&#45;&gt;s1 -->\n<g id=\"edge8\" class=\"edge\">\n<title>s1&#45;a0&#45;&gt;s1</title>\n<path fill=\"none\" stroke=\"blue\" stroke-dasharray=\"5,2\" d=\"M1033.71,-54.07C1012.54,-48.65 981.75,-43.53 955.57,-50 950.27,-51.31 944.94,-53.11 939.71,-55.21\"/>\n<polygon fill=\"blue\" stroke=\"blue\" points=\"938.19,-52.05 930.44,-59.28 941.01,-58.46 938.19,-52.05\"/>\n<text text-anchor=\"middle\" x=\"985.07\" y=\"-55.2\" font-family=\"Arial\" font-size=\"16.00\">p = 0.1</text>\n</g>\n<!-- s1&#45;a1&#45;&gt;s2 -->\n<g id=\"edge12\" class=\"edge\">\n<title>s1&#45;a1&#45;&gt;s2</title>\n<path fill=\"none\" stroke=\"blue\" stroke-dasharray=\"5,2\" d=\"M1053.65,-171.13C1047.82,-192.2 1036.32,-220.12 1014.57,-234 835.53,-348.28 739.43,-297.24 536.66,-234 530.01,-231.92 523.39,-228.99 517.05,-225.61\"/>\n<polygon fill=\"blue\" stroke=\"blue\" points=\"518.38,-222.34 507.97,-220.37 514.88,-228.4 518.38,-222.34\"/>\n<text text-anchor=\"middle\" x=\"787.31\" y=\"-306.2\" font-family=\"Arial\" font-size=\"16.00\">p = 0.05</text>\n</g>\n<!-- s1&#45;a1&#45;&gt;s1 -->\n<g id=\"edge11\" class=\"edge\">\n<title>s1&#45;a1&#45;&gt;s1</title>\n<path fill=\"none\" stroke=\"blue\" stroke-dasharray=\"5,2\" d=\"M1032.62,-140.43C1011.36,-137.08 980.98,-131.19 955.57,-122 950.52,-120.18 945.38,-118.04 940.3,-115.74\"/>\n<polygon fill=\"blue\" stroke=\"blue\" points=\"941.79,-112.57 931.26,-111.45 938.79,-118.9 941.79,-112.57\"/>\n<text text-anchor=\"middle\" x=\"985.07\" y=\"-143.2\" font-family=\"Arial\" font-size=\"16.00\">p = 0.95</text>\n</g>\n<!-- s2&#45;a0&#45;&gt;s0 -->\n<g id=\"edge14\" class=\"edge\">\n<title>s2&#45;a0&#45;&gt;s0</title>\n<path fill=\"none\" stroke=\"blue\" stroke-dasharray=\"5,2\" d=\"M685.47,-153.78C679.35,-152.02 672.81,-150.3 666.66,-149 601.73,-135.23 584.82,-134.38 518.66,-129 373.47,-117.2 202.1,-115.56 113.03,-115.63\"/>\n<polygon fill=\"blue\" stroke=\"blue\" points=\"112.84,-112.13 102.84,-115.65 112.85,-119.13 112.84,-112.13\"/>\n<text text-anchor=\"middle\" x=\"329.91\" y=\"-127.2\" font-family=\"Arial\" font-size=\"16.00\">p = 0.4</text>\n</g>\n<!-- s2&#45;a0&#45;&gt;s2 -->\n<g id=\"edge15\" class=\"edge\">\n<title>s2&#45;a0&#45;&gt;s2</title>\n<path fill=\"none\" stroke=\"blue\" stroke-dasharray=\"5,2\" d=\"M684.86,-157.94C650.38,-153.45 588.28,-148.17 536.66,-159 532.18,-159.94 527.65,-161.19 523.14,-162.64\"/>\n<polygon fill=\"blue\" stroke=\"blue\" points=\"521.63,-159.47 513.39,-166.12 523.99,-166.06 521.63,-159.47\"/>\n<text text-anchor=\"middle\" x=\"601.66\" y=\"-164.2\" font-family=\"Arial\" font-size=\"16.00\">p = 0.6</text>\n</g>\n<!-- s2&#45;a1&#45;&gt;s0 -->\n<g id=\"edge17\" class=\"edge\">\n<title>s2&#45;a1&#45;&gt;s0</title>\n<path fill=\"none\" stroke=\"blue\" stroke-dasharray=\"5,2\" d=\"M688.53,-62C681.77,-58.32 674.16,-54.89 666.66,-53 610.63,-38.88 594.43,-51.84 536.66,-53 351.12,-56.71 299.47,-40.01 120.75,-90 116.94,-91.07 113.04,-92.26 109.14,-93.53\"/>\n<polygon fill=\"blue\" stroke=\"blue\" points=\"107.79,-90.29 99.45,-96.83 110.05,-96.92 107.79,-90.29\"/>\n<text text-anchor=\"middle\" x=\"329.91\" y=\"-65.2\" font-family=\"Arial\" font-size=\"16.00\">p = 0.3 &#160;reward =&#45;1</text>\n</g>\n<!-- s2&#45;a1&#45;&gt;s2 -->\n<g id=\"edge19\" class=\"edge\">\n<title>s2&#45;a1&#45;&gt;s2</title>\n<path fill=\"none\" stroke=\"blue\" stroke-dasharray=\"5,2\" d=\"M685.84,-68.74C649.98,-58.69 583.65,-46.15 536.66,-73 514.45,-85.69 498.73,-108.73 488.02,-130.94\"/>\n<polygon fill=\"blue\" stroke=\"blue\" points=\"484.83,-129.5 483.87,-140.05 491.2,-132.4 484.83,-129.5\"/>\n<text text-anchor=\"middle\" x=\"601.66\" y=\"-78.2\" font-family=\"Arial\" font-size=\"16.00\">p = 0.4</text>\n</g>\n<!-- s2&#45;a1&#45;&gt;s1 -->\n<g id=\"edge18\" class=\"edge\">\n<title>s2&#45;a1&#45;&gt;s1</title>\n<path fill=\"none\" stroke=\"blue\" stroke-dasharray=\"5,2\" d=\"M740.1,-78.41C762.66,-79.59 795.75,-81.32 824.63,-82.83\"/>\n<polygon fill=\"blue\" stroke=\"blue\" points=\"824.47,-86.33 834.64,-83.35 824.84,-79.34 824.47,-86.33\"/>\n<text text-anchor=\"middle\" x=\"787.31\" y=\"-88.2\" font-family=\"Arial\" font-size=\"16.00\">p = 0.3</text>\n</g>\n</g>\n</svg>\n",
            "text/plain": [
              "<graphviz.graphs.Digraph at 0x7914e19d8b90>"
            ]
          },
          "metadata": {}
        },
        {
          "output_type": "stream",
          "name": "stdout",
          "text": [
            "iter    0   |   diff: 3.50000   |   V(s0) = 0.000   V(s1) = 0.000   V(s2) = 0.000\n",
            "iter    1   |   diff: 0.64500   |   V(s0) = 0.000   V(s1) = 3.500   V(s2) = 0.000\n",
            "iter    2   |   diff: 0.58050   |   V(s0) = 0.000   V(s1) = 3.815   V(s2) = 0.645\n",
            "iter    3   |   diff: 0.43582   |   V(s0) = 0.581   V(s1) = 3.959   V(s2) = 0.962\n",
            "iter    4   |   diff: 0.30634   |   V(s0) = 0.866   V(s1) = 4.395   V(s2) = 1.272\n",
            "iter    5   |   diff: 0.27571   |   V(s0) = 1.145   V(s1) = 4.670   V(s2) = 1.579\n",
            "iter    6   |   diff: 0.24347   |   V(s0) = 1.421   V(s1) = 4.926   V(s2) = 1.838\n",
            "iter    7   |   diff: 0.21419   |   V(s0) = 1.655   V(s1) = 5.169   V(s2) = 2.075\n",
            "iter    8   |   diff: 0.19277   |   V(s0) = 1.868   V(s1) = 5.381   V(s2) = 2.290\n",
            "iter    9   |   diff: 0.17327   |   V(s0) = 2.061   V(s1) = 5.573   V(s2) = 2.481\n",
            "iter   10   |   diff: 0.15569   |   V(s0) = 2.233   V(s1) = 5.746   V(s2) = 2.654\n",
            "iter   11   |   diff: 0.14012   |   V(s0) = 2.389   V(s1) = 5.902   V(s2) = 2.810\n",
            "iter   12   |   diff: 0.12610   |   V(s0) = 2.529   V(s1) = 6.042   V(s2) = 2.950\n",
            "iter   13   |   diff: 0.11348   |   V(s0) = 2.655   V(s1) = 6.168   V(s2) = 3.076\n",
            "iter   14   |   diff: 0.10213   |   V(s0) = 2.769   V(s1) = 6.282   V(s2) = 3.190\n",
            "iter   15   |   diff: 0.09192   |   V(s0) = 2.871   V(s1) = 6.384   V(s2) = 3.292\n",
            "iter   16   |   diff: 0.08272   |   V(s0) = 2.963   V(s1) = 6.476   V(s2) = 3.384\n",
            "iter   17   |   diff: 0.07445   |   V(s0) = 3.045   V(s1) = 6.558   V(s2) = 3.467\n",
            "iter   18   |   diff: 0.06701   |   V(s0) = 3.120   V(s1) = 6.633   V(s2) = 3.541\n",
            "iter   19   |   diff: 0.06031   |   V(s0) = 3.187   V(s1) = 6.700   V(s2) = 3.608\n",
            "iter   20   |   diff: 0.05428   |   V(s0) = 3.247   V(s1) = 6.760   V(s2) = 3.668\n",
            "iter   21   |   diff: 0.04885   |   V(s0) = 3.301   V(s1) = 6.814   V(s2) = 3.723\n",
            "iter   22   |   diff: 0.04396   |   V(s0) = 3.350   V(s1) = 6.863   V(s2) = 3.771\n",
            "iter   23   |   diff: 0.03957   |   V(s0) = 3.394   V(s1) = 6.907   V(s2) = 3.815\n",
            "iter   24   |   diff: 0.03561   |   V(s0) = 3.434   V(s1) = 6.947   V(s2) = 3.855\n",
            "iter   25   |   diff: 0.03205   |   V(s0) = 3.469   V(s1) = 6.982   V(s2) = 3.891\n",
            "iter   26   |   diff: 0.02884   |   V(s0) = 3.502   V(s1) = 7.014   V(s2) = 3.923\n",
            "iter   27   |   diff: 0.02596   |   V(s0) = 3.530   V(s1) = 7.043   V(s2) = 3.951\n",
            "iter   28   |   diff: 0.02336   |   V(s0) = 3.556   V(s1) = 7.069   V(s2) = 3.977\n",
            "iter   29   |   diff: 0.02103   |   V(s0) = 3.580   V(s1) = 7.093   V(s2) = 4.001\n",
            "iter   30   |   diff: 0.01892   |   V(s0) = 3.601   V(s1) = 7.114   V(s2) = 4.022\n",
            "iter   31   |   diff: 0.01703   |   V(s0) = 3.620   V(s1) = 7.133   V(s2) = 4.041\n",
            "iter   32   |   diff: 0.01533   |   V(s0) = 3.637   V(s1) = 7.150   V(s2) = 4.058\n",
            "iter   33   |   diff: 0.01380   |   V(s0) = 3.652   V(s1) = 7.165   V(s2) = 4.073\n",
            "iter   34   |   diff: 0.01242   |   V(s0) = 3.666   V(s1) = 7.179   V(s2) = 4.087\n",
            "iter   35   |   diff: 0.01117   |   V(s0) = 3.678   V(s1) = 7.191   V(s2) = 4.099\n",
            "iter   36   |   diff: 0.01006   |   V(s0) = 3.689   V(s1) = 7.202   V(s2) = 4.110\n",
            "iter   37   |   diff: 0.00905   |   V(s0) = 3.699   V(s1) = 7.212   V(s2) = 4.121\n",
            "iter   38   |   diff: 0.00815   |   V(s0) = 3.708   V(s1) = 7.221   V(s2) = 4.130\n",
            "iter   39   |   diff: 0.00733   |   V(s0) = 3.717   V(s1) = 7.230   V(s2) = 4.138\n",
            "iter   40   |   diff: 0.00660   |   V(s0) = 3.724   V(s1) = 7.237   V(s2) = 4.145\n",
            "iter   41   |   diff: 0.00594   |   V(s0) = 3.731   V(s1) = 7.244   V(s2) = 4.152\n",
            "iter   42   |   diff: 0.00534   |   V(s0) = 3.736   V(s1) = 7.249   V(s2) = 4.158\n",
            "iter   43   |   diff: 0.00481   |   V(s0) = 3.742   V(s1) = 7.255   V(s2) = 4.163\n",
            "iter   44   |   diff: 0.00433   |   V(s0) = 3.747   V(s1) = 7.260   V(s2) = 4.168\n",
            "iter   45   |   diff: 0.00390   |   V(s0) = 3.751   V(s1) = 7.264   V(s2) = 4.172\n",
            "iter   46   |   diff: 0.00351   |   V(s0) = 3.755   V(s1) = 7.268   V(s2) = 4.176\n",
            "iter   47   |   diff: 0.00316   |   V(s0) = 3.758   V(s1) = 7.271   V(s2) = 4.179\n",
            "iter   48   |   diff: 0.00284   |   V(s0) = 3.762   V(s1) = 7.275   V(s2) = 4.183\n",
            "iter   49   |   diff: 0.00256   |   V(s0) = 3.764   V(s1) = 7.277   V(s2) = 4.185\n",
            "iter   50   |   diff: 0.00230   |   V(s0) = 3.767   V(s1) = 7.280   V(s2) = 4.188\n",
            "iter   51   |   diff: 0.00207   |   V(s0) = 3.769   V(s1) = 7.282   V(s2) = 4.190\n",
            "iter   52   |   diff: 0.00186   |   V(s0) = 3.771   V(s1) = 7.284   V(s2) = 4.192\n",
            "iter   53   |   diff: 0.00168   |   V(s0) = 3.773   V(s1) = 7.286   V(s2) = 4.194\n",
            "iter   54   |   diff: 0.00151   |   V(s0) = 3.775   V(s1) = 7.288   V(s2) = 4.196\n",
            "iter   55   |   diff: 0.00136   |   V(s0) = 3.776   V(s1) = 7.289   V(s2) = 4.197\n",
            "iter   56   |   diff: 0.00122   |   V(s0) = 3.778   V(s1) = 7.291   V(s2) = 4.199\n",
            "iter   57   |   diff: 0.00110   |   V(s0) = 3.779   V(s1) = 7.292   V(s2) = 4.200\n",
            "iter   58   |   diff: 0.00099   |   V(s0) = 3.780   V(s1) = 7.293   V(s2) = 4.201\n",
            "Terminated\n"
          ]
        },
        {
          "output_type": "stream",
          "name": "stderr",
          "text": [
            "/usr/local/lib/python3.12/dist-packages/jupyter_client/session.py:203: DeprecationWarning: datetime.datetime.utcnow() is deprecated and scheduled for removal in a future version. Use timezone-aware objects to represent datetimes in UTC: datetime.datetime.now(datetime.UTC).\n",
            "  return datetime.utcnow().replace(tzinfo=utc)\n"
          ]
        }
      ],
      "source": [
        "# parameters\n",
        "gamma = 0.9            # discount for MDP\n",
        "num_iter = 100         # maximum iterations, excluding initialization\n",
        "# stop VI if new values are this close to old values (or closer)\n",
        "min_difference = 0.001\n",
        "\n",
        "# initialize V(s)\n",
        "state_values = {s: 0 for s in mdp.get_all_states()}\n",
        "\n",
        "if has_graphviz:\n",
        "    display(plot_graph_with_state_values(mdp, state_values))\n",
        "\n",
        "for i in range(num_iter):\n",
        "\n",
        "    # Compute new state values using the functions you defined above.\n",
        "    # It must be a dict {state : float V_new(state)}\n",
        "    new_state_values = {s: get_new_state_value(mdp, state_values, s, gamma) for s in mdp.get_all_states()}\n",
        "\n",
        "    assert isinstance(new_state_values, dict)\n",
        "\n",
        "    # Compute difference\n",
        "    diff = max(abs(new_state_values[s] - state_values[s])\n",
        "               for s in mdp.get_all_states())\n",
        "    print(\"iter %4i   |   diff: %6.5f   |   \" % (i, diff), end=\"\")\n",
        "    print('   '.join(\"V(%s) = %.3f\" % (s, v) for s, v in state_values.items()))\n",
        "    state_values = new_state_values\n",
        "\n",
        "    if diff < min_difference:\n",
        "        print(\"Terminated\")\n",
        "        break"
      ]
    },
    {
      "cell_type": "code",
      "execution_count": null,
      "metadata": {
        "id": "JV_o8SefuRDy"
      },
      "outputs": [],
      "source": [
        "if has_graphviz:\n",
        "    display(plot_graph_with_state_values(mdp, state_values))"
      ]
    },
    {
      "cell_type": "code",
      "execution_count": null,
      "metadata": {
        "id": "GTrqNP2quRDy"
      },
      "outputs": [],
      "source": [
        "print(\"Final state values:\", state_values)\n",
        "\n",
        "assert abs(state_values['s0'] - 3.781) < 0.01\n",
        "assert abs(state_values['s1'] - 7.294) < 0.01\n",
        "assert abs(state_values['s2'] - 4.202) < 0.01"
      ]
    },
    {
      "cell_type": "markdown",
      "metadata": {
        "id": "8-g5uVLGuRDy"
      },
      "source": [
        "Now let's use those $V^{*}(s)$ to find optimal actions in each state\n",
        "\n",
        " $$\\pi^*(s) = argmax_a \\sum_{s'} P(s' | s,a) \\cdot [ r(s,a,s') + \\gamma V_{i}(s')] = argmax_a Q_i(s,a)$$\n",
        "\n",
        "The only difference vs V(s) is that here we take not max but argmax: find action such with maximum Q(s,a)."
      ]
    },
    {
      "cell_type": "code",
      "execution_count": null,
      "metadata": {
        "id": "85YOtNsLuRDz"
      },
      "outputs": [],
      "source": [
        "def get_optimal_action(mdp, state_values, state, gamma=0.9):\n",
        "    \"\"\" Finds optimal action using formula above. \"\"\"\n",
        "    if mdp.is_terminal(state):\n",
        "        return None\n",
        "\n",
        "    <YOUR CODE>\n",
        "\n",
        "    return <YOUR CODE>"
      ]
    },
    {
      "cell_type": "code",
      "execution_count": null,
      "metadata": {
        "id": "xZpw4Xa8uRDz"
      },
      "outputs": [],
      "source": [
        "assert get_optimal_action(mdp, state_values, 's0', gamma) == 'a1'\n",
        "assert get_optimal_action(mdp, state_values, 's1', gamma) == 'a0'\n",
        "assert get_optimal_action(mdp, state_values, 's2', gamma) == 'a1'\n",
        "\n",
        "assert get_optimal_action(mdp, {'s0': -1e10, 's1': 0, 's2': -2e10}, 's0', 0.9) == 'a0', \\\n",
        "    \"Please ensure that you handle negative Q-values of arbitrary magnitude correctly\"\n",
        "assert get_optimal_action(mdp, {'s0': -2e10, 's1': 0, 's2': -1e10}, 's0', 0.9) == 'a1', \\\n",
        "    \"Please ensure that you handle negative Q-values of arbitrary magnitude correctly\""
      ]
    },
    {
      "cell_type": "code",
      "execution_count": null,
      "metadata": {
        "id": "Zj44JIqzuRDz"
      },
      "outputs": [],
      "source": [
        "if has_graphviz:\n",
        "    display(plot_graph_optimal_strategy_and_state_values(mdp, state_values, get_action_value))"
      ]
    },
    {
      "cell_type": "code",
      "execution_count": null,
      "metadata": {
        "id": "VSSI38weuRDz"
      },
      "outputs": [],
      "source": [
        "# Measure agent's average reward\n",
        "\n",
        "s = mdp.reset()\n",
        "rewards = []\n",
        "for _ in range(10000):\n",
        "    s, r, done, _ = mdp.step(get_optimal_action(mdp, state_values, s, gamma))\n",
        "    rewards.append(r)\n",
        "\n",
        "print(\"average reward: \", np.mean(rewards))\n",
        "\n",
        "assert(0.40 < np.mean(rewards) < 0.55)"
      ]
    },
    {
      "cell_type": "markdown",
      "metadata": {
        "id": "NQn3kgFCuRDz"
      },
      "source": [
        "### Frozen lake"
      ]
    },
    {
      "cell_type": "code",
      "execution_count": null,
      "metadata": {
        "id": "bumIrPmwuRDz"
      },
      "outputs": [],
      "source": [
        "from mdp import FrozenLakeEnv\n",
        "mdp = FrozenLakeEnv(slip_chance=0)\n",
        "\n",
        "mdp.render()"
      ]
    },
    {
      "cell_type": "code",
      "execution_count": null,
      "metadata": {
        "id": "4if86YYguRDz"
      },
      "outputs": [],
      "source": [
        "def value_iteration(mdp, state_values=None, gamma=0.9, num_iter=1000, min_difference=1e-5):\n",
        "    \"\"\" performs num_iter value iteration steps starting from state_values. Same as before but in a function \"\"\"\n",
        "    state_values = state_values or {s: 0 for s in mdp.get_all_states()}\n",
        "    for i in range(num_iter):\n",
        "\n",
        "        # Compute new state values using the functions you defined above. It must be a dict {state : new_V(state)}\n",
        "        new_state_values = <YOUR CODE>\n",
        "\n",
        "        assert isinstance(new_state_values, dict)\n",
        "\n",
        "        # Compute difference\n",
        "        diff = max(abs(new_state_values[s] - state_values[s])\n",
        "                   for s in mdp.get_all_states())\n",
        "\n",
        "        print(\"iter %4i   |   diff: %6.5f   |   V(start): %.3f \" %\n",
        "              (i, diff, new_state_values[mdp._initial_state]))\n",
        "\n",
        "        state_values = new_state_values\n",
        "        if diff < min_difference:\n",
        "            break\n",
        "\n",
        "    return state_values"
      ]
    },
    {
      "cell_type": "code",
      "execution_count": null,
      "metadata": {
        "id": "m-aBA2vEuRD0"
      },
      "outputs": [],
      "source": [
        "state_values = value_iteration(mdp)"
      ]
    },
    {
      "cell_type": "code",
      "execution_count": null,
      "metadata": {
        "id": "j_yURshUuRD0"
      },
      "outputs": [],
      "source": [
        "s = mdp.reset()\n",
        "mdp.render()\n",
        "for t in range(100):\n",
        "    a = get_optimal_action(mdp, state_values, s, gamma)\n",
        "    print(a, end='\\n\\n')\n",
        "    s, r, done, _ = mdp.step(a)\n",
        "    mdp.render()\n",
        "    if done:\n",
        "        break"
      ]
    },
    {
      "cell_type": "markdown",
      "metadata": {
        "id": "ghrsIyfEuRD0"
      },
      "source": [
        "### Let's visualize!\n",
        "\n",
        "It's usually interesting to see what your algorithm actually learned under the hood. To do so, we'll plot state value functions and optimal actions at each VI step."
      ]
    },
    {
      "cell_type": "code",
      "execution_count": null,
      "metadata": {
        "id": "3o1r_ZwLuRD0"
      },
      "outputs": [],
      "source": [
        "import matplotlib.pyplot as plt\n",
        "%matplotlib inline\n",
        "\n",
        "\n",
        "def draw_policy(mdp, state_values):\n",
        "    plt.figure(figsize=(3, 3))\n",
        "    h, w = mdp.desc.shape\n",
        "    states = sorted(mdp.get_all_states())\n",
        "    V = np.array([state_values[s] for s in states])\n",
        "    Pi = {s: get_optimal_action(mdp, state_values, s, gamma) for s in states}\n",
        "    plt.imshow(V.reshape(w, h), cmap='gray', interpolation='none', clim=(0, 1))\n",
        "    ax = plt.gca()\n",
        "    ax.set_xticks(np.arange(h)-.5)\n",
        "    ax.set_yticks(np.arange(w)-.5)\n",
        "    ax.set_xticklabels([])\n",
        "    ax.set_yticklabels([])\n",
        "    Y, X = np.mgrid[0:4, 0:4]\n",
        "    a2uv = {'left': (-1, 0), 'down': (0, -1), 'right': (1, 0), 'up': (0, 1)}\n",
        "    for y in range(h):\n",
        "        for x in range(w):\n",
        "            plt.text(x, y, str(mdp.desc[y, x].item()),\n",
        "                     color='g', size=12,  verticalalignment='center',\n",
        "                     horizontalalignment='center', fontweight='bold')\n",
        "            a = Pi[y, x]\n",
        "            if a is None:\n",
        "                continue\n",
        "            u, v = a2uv[a]\n",
        "            plt.arrow(x, y, u*.3, -v*.3, color='m',\n",
        "                      head_width=0.1, head_length=0.1)\n",
        "    plt.grid(color='b', lw=2, ls='-')\n",
        "    plt.show()"
      ]
    },
    {
      "cell_type": "code",
      "execution_count": null,
      "metadata": {
        "id": "il3-iU4_uRD0"
      },
      "outputs": [],
      "source": [
        "state_values = {s: 0 for s in mdp.get_all_states()}\n",
        "\n",
        "for i in range(10):\n",
        "    print(\"after iteration %i\" % i)\n",
        "    state_values = value_iteration(mdp, state_values, num_iter=1)\n",
        "    draw_policy(mdp, state_values)\n",
        "# please ignore iter 0 at each step"
      ]
    },
    {
      "cell_type": "code",
      "execution_count": null,
      "metadata": {
        "id": "2DO4XN7MuRD1"
      },
      "outputs": [],
      "source": [
        "from IPython.display import clear_output\n",
        "from time import sleep\n",
        "mdp = FrozenLakeEnv(map_name='8x8', slip_chance=0.1)\n",
        "state_values = {s: 0 for s in mdp.get_all_states()}\n",
        "\n",
        "for i in range(30):\n",
        "    clear_output(True)\n",
        "    print(\"after iteration %i\" % i)\n",
        "    state_values = value_iteration(mdp, state_values, num_iter=1)\n",
        "    draw_policy(mdp, state_values)\n",
        "    sleep(0.5)\n",
        "# please ignore iter 0 at each step"
      ]
    },
    {
      "cell_type": "markdown",
      "metadata": {
        "id": "4vnR4JBcuRD1"
      },
      "source": [
        "Massive tests"
      ]
    },
    {
      "cell_type": "code",
      "execution_count": null,
      "metadata": {
        "id": "qqOTzk_VuRD1"
      },
      "outputs": [],
      "source": [
        "mdp = FrozenLakeEnv(slip_chance=0)\n",
        "state_values = value_iteration(mdp)\n",
        "\n",
        "total_rewards = []\n",
        "for game_i in range(1000):\n",
        "    s = mdp.reset()\n",
        "    rewards = []\n",
        "    for t in range(100):\n",
        "        s, r, done, _ = mdp.step(\n",
        "            get_optimal_action(mdp, state_values, s, gamma))\n",
        "        rewards.append(r)\n",
        "        if done:\n",
        "            break\n",
        "    total_rewards.append(np.sum(rewards))\n",
        "\n",
        "print(\"average reward: \", np.mean(total_rewards))\n",
        "assert(1.0 <= np.mean(total_rewards) <= 1.0)\n",
        "print(\"Well done!\")"
      ]
    },
    {
      "cell_type": "code",
      "execution_count": null,
      "metadata": {
        "id": "BJtirUH_uRD1"
      },
      "outputs": [],
      "source": [
        "# Measure agent's average reward\n",
        "mdp = FrozenLakeEnv(slip_chance=0.1)\n",
        "state_values = value_iteration(mdp)\n",
        "\n",
        "total_rewards = []\n",
        "for game_i in range(1000):\n",
        "    s = mdp.reset()\n",
        "    rewards = []\n",
        "    for t in range(100):\n",
        "        s, r, done, _ = mdp.step(\n",
        "            get_optimal_action(mdp, state_values, s, gamma))\n",
        "        rewards.append(r)\n",
        "        if done:\n",
        "            break\n",
        "    total_rewards.append(np.sum(rewards))\n",
        "\n",
        "print(\"average reward: \", np.mean(total_rewards))\n",
        "assert(0.8 <= np.mean(total_rewards) <= 0.95)\n",
        "print(\"Well done!\")"
      ]
    },
    {
      "cell_type": "code",
      "execution_count": null,
      "metadata": {
        "id": "Kp1dg3H8uRD5"
      },
      "outputs": [],
      "source": [
        "# Measure agent's average reward\n",
        "mdp = FrozenLakeEnv(slip_chance=0.25)\n",
        "state_values = value_iteration(mdp)\n",
        "\n",
        "total_rewards = []\n",
        "for game_i in range(1000):\n",
        "    s = mdp.reset()\n",
        "    rewards = []\n",
        "    for t in range(100):\n",
        "        s, r, done, _ = mdp.step(\n",
        "            get_optimal_action(mdp, state_values, s, gamma))\n",
        "        rewards.append(r)\n",
        "        if done:\n",
        "            break\n",
        "    total_rewards.append(np.sum(rewards))\n",
        "\n",
        "print(\"average reward: \", np.mean(total_rewards))\n",
        "assert(0.6 <= np.mean(total_rewards) <= 0.7)\n",
        "print(\"Well done!\")"
      ]
    },
    {
      "cell_type": "code",
      "execution_count": null,
      "metadata": {
        "id": "-46XKxvzuRD5"
      },
      "outputs": [],
      "source": [
        "# Measure agent's average reward\n",
        "mdp = FrozenLakeEnv(slip_chance=0.2, map_name='8x8')\n",
        "state_values = value_iteration(mdp)\n",
        "\n",
        "total_rewards = []\n",
        "for game_i in range(1000):\n",
        "    s = mdp.reset()\n",
        "    rewards = []\n",
        "    for t in range(100):\n",
        "        s, r, done, _ = mdp.step(\n",
        "            get_optimal_action(mdp, state_values, s, gamma))\n",
        "        rewards.append(r)\n",
        "        if done:\n",
        "            break\n",
        "    total_rewards.append(np.sum(rewards))\n",
        "\n",
        "print(\"average reward: \", np.mean(total_rewards))\n",
        "assert(0.6 <= np.mean(total_rewards) <= 0.8)\n",
        "print(\"Well done!\")"
      ]
    },
    {
      "cell_type": "markdown",
      "metadata": {
        "id": "ES4DnZfIuRD6"
      },
      "source": [
        "# HW Part 1: Value iteration convergence\n",
        "\n",
        "### Find an MDP for which value iteration takes long to converge  (1 pts)\n",
        "\n",
        "When we ran value iteration on the small frozen lake problem, the last iteration where an action changed was iteration 6--i.e., value iteration computed the optimal policy at iteration 6. Are there any guarantees regarding how many iterations it'll take value iteration to compute the optimal policy? There are no such guarantees without additional assumptions--we can construct the MDP in such a way that the greedy policy will change after arbitrarily many iterations.\n",
        "\n",
        "Your task: define an MDP with at most 3 states and 2 actions, such that when you run value iteration, the optimal action changes at iteration >= 50. Use discount=0.95. (However, note that the discount doesn't matter here--you can construct an appropriate MDP with any discount.)\n",
        "\n",
        "Note: value function must change at least once after iteration >=50, not necessarily change on every iteration till >=50."
      ]
    },
    {
      "cell_type": "code",
      "execution_count": null,
      "metadata": {
        "id": "0YJAo5meuRD6"
      },
      "outputs": [],
      "source": [
        "transition_probs = {\n",
        "    <YOUR CODE>\n",
        "}\n",
        "rewards = {\n",
        "    <YOUR CODE>\n",
        "}\n",
        "\n",
        "from mdp import MDP\n",
        "from numpy import random\n",
        "mdp = MDP(transition_probs, rewards, initial_state=random.choice(tuple(transition_probs.keys())))\n",
        "# Feel free to change the initial_state"
      ]
    },
    {
      "cell_type": "code",
      "execution_count": null,
      "metadata": {
        "id": "px_MduADuRD6"
      },
      "outputs": [],
      "source": [
        "state_values = {s: 0 for s in mdp.get_all_states()}\n",
        "policy = np.array([get_optimal_action(mdp, state_values, state, gamma)\n",
        "                   for state in sorted(mdp.get_all_states())])\n",
        "\n",
        "for i in range(100):\n",
        "    print(\"after iteration %i\" % i)\n",
        "    state_values = value_iteration(mdp, state_values, num_iter=1)\n",
        "\n",
        "    new_policy = np.array([get_optimal_action(mdp, state_values, state, gamma)\n",
        "                           for state in sorted(mdp.get_all_states())])\n",
        "\n",
        "    n_changes = (policy != new_policy).sum()\n",
        "    print(\"N actions changed = %i \\n\" % n_changes)\n",
        "    policy = new_policy\n",
        "\n",
        "# please ignore iter 0 at each step"
      ]
    },
    {
      "cell_type": "markdown",
      "metadata": {
        "id": "A7bLapOvuRD6"
      },
      "source": [
        "### Value iteration convervence proof (1 pts)\n",
        "**Note:** Assume that $\\mathcal{S}, \\mathcal{A}$ are finite.\n",
        "\n",
        "Update of value function in value iteration can be rewritten in a form of Bellman operator:\n",
        "\n",
        "$$(TV)(s) = \\max_{a \\in \\mathcal{A}}\\mathbb{E}\\left[ r_{t+1} + \\gamma V(s_{t+1}) | s_t = s, a_t = a\\right]$$\n",
        "\n",
        "Value iteration algorithm with Bellman operator:\n",
        "\n",
        "---\n",
        "&nbsp;&nbsp; Initialize $V_0$\n",
        "\n",
        "&nbsp;&nbsp; **for** $k = 0,1,2,...$ **do**\n",
        "\n",
        "&nbsp;&nbsp;&nbsp;&nbsp; $V_{k+1} \\leftarrow TV_k$\n",
        "\n",
        "&nbsp;&nbsp;**end for**\n",
        "\n",
        "---\n",
        "\n",
        "In [lecture](https://docs.google.com/presentation/d/1lz2oIUTvd2MHWKEQSH8hquS66oe4MZ_eRvVViZs2uuE/edit#slide=id.g4fd6bae29e_2_4) we established contraction property of bellman operator:\n",
        "\n",
        "$$\n",
        "||TV - TU||_{\\infty} \\le \\gamma ||V - U||_{\\infty}\n",
        "$$\n",
        "\n",
        "For all $V, U$\n",
        "\n",
        "Using contraction property of Bellman operator, Banach fixed-point theorem and Bellman equations prove that value function converges to $V^*$ in value iterateion$\n",
        "\n",
        "*<-- Your proof here -->*"
      ]
    },
    {
      "cell_type": "markdown",
      "metadata": {
        "id": "grNdy8M0uRD6"
      },
      "source": [
        "### Asynchronious value iteration (2 pts)\n",
        "\n",
        "Consider the following algorithm:\n",
        "\n",
        "---\n",
        "\n",
        "Initialize $V_0$\n",
        "\n",
        "**for** $k = 0,1,2,...$ **do**\n",
        "\n",
        "&nbsp;&nbsp;&nbsp;&nbsp; Select some state $s_k \\in \\mathcal{S}$    \n",
        "\n",
        "&nbsp;&nbsp;&nbsp;&nbsp; $V(s_k) := (TV)(s_k)$\n",
        "\n",
        "**end for**\n",
        "\n",
        "---\n",
        "\n",
        "\n",
        "Note that unlike common value iteration, here we update only a single state at a time.\n",
        "\n",
        "**Homework.** Prove the following proposition:\n",
        "\n",
        "If for all $s \\in \\mathcal{S}$, $s$ appears in the sequence $(s_0, s_1, ...)$ infinitely often, then $V$ converges to $V*$\n",
        "\n",
        "*<-- Your proof here -->*\n"
      ]
    },
    {
      "cell_type": "markdown",
      "metadata": {
        "id": "5w0i0ERFuRD6"
      },
      "source": [
        "# HW Part 2: Policy iteration\n",
        "\n",
        "## Policy iteration implementateion (3 pts)\n",
        "\n",
        "Let's implement exact policy iteration (PI), which has the following pseudocode:\n",
        "\n",
        "---\n",
        "Initialize $\\pi_0$   `// random or fixed action`\n",
        "\n",
        "For $n=0, 1, 2, \\dots$\n",
        "- Compute the state-value function $V^{\\pi_{n}}$\n",
        "- Using $V^{\\pi_{n}}$, compute the state-action-value function $Q^{\\pi_{n}}$\n",
        "- Compute new policy $\\pi_{n+1}(s) = \\operatorname*{argmax}_a Q^{\\pi_{n}}(s,a)$\n",
        "---\n",
        "\n",
        "Unlike VI, policy iteration has to maintain a policy - chosen actions from all states - and estimate $V^{\\pi_{n}}$ based on this policy. It only changes policy once values converged.\n",
        "\n",
        "\n",
        "Below are a few helpers that you may or may not use in your implementation."
      ]
    },
    {
      "cell_type": "code",
      "execution_count": null,
      "metadata": {
        "id": "0u1ejGrXuRD7"
      },
      "outputs": [],
      "source": [
        "transition_probs = {\n",
        "    's0': {\n",
        "        'a0': {'s0': 0.5, 's2': 0.5},\n",
        "        'a1': {'s2': 1}\n",
        "    },\n",
        "    's1': {\n",
        "        'a0': {'s0': 0.7, 's1': 0.1, 's2': 0.2},\n",
        "        'a1': {'s1': 0.95, 's2': 0.05}\n",
        "    },\n",
        "    's2': {\n",
        "        'a0': {'s0': 0.4, 's1': 0.6},\n",
        "        'a1': {'s0': 0.3, 's1': 0.3, 's2': 0.4}\n",
        "    }\n",
        "}\n",
        "rewards = {\n",
        "    's1': {'a0': {'s0': +5}},\n",
        "    's2': {'a1': {'s0': -1}}\n",
        "}\n",
        "\n",
        "from mdp import MDP\n",
        "mdp = MDP(transition_probs, rewards, initial_state='s0')"
      ]
    },
    {
      "cell_type": "markdown",
      "metadata": {
        "id": "OKbwHnjmuRD7"
      },
      "source": [
        "Let's write a function called `compute_vpi` that computes the state-value function $V^{\\pi}$ for an arbitrary policy $\\pi$.\n",
        "\n",
        "Unlike VI, this time you must find the exact solution, not just a single iteration.\n",
        "\n",
        "Recall that $V^{\\pi}$ satisfies the following linear equation:\n",
        "$$V^{\\pi}(s) = \\sum_{s'} P(s,\\pi(s),s')[ R(s,\\pi(s),s') + \\gamma V^{\\pi}(s')]$$\n",
        "\n",
        "You'll have to solve a linear system in your code. (Find an exact solution, e.g., with `np.linalg.solve`.)"
      ]
    },
    {
      "cell_type": "code",
      "execution_count": null,
      "metadata": {
        "id": "SEd-tQsIuRD7"
      },
      "outputs": [],
      "source": [
        "def compute_vpi(mdp, policy, gamma):\n",
        "    \"\"\"\n",
        "    Computes V^pi(s) FOR ALL STATES under given policy.\n",
        "    :param policy: a dict of currently chosen actions {s : a}\n",
        "    :returns: a dict {state : V^pi(state) for all states}\n",
        "    \"\"\"\n",
        "    <YOUR CODE>\n",
        "    return <YOUR CODE>"
      ]
    },
    {
      "cell_type": "code",
      "execution_count": null,
      "metadata": {
        "id": "_E5OAax4uRD7"
      },
      "outputs": [],
      "source": [
        "test_policy = {s: np.random.choice(\n",
        "    mdp.get_possible_actions(s)) for s in mdp.get_all_states()}\n",
        "new_vpi = compute_vpi(mdp, test_policy, gamma)\n",
        "\n",
        "print(new_vpi)\n",
        "\n",
        "assert type(\n",
        "    new_vpi) is dict, \"compute_vpi must return a dict {state : V^pi(state) for all states}\""
      ]
    },
    {
      "cell_type": "markdown",
      "metadata": {
        "id": "PpoufhwcuRD7"
      },
      "source": [
        "Once we've got new state values, it's time to update our policy."
      ]
    },
    {
      "cell_type": "code",
      "execution_count": null,
      "metadata": {
        "id": "-_PukA_GuRD7"
      },
      "outputs": [],
      "source": [
        "def compute_new_policy(mdp, vpi, gamma):\n",
        "    \"\"\"\n",
        "    Computes new policy as argmax of state values\n",
        "    :param vpi: a dict {state : V^pi(state) for all states}\n",
        "    :returns: a dict {state : optimal action for all states}\n",
        "    \"\"\"\n",
        "    <YOUR CODE>\n",
        "    return <YOUR CODE>"
      ]
    },
    {
      "cell_type": "code",
      "execution_count": null,
      "metadata": {
        "id": "wIyNJLQnuRD7"
      },
      "outputs": [],
      "source": [
        "new_policy = compute_new_policy(mdp, new_vpi, gamma)\n",
        "\n",
        "print(new_policy)\n",
        "\n",
        "assert type(\n",
        "    new_policy) is dict, \"compute_new_policy must return a dict {state : optimal action for all states}\""
      ]
    },
    {
      "cell_type": "markdown",
      "metadata": {
        "id": "ui_TdWP7uRD7"
      },
      "source": [
        "__Main loop__"
      ]
    },
    {
      "cell_type": "code",
      "execution_count": null,
      "metadata": {
        "id": "aN0jXeSCuRD8"
      },
      "outputs": [],
      "source": [
        "def policy_iteration(mdp, policy=None, gamma=0.9, num_iter=1000, min_difference=1e-5):\n",
        "    \"\"\"\n",
        "    Run the policy iteration loop for num_iter iterations or till difference between V(s) is below min_difference.\n",
        "    If policy is not given, initialize it at random.\n",
        "    \"\"\"\n",
        "    <YOUR CODE: a whole lot of it>\n",
        "\n",
        "    return state_values, policy"
      ]
    },
    {
      "cell_type": "markdown",
      "metadata": {
        "id": "1L2OXLDquRD8"
      },
      "source": [
        "__Your PI Results__"
      ]
    },
    {
      "cell_type": "code",
      "execution_count": null,
      "metadata": {
        "id": "mk-z1XucuRD8"
      },
      "outputs": [],
      "source": [
        "<YOUR CODE: compare PI and VI on the MDP from bonus 1, then on small & large FrozenLake>"
      ]
    },
    {
      "cell_type": "markdown",
      "metadata": {
        "id": "qVOvVwV4uRD8"
      },
      "source": [
        "## Policy iteration convergence (3 pts)\n",
        "\n",
        "**Note:** Assume that $\\mathcal{S}, \\mathcal{A}$ are finite.\n",
        "\n",
        "We can define another Bellman operator:\n",
        "\n",
        "$$(T_{\\pi}V)(s) = \\mathbb{E}_{r, s'|s, a = \\pi(s)}\\left[r + \\gamma V(s')\\right]$$\n",
        "\n",
        "And rewrite policy iteration algorithm in operator form:\n",
        "\n",
        "\n",
        "---\n",
        "\n",
        "Initialize $\\pi_0$\n",
        "\n",
        "**for** $k = 0,1,2,...$ **do**\n",
        "\n",
        "&nbsp;&nbsp;&nbsp;&nbsp; Solve $V_k = T_{\\pi_k}V_k$   \n",
        "\n",
        "&nbsp;&nbsp;&nbsp;&nbsp; Select $\\pi_{k+1}$ s.t. $T_{\\pi_{k+1}}V_k = TV_k$\n",
        "\n",
        "**end for**\n",
        "\n",
        "---\n",
        "\n",
        "To prove convergence of the algorithm we need to prove two properties: contraction an monotonicity.\n",
        "\n",
        "#### Monotonicity (0.5 pts)\n",
        "\n",
        "For all $V, U$ if $V(s) \\le U(s)$   $\\forall s \\in \\mathcal{S}$ then $(T_\\pi V)(s) \\le (T_\\pi U)(s)$   $\\forall s \\in  \\mathcal{S}$\n",
        "\n",
        "*<-- Your proof here -->*\n",
        "\n",
        "#### Contraction (1 pts)\n",
        "\n",
        "$$\n",
        "||T_\\pi V - T_\\pi U||_{\\infty} \\le \\gamma ||V - U||_{\\infty}\n",
        "$$\n",
        "\n",
        "For all $V, U$\n",
        "\n",
        "*<-- Your proof here -->*\n",
        "\n",
        "#### Convergence (1.5 pts)\n",
        "\n",
        "Prove that there exists iteration $k_0$ such that $\\pi_k = \\pi^*$ for all $k \\ge k_0$\n",
        "\n",
        "*<-- Your proof here -->*"
      ]
    }
  ],
  "metadata": {
    "kernelspec": {
      "display_name": "Python 3",
      "language": "python",
      "name": "python3"
    },
    "language_info": {
      "codemirror_mode": {
        "name": "ipython",
        "version": 3
      },
      "file_extension": ".py",
      "mimetype": "text/x-python",
      "name": "python",
      "nbconvert_exporter": "python",
      "pygments_lexer": "ipython3",
      "version": "3.8.10"
    },
    "colab": {
      "provenance": [],
      "include_colab_link": true
    }
  },
  "nbformat": 4,
  "nbformat_minor": 0
}