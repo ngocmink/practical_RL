{
  "cells": [
    {
      "cell_type": "markdown",
      "metadata": {
        "id": "I_i1q1TWG9zH"
      },
      "source": [
        "# Deep Crossentropy method\n",
        "\n",
        "In this section we'll extend your CEM implementation with neural networks! You will train a multi-layer neural network to solve simple continuous state space games. __Please make sure you're done with tabular crossentropy method from the previous notebook.__\n",
        "\n",
        "![img](https://watanimg.elwatannews.com/old_news_images/large/249765_Large_20140709045740_11.jpg)\n",
        "\n"
      ]
    },
    {
      "cell_type": "code",
      "execution_count": 1,
      "metadata": {
        "id": "t4CJ1sRyG9zJ",
        "outputId": "83e79944-2ef6-4534-efda-891d5a304b67",
        "colab": {
          "base_uri": "https://localhost:8080/"
        }
      },
      "outputs": [
        {
          "output_type": "stream",
          "name": "stdout",
          "text": [
            "W: Skipping acquire of configured file 'main/source/Sources' as repository 'https://r2u.stat.illinois.edu/ubuntu jammy InRelease' does not seem to provide it (sources.list entry misspelt?)\n",
            "Starting virtual X frame buffer: Xvfb.\n"
          ]
        }
      ],
      "source": [
        "import sys, os\n",
        "if 'google.colab' in sys.modules and not os.path.exists('.setup_complete'):\n",
        "    !wget -q https://raw.githubusercontent.com/yandexdataschool/Practical_RL/master/setup_colab.sh -O- | bash\n",
        "    !touch .setup_complete\n",
        "\n",
        "# This code creates a virtual display to draw game images on.\n",
        "# It will have no effect if your machine has a monitor.\n",
        "if type(os.environ.get(\"DISPLAY\")) is not str or len(os.environ.get(\"DISPLAY\")) == 0:\n",
        "    !bash ../xvfb start\n",
        "    os.environ['DISPLAY'] = ':1'"
      ]
    },
    {
      "cell_type": "code",
      "execution_count": 2,
      "metadata": {
        "id": "C2xd5vPwPVCb",
        "outputId": "35ce9d9f-c225-437e-ca22-c9bd08a8895e",
        "colab": {
          "base_uri": "https://localhost:8080/"
        }
      },
      "outputs": [
        {
          "output_type": "stream",
          "name": "stdout",
          "text": [
            "Requirement already satisfied: gymnasium[classic_control,toy_text] in /usr/local/lib/python3.12/dist-packages (1.2.0)\n",
            "Requirement already satisfied: numpy>=1.21.0 in /usr/local/lib/python3.12/dist-packages (from gymnasium[classic_control,toy_text]) (2.0.2)\n",
            "Requirement already satisfied: cloudpickle>=1.2.0 in /usr/local/lib/python3.12/dist-packages (from gymnasium[classic_control,toy_text]) (3.1.1)\n",
            "Requirement already satisfied: typing-extensions>=4.3.0 in /usr/local/lib/python3.12/dist-packages (from gymnasium[classic_control,toy_text]) (4.15.0)\n",
            "Requirement already satisfied: farama-notifications>=0.0.1 in /usr/local/lib/python3.12/dist-packages (from gymnasium[classic_control,toy_text]) (0.0.4)\n",
            "Requirement already satisfied: pygame>=2.1.3 in /usr/local/lib/python3.12/dist-packages (from gymnasium[classic_control,toy_text]) (2.6.1)\n"
          ]
        }
      ],
      "source": [
        "# Install gymnasium if you didn't\n",
        "!pip install \"gymnasium[toy_text,classic_control]\""
      ]
    },
    {
      "cell_type": "code",
      "execution_count": 3,
      "metadata": {
        "id": "_2zbc7ahG9zK",
        "outputId": "5b2c7356-499a-4ae3-9d1a-8ed44dfa95d1",
        "colab": {
          "base_uri": "https://localhost:8080/",
          "height": 488
        }
      },
      "outputs": [
        {
          "output_type": "stream",
          "name": "stderr",
          "text": [
            "/usr/local/lib/python3.12/dist-packages/gymnasium/envs/registration.py:512: DeprecationWarning: \u001b[33mWARN: The environment CartPole-v0 is out of date. You should consider upgrading to version `v1`.\u001b[0m\n",
            "  logger.deprecation(\n"
          ]
        },
        {
          "output_type": "stream",
          "name": "stdout",
          "text": [
            "state vector dim = 4\n",
            "n_actions = 2\n"
          ]
        },
        {
          "output_type": "display_data",
          "data": {
            "text/plain": [
              "<Figure size 640x480 with 1 Axes>"
            ],
            "image/png": "[encoded data removed]"
          },
          "metadata": {}
        }
      ],
      "source": [
        "import gymnasium as gym\n",
        "import numpy as np\n",
        "import matplotlib.pyplot as plt\n",
        "%matplotlib inline\n",
        "\n",
        "# if you see \"<classname> has no attribute .env\", remove .env or update gym\n",
        "env = gym.make(\"CartPole-v0\", render_mode=\"rgb_array\").env\n",
        "\n",
        "env.reset()\n",
        "n_actions = env.action_space.n\n",
        "state_dim = env.observation_space.shape[0]\n",
        "\n",
        "plt.imshow(env.render())\n",
        "print(\"state vector dim =\", state_dim)\n",
        "print(\"n_actions =\", n_actions)\n",
        "\n",
        "env.close()"
      ]
    },
    {
      "cell_type": "markdown",
      "metadata": {
        "id": "Z72_alhdG9zK"
      },
      "source": [
        "# Neural Network Policy\n",
        "\n",
        "For this assignment we'll utilize the simplified neural network implementation from __[Scikit-learn](https://scikit-learn.org/stable/modules/generated/sklearn.neural_network.MLPClassifier.html)__. Here's what you'll need:\n",
        "\n",
        "* `agent.partial_fit(states, actions)` - make a single training pass over the data. Maximize the probability of :actions: from :states:\n",
        "* `agent.predict_proba(states)` - predict probabilities of all actions, a matrix of shape __[len(states), n_actions]__\n"
      ]
    },
    {
      "cell_type": "code",
      "execution_count": 4,
      "metadata": {
        "id": "wLItY4unG9zL",
        "outputId": "429e2af8-e268-4e78-d9ec-c4907eda3854",
        "colab": {
          "base_uri": "https://localhost:8080/",
          "height": 80
        }
      },
      "outputs": [
        {
          "output_type": "execute_result",
          "data": {
            "text/plain": [
              "MLPClassifier(activation='tanh', hidden_layer_sizes=(20, 20))"
            ],
            "text/html": [
              "<style>#sk-container-id-1 {\n",
              "  /* Definition of color scheme common for light and dark mode */\n",
              "  --sklearn-color-text: #000;\n",
              "  --sklearn-color-text-muted: #666;\n",
              "  --sklearn-color-line: gray;\n",
              "  /* Definition of color scheme for unfitted estimators */\n",
              "  --sklearn-color-unfitted-level-0: #fff5e6;\n",
              "  --sklearn-color-unfitted-level-1: #f6e4d2;\n",
              "  --sklearn-color-unfitted-level-2: #ffe0b3;\n",
              "  --sklearn-color-unfitted-level-3: chocolate;\n",
              "  /* Definition of color scheme for fitted estimators */\n",
              "  --sklearn-color-fitted-level-0: #f0f8ff;\n",
              "  --sklearn-color-fitted-level-1: #d4ebff;\n",
              "  --sklearn-color-fitted-level-2: #b3dbfd;\n",
              "  --sklearn-color-fitted-level-3: cornflowerblue;\n",
              "\n",
              "  /* Specific color for light theme */\n",
              "  --sklearn-color-text-on-default-background: var(--sg-text-color, var(--theme-code-foreground, var(--jp-content-font-color1, black)));\n",
              "  --sklearn-color-background: var(--sg-background-color, var(--theme-background, var(--jp-layout-color0, white)));\n",
              "  --sklearn-color-border-box: var(--sg-text-color, var(--theme-code-foreground, var(--jp-content-font-color1, black)));\n",
              "  --sklearn-color-icon: #696969;\n",
              "\n",
              "  @media (prefers-color-scheme: dark) {\n",
              "    /* Redefinition of color scheme for dark theme */\n",
              "    --sklearn-color-text-on-default-background: var(--sg-text-color, var(--theme-code-foreground, var(--jp-content-font-color1, white)));\n",
              "    --sklearn-color-background: var(--sg-background-color, var(--theme-background, var(--jp-layout-color0, #111)));\n",
              "    --sklearn-color-border-box: var(--sg-text-color, var(--theme-code-foreground, var(--jp-content-font-color1, white)));\n",
              "    --sklearn-color-icon: #878787;\n",
              "  }\n",
              "}\n",
              "\n",
              "#sk-container-id-1 {\n",
              "  color: var(--sklearn-color-text);\n",
              "}\n",
              "\n",
              "#sk-container-id-1 pre {\n",
              "  padding: 0;\n",
              "}\n",
              "\n",
              "#sk-container-id-1 input.sk-hidden--visually {\n",
              "  border: 0;\n",
              "  clip: rect(1px 1px 1px 1px);\n",
              "  clip: rect(1px, 1px, 1px, 1px);\n",
              "  height: 1px;\n",
              "  margin: -1px;\n",
              "  overflow: hidden;\n",
              "  padding: 0;\n",
              "  position: absolute;\n",
              "  width: 1px;\n",
              "}\n",
              "\n",
              "#sk-container-id-1 div.sk-dashed-wrapped {\n",
              "  border: 1px dashed var(--sklearn-color-line);\n",
              "  margin: 0 0.4em 0.5em 0.4em;\n",
              "  box-sizing: border-box;\n",
              "  padding-bottom: 0.4em;\n",
              "  background-color: var(--sklearn-color-background);\n",
              "}\n",
              "\n",
              "#sk-container-id-1 div.sk-container {\n",
              "  /* jupyter's `normalize.less` sets `[hidden] { display: none; }`\n",
              "     but bootstrap.min.css set `[hidden] { display: none !important; }`\n",
              "     so we also need the `!important` here to be able to override the\n",
              "     default hidden behavior on the sphinx rendered scikit-learn.org.\n",
              "     See: https://github.com/scikit-learn/scikit-learn/issues/21755 */\n",
              "  display: inline-block !important;\n",
              "  position: relative;\n",
              "}\n",
              "\n",
              "#sk-container-id-1 div.sk-text-repr-fallback {\n",
              "  display: none;\n",
              "}\n",
              "\n",
              "div.sk-parallel-item,\n",
              "div.sk-serial,\n",
              "div.sk-item {\n",
              "  /* draw centered vertical line to link estimators */\n",
              "  background-image: linear-gradient(var(--sklearn-color-text-on-default-background), var(--sklearn-color-text-on-default-background));\n",
              "  background-size: 2px 100%;\n",
              "  background-repeat: no-repeat;\n",
              "  background-position: center center;\n",
              "}\n",
              "\n",
              "/* Parallel-specific style estimator block */\n",
              "\n",
              "#sk-container-id-1 div.sk-parallel-item::after {\n",
              "  content: \"\";\n",
              "  width: 100%;\n",
              "  border-bottom: 2px solid var(--sklearn-color-text-on-default-background);\n",
              "  flex-grow: 1;\n",
              "}\n",
              "\n",
              "#sk-container-id-1 div.sk-parallel {\n",
              "  display: flex;\n",
              "  align-items: stretch;\n",
              "  justify-content: center;\n",
              "  background-color: var(--sklearn-color-background);\n",
              "  position: relative;\n",
              "}\n",
              "\n",
              "#sk-container-id-1 div.sk-parallel-item {\n",
              "  display: flex;\n",
              "  flex-direction: column;\n",
              "}\n",
              "\n",
              "#sk-container-id-1 div.sk-parallel-item:first-child::after {\n",
              "  align-self: flex-end;\n",
              "  width: 50%;\n",
              "}\n",
              "\n",
              "#sk-container-id-1 div.sk-parallel-item:last-child::after {\n",
              "  align-self: flex-start;\n",
              "  width: 50%;\n",
              "}\n",
              "\n",
              "#sk-container-id-1 div.sk-parallel-item:only-child::after {\n",
              "  width: 0;\n",
              "}\n",
              "\n",
              "/* Serial-specific style estimator block */\n",
              "\n",
              "#sk-container-id-1 div.sk-serial {\n",
              "  display: flex;\n",
              "  flex-direction: column;\n",
              "  align-items: center;\n",
              "  background-color: var(--sklearn-color-background);\n",
              "  padding-right: 1em;\n",
              "  padding-left: 1em;\n",
              "}\n",
              "\n",
              "\n",
              "/* Toggleable style: style used for estimator/Pipeline/ColumnTransformer box that is\n",
              "clickable and can be expanded/collapsed.\n",
              "- Pipeline and ColumnTransformer use this feature and define the default style\n",
              "- Estimators will overwrite some part of the style using the `sk-estimator` class\n",
              "*/\n",
              "\n",
              "/* Pipeline and ColumnTransformer style (default) */\n",
              "\n",
              "#sk-container-id-1 div.sk-toggleable {\n",
              "  /* Default theme specific background. It is overwritten whether we have a\n",
              "  specific estimator or a Pipeline/ColumnTransformer */\n",
              "  background-color: var(--sklearn-color-background);\n",
              "}\n",
              "\n",
              "/* Toggleable label */\n",
              "#sk-container-id-1 label.sk-toggleable__label {\n",
              "  cursor: pointer;\n",
              "  display: flex;\n",
              "  width: 100%;\n",
              "  margin-bottom: 0;\n",
              "  padding: 0.5em;\n",
              "  box-sizing: border-box;\n",
              "  text-align: center;\n",
              "  align-items: start;\n",
              "  justify-content: space-between;\n",
              "  gap: 0.5em;\n",
              "}\n",
              "\n",
              "#sk-container-id-1 label.sk-toggleable__label .caption {\n",
              "  font-size: 0.6rem;\n",
              "  font-weight: lighter;\n",
              "  color: var(--sklearn-color-text-muted);\n",
              "}\n",
              "\n",
              "#sk-container-id-1 label.sk-toggleable__label-arrow:before {\n",
              "  /* Arrow on the left of the label */\n",
              "  content: \"▸\";\n",
              "  float: left;\n",
              "  margin-right: 0.25em;\n",
              "  color: var(--sklearn-color-icon);\n",
              "}\n",
              "\n",
              "#sk-container-id-1 label.sk-toggleable__label-arrow:hover:before {\n",
              "  color: var(--sklearn-color-text);\n",
              "}\n",
              "\n",
              "/* Toggleable content - dropdown */\n",
              "\n",
              "#sk-container-id-1 div.sk-toggleable__content {\n",
              "  max-height: 0;\n",
              "  max-width: 0;\n",
              "  overflow: hidden;\n",
              "  text-align: left;\n",
              "  /* unfitted */\n",
              "  background-color: var(--sklearn-color-unfitted-level-0);\n",
              "}\n",
              "\n",
              "#sk-container-id-1 div.sk-toggleable__content.fitted {\n",
              "  /* fitted */\n",
              "  background-color: var(--sklearn-color-fitted-level-0);\n",
              "}\n",
              "\n",
              "#sk-container-id-1 div.sk-toggleable__content pre {\n",
              "  margin: 0.2em;\n",
              "  border-radius: 0.25em;\n",
              "  color: var(--sklearn-color-text);\n",
              "  /* unfitted */\n",
              "  background-color: var(--sklearn-color-unfitted-level-0);\n",
              "}\n",
              "\n",
              "#sk-container-id-1 div.sk-toggleable__content.fitted pre {\n",
              "  /* unfitted */\n",
              "  background-color: var(--sklearn-color-fitted-level-0);\n",
              "}\n",
              "\n",
              "#sk-container-id-1 input.sk-toggleable__control:checked~div.sk-toggleable__content {\n",
              "  /* Expand drop-down */\n",
              "  max-height: 200px;\n",
              "  max-width: 100%;\n",
              "  overflow: auto;\n",
              "}\n",
              "\n",
              "#sk-container-id-1 input.sk-toggleable__control:checked~label.sk-toggleable__label-arrow:before {\n",
              "  content: \"▾\";\n",
              "}\n",
              "\n",
              "/* Pipeline/ColumnTransformer-specific style */\n",
              "\n",
              "#sk-container-id-1 div.sk-label input.sk-toggleable__control:checked~label.sk-toggleable__label {\n",
              "  color: var(--sklearn-color-text);\n",
              "  background-color: var(--sklearn-color-unfitted-level-2);\n",
              "}\n",
              "\n",
              "#sk-container-id-1 div.sk-label.fitted input.sk-toggleable__control:checked~label.sk-toggleable__label {\n",
              "  background-color: var(--sklearn-color-fitted-level-2);\n",
              "}\n",
              "\n",
              "/* Estimator-specific style */\n",
              "\n",
              "/* Colorize estimator box */\n",
              "#sk-container-id-1 div.sk-estimator input.sk-toggleable__control:checked~label.sk-toggleable__label {\n",
              "  /* unfitted */\n",
              "  background-color: var(--sklearn-color-unfitted-level-2);\n",
              "}\n",
              "\n",
              "#sk-container-id-1 div.sk-estimator.fitted input.sk-toggleable__control:checked~label.sk-toggleable__label {\n",
              "  /* fitted */\n",
              "  background-color: var(--sklearn-color-fitted-level-2);\n",
              "}\n",
              "\n",
              "#sk-container-id-1 div.sk-label label.sk-toggleable__label,\n",
              "#sk-container-id-1 div.sk-label label {\n",
              "  /* The background is the default theme color */\n",
              "  color: var(--sklearn-color-text-on-default-background);\n",
              "}\n",
              "\n",
              "/* On hover, darken the color of the background */\n",
              "#sk-container-id-1 div.sk-label:hover label.sk-toggleable__label {\n",
              "  color: var(--sklearn-color-text);\n",
              "  background-color: var(--sklearn-color-unfitted-level-2);\n",
              "}\n",
              "\n",
              "/* Label box, darken color on hover, fitted */\n",
              "#sk-container-id-1 div.sk-label.fitted:hover label.sk-toggleable__label.fitted {\n",
              "  color: var(--sklearn-color-text);\n",
              "  background-color: var(--sklearn-color-fitted-level-2);\n",
              "}\n",
              "\n",
              "/* Estimator label */\n",
              "\n",
              "#sk-container-id-1 div.sk-label label {\n",
              "  font-family: monospace;\n",
              "  font-weight: bold;\n",
              "  display: inline-block;\n",
              "  line-height: 1.2em;\n",
              "}\n",
              "\n",
              "#sk-container-id-1 div.sk-label-container {\n",
              "  text-align: center;\n",
              "}\n",
              "\n",
              "/* Estimator-specific */\n",
              "#sk-container-id-1 div.sk-estimator {\n",
              "  font-family: monospace;\n",
              "  border: 1px dotted var(--sklearn-color-border-box);\n",
              "  border-radius: 0.25em;\n",
              "  box-sizing: border-box;\n",
              "  margin-bottom: 0.5em;\n",
              "  /* unfitted */\n",
              "  background-color: var(--sklearn-color-unfitted-level-0);\n",
              "}\n",
              "\n",
              "#sk-container-id-1 div.sk-estimator.fitted {\n",
              "  /* fitted */\n",
              "  background-color: var(--sklearn-color-fitted-level-0);\n",
              "}\n",
              "\n",
              "/* on hover */\n",
              "#sk-container-id-1 div.sk-estimator:hover {\n",
              "  /* unfitted */\n",
              "  background-color: var(--sklearn-color-unfitted-level-2);\n",
              "}\n",
              "\n",
              "#sk-container-id-1 div.sk-estimator.fitted:hover {\n",
              "  /* fitted */\n",
              "  background-color: var(--sklearn-color-fitted-level-2);\n",
              "}\n",
              "\n",
              "/* Specification for estimator info (e.g. \"i\" and \"?\") */\n",
              "\n",
              "/* Common style for \"i\" and \"?\" */\n",
              "\n",
              ".sk-estimator-doc-link,\n",
              "a:link.sk-estimator-doc-link,\n",
              "a:visited.sk-estimator-doc-link {\n",
              "  float: right;\n",
              "  font-size: smaller;\n",
              "  line-height: 1em;\n",
              "  font-family: monospace;\n",
              "  background-color: var(--sklearn-color-background);\n",
              "  border-radius: 1em;\n",
              "  height: 1em;\n",
              "  width: 1em;\n",
              "  text-decoration: none !important;\n",
              "  margin-left: 0.5em;\n",
              "  text-align: center;\n",
              "  /* unfitted */\n",
              "  border: var(--sklearn-color-unfitted-level-1) 1pt solid;\n",
              "  color: var(--sklearn-color-unfitted-level-1);\n",
              "}\n",
              "\n",
              ".sk-estimator-doc-link.fitted,\n",
              "a:link.sk-estimator-doc-link.fitted,\n",
              "a:visited.sk-estimator-doc-link.fitted {\n",
              "  /* fitted */\n",
              "  border: var(--sklearn-color-fitted-level-1) 1pt solid;\n",
              "  color: var(--sklearn-color-fitted-level-1);\n",
              "}\n",
              "\n",
              "/* On hover */\n",
              "div.sk-estimator:hover .sk-estimator-doc-link:hover,\n",
              ".sk-estimator-doc-link:hover,\n",
              "div.sk-label-container:hover .sk-estimator-doc-link:hover,\n",
              ".sk-estimator-doc-link:hover {\n",
              "  /* unfitted */\n",
              "  background-color: var(--sklearn-color-unfitted-level-3);\n",
              "  color: var(--sklearn-color-background);\n",
              "  text-decoration: none;\n",
              "}\n",
              "\n",
              "div.sk-estimator.fitted:hover .sk-estimator-doc-link.fitted:hover,\n",
              ".sk-estimator-doc-link.fitted:hover,\n",
              "div.sk-label-container:hover .sk-estimator-doc-link.fitted:hover,\n",
              ".sk-estimator-doc-link.fitted:hover {\n",
              "  /* fitted */\n",
              "  background-color: var(--sklearn-color-fitted-level-3);\n",
              "  color: var(--sklearn-color-background);\n",
              "  text-decoration: none;\n",
              "}\n",
              "\n",
              "/* Span, style for the box shown on hovering the info icon */\n",
              ".sk-estimator-doc-link span {\n",
              "  display: none;\n",
              "  z-index: 9999;\n",
              "  position: relative;\n",
              "  font-weight: normal;\n",
              "  right: .2ex;\n",
              "  padding: .5ex;\n",
              "  margin: .5ex;\n",
              "  width: min-content;\n",
              "  min-width: 20ex;\n",
              "  max-width: 50ex;\n",
              "  color: var(--sklearn-color-text);\n",
              "  box-shadow: 2pt 2pt 4pt #999;\n",
              "  /* unfitted */\n",
              "  background: var(--sklearn-color-unfitted-level-0);\n",
              "  border: .5pt solid var(--sklearn-color-unfitted-level-3);\n",
              "}\n",
              "\n",
              ".sk-estimator-doc-link.fitted span {\n",
              "  /* fitted */\n",
              "  background: var(--sklearn-color-fitted-level-0);\n",
              "  border: var(--sklearn-color-fitted-level-3);\n",
              "}\n",
              "\n",
              ".sk-estimator-doc-link:hover span {\n",
              "  display: block;\n",
              "}\n",
              "\n",
              "/* \"?\"-specific style due to the `<a>` HTML tag */\n",
              "\n",
              "#sk-container-id-1 a.estimator_doc_link {\n",
              "  float: right;\n",
              "  font-size: 1rem;\n",
              "  line-height: 1em;\n",
              "  font-family: monospace;\n",
              "  background-color: var(--sklearn-color-background);\n",
              "  border-radius: 1rem;\n",
              "  height: 1rem;\n",
              "  width: 1rem;\n",
              "  text-decoration: none;\n",
              "  /* unfitted */\n",
              "  color: var(--sklearn-color-unfitted-level-1);\n",
              "  border: var(--sklearn-color-unfitted-level-1) 1pt solid;\n",
              "}\n",
              "\n",
              "#sk-container-id-1 a.estimator_doc_link.fitted {\n",
              "  /* fitted */\n",
              "  border: var(--sklearn-color-fitted-level-1) 1pt solid;\n",
              "  color: var(--sklearn-color-fitted-level-1);\n",
              "}\n",
              "\n",
              "/* On hover */\n",
              "#sk-container-id-1 a.estimator_doc_link:hover {\n",
              "  /* unfitted */\n",
              "  background-color: var(--sklearn-color-unfitted-level-3);\n",
              "  color: var(--sklearn-color-background);\n",
              "  text-decoration: none;\n",
              "}\n",
              "\n",
              "#sk-container-id-1 a.estimator_doc_link.fitted:hover {\n",
              "  /* fitted */\n",
              "  background-color: var(--sklearn-color-fitted-level-3);\n",
              "}\n",
              "</style><div id=\"sk-container-id-1\" class=\"sk-top-container\"><div class=\"sk-text-repr-fallback\"><pre>MLPClassifier(activation=&#x27;tanh&#x27;, hidden_layer_sizes=(20, 20))</pre><b>In a Jupyter environment, please rerun this cell to show the HTML representation or trust the notebook. <br />On GitHub, the HTML representation is unable to render, please try loading this page with nbviewer.org.</b></div><div class=\"sk-container\" hidden><div class=\"sk-item\"><div class=\"sk-estimator fitted sk-toggleable\"><input class=\"sk-toggleable__control sk-hidden--visually\" id=\"sk-estimator-id-1\" type=\"checkbox\" checked><label for=\"sk-estimator-id-1\" class=\"sk-toggleable__label fitted sk-toggleable__label-arrow\"><div><div>MLPClassifier</div></div><div><a class=\"sk-estimator-doc-link fitted\" rel=\"noreferrer\" target=\"_blank\" href=\"https://scikit-learn.org/1.6/modules/generated/sklearn.neural_network.MLPClassifier.html\">?<span>Documentation for MLPClassifier</span></a><span class=\"sk-estimator-doc-link fitted\">i<span>Fitted</span></span></div></label><div class=\"sk-toggleable__content fitted\"><pre>MLPClassifier(activation=&#x27;tanh&#x27;, hidden_layer_sizes=(20, 20))</pre></div> </div></div></div></div>"
            ]
          },
          "metadata": {},
          "execution_count": 4
        }
      ],
      "source": [
        "from sklearn.neural_network import MLPClassifier\n",
        "\n",
        "agent = MLPClassifier(\n",
        "    hidden_layer_sizes=(20, 20),\n",
        "    activation=\"tanh\",\n",
        ")\n",
        "\n",
        "# initialize agent to the dimension of state space and number of actions\n",
        "agent.partial_fit([env.reset()[0]] * n_actions, range(n_actions), range(n_actions))\n"
      ]
    },
    {
      "cell_type": "code",
      "execution_count": 5,
      "metadata": {
        "id": "eyFS3oUmG9zL"
      },
      "outputs": [],
      "source": [
        "def generate_session(env, agent, t_max=1000):\n",
        "    \"\"\"\n",
        "    Play a single game using agent neural network.\n",
        "    Terminate when game finishes or after :t_max: steps\n",
        "    \"\"\"\n",
        "    states, actions = [], []\n",
        "    total_reward = 0\n",
        "\n",
        "    s, _ = env.reset()\n",
        "\n",
        "    for t in range(t_max):\n",
        "\n",
        "        # use agent to predict a vector of action probabilities for state :s:\n",
        "        probs = agent.predict_proba([s])[0]\n",
        "\n",
        "        assert probs.shape == (env.action_space.n,), \"make sure probabilities are a vector (hint: np.reshape)\"\n",
        "\n",
        "        # use the probabilities you predicted to pick an action\n",
        "        # sample proportionally to the probabilities, don't just take the most likely action\n",
        "        a = np.random.choice(n_actions, p=probs)\n",
        "        # ^-- hint: try np.random.choice\n",
        "\n",
        "        new_s, r, terminated, truncated, _ = env.step(a)\n",
        "\n",
        "        # record sessions like you did before\n",
        "        states.append(s)\n",
        "        actions.append(a)\n",
        "        total_reward += r\n",
        "\n",
        "        s = new_s\n",
        "        if terminated or truncated:\n",
        "            break\n",
        "    return states, actions, total_reward\n"
      ]
    },
    {
      "cell_type": "code",
      "execution_count": 6,
      "metadata": {
        "id": "4xgrTCgJG9zL",
        "outputId": "cbb44da8-3e5e-4611-98b4-f169fde11582",
        "colab": {
          "base_uri": "https://localhost:8080/"
        }
      },
      "outputs": [
        {
          "output_type": "stream",
          "name": "stdout",
          "text": [
            "states: [[ 0.00390932  0.01646368 -0.03851327 -0.0323198 ]\n",
            " [ 0.00423859  0.21211615 -0.03915967 -0.33690098]\n",
            " [ 0.00848092  0.01757272 -0.04589769 -0.05681955]\n",
            " [ 0.00883237  0.21332169 -0.04703408 -0.36362296]\n",
            " [ 0.0130988   0.40907946 -0.05430654 -0.67075783]]\n",
            "actions: [1, 0, 1, 1, 1]\n",
            "reward: 5.0\n"
          ]
        }
      ],
      "source": [
        "dummy_states, dummy_actions, dummy_reward = generate_session(env, agent, t_max=5)\n",
        "print(\"states:\", np.stack(dummy_states))\n",
        "print(\"actions:\", dummy_actions)\n",
        "print(\"reward:\", dummy_reward)\n"
      ]
    },
    {
      "cell_type": "markdown",
      "metadata": {
        "id": "p85lt16qG9zL"
      },
      "source": [
        "### CEM steps\n",
        "Deep CEM uses exactly the same strategy as the regular CEM, so you can copy your function code from previous notebook.\n",
        "\n",
        "The only difference is that now each observation is not a number but a `float32` vector."
      ]
    },
    {
      "cell_type": "code",
      "execution_count": 30,
      "metadata": {
        "id": "4On-p7p4G9zL"
      },
      "outputs": [],
      "source": [
        "def select_elites(states_batch, actions_batch, rewards_batch, percentile=50):\n",
        "    \"\"\"\n",
        "    Select states and actions from games that have rewards >= percentile\n",
        "    :param states_batch: list of lists of states, states_batch[session_i][t]\n",
        "    :param actions_batch: list of lists of actions, actions_batch[session_i][t]\n",
        "    :param rewards_batch: list of rewards, rewards_batch[session_i]\n",
        "\n",
        "    :returns: elite_states,elite_actions, both 1D lists of states and respective actions from elite sessions\n",
        "\n",
        "    Please return elite states and actions in their original order\n",
        "    [i.e. sorted by session number and timestep within session]\n",
        "\n",
        "    If you are confused, see examples below. Please don't assume that states are integers\n",
        "    (they will become different later).\n",
        "    \"\"\"\n",
        "\n",
        "    elite_actions = []\n",
        "    elite_states = []\n",
        "\n",
        "    reward_threshold = np.percentile(rewards_batch, percentile)\n",
        "    for i in range(len(rewards_batch)):\n",
        "      if rewards_batch[i] >= reward_threshold:\n",
        "        for j in range(len(states_batch[i])):\n",
        "          # print(states_batch[i])\n",
        "          elite_states.append(states_batch[i][j])\n",
        "          elite_actions.append(actions_batch[i][j])\n",
        "\n",
        "    return elite_states, elite_actions\n"
      ]
    },
    {
      "cell_type": "markdown",
      "metadata": {
        "id": "xc40V4DaG9zM"
      },
      "source": [
        "# Training loop\n",
        "Generate sessions, select N best and fit to those."
      ]
    },
    {
      "cell_type": "code",
      "execution_count": 31,
      "metadata": {
        "id": "PPwVKwF7G9zM"
      },
      "outputs": [],
      "source": [
        "from IPython.display import clear_output\n",
        "\n",
        "\n",
        "def show_progress(rewards_batch, log, percentile, reward_range=[-990, +10]):\n",
        "    \"\"\"\n",
        "    A convenience function that displays training progress.\n",
        "    No cool math here, just charts.\n",
        "    \"\"\"\n",
        "\n",
        "    mean_reward = np.mean(rewards_batch)\n",
        "    threshold = np.percentile(rewards_batch, percentile)\n",
        "    log.append([mean_reward, threshold])\n",
        "\n",
        "    clear_output(True)\n",
        "    print(\"mean reward = %.3f, threshold=%.3f\" % (mean_reward, threshold))\n",
        "    plt.figure(figsize=[8, 4])\n",
        "    plt.subplot(1, 2, 1)\n",
        "    plt.plot(list(zip(*log))[0], label=\"Mean rewards\")\n",
        "    plt.plot(list(zip(*log))[1], label=\"Reward thresholds\")\n",
        "    plt.legend()\n",
        "    plt.grid()\n",
        "\n",
        "    plt.subplot(1, 2, 2)\n",
        "    plt.hist(rewards_batch, range=reward_range)\n",
        "    plt.vlines(\n",
        "        [np.percentile(rewards_batch, percentile)],\n",
        "        [0],\n",
        "        [100],\n",
        "        label=\"percentile\",\n",
        "        color=\"red\",\n",
        "    )\n",
        "    plt.legend()\n",
        "    plt.grid()\n",
        "\n",
        "    plt.show()\n"
      ]
    },
    {
      "cell_type": "code",
      "execution_count": 39,
      "metadata": {
        "id": "euK7WRQiG9zM",
        "outputId": "23d3c7f2-e5dd-4a13-ff32-67e837ceca6a",
        "colab": {
          "base_uri": "https://localhost:8080/",
          "height": 756
        }
      },
      "outputs": [
        {
          "output_type": "stream",
          "name": "stdout",
          "text": [
            "mean reward = 835.970, threshold=1000.000\n"
          ]
        },
        {
          "output_type": "display_data",
          "data": {
            "text/plain": [
              "<Figure size 800x400 with 2 Axes>"
            ],
            "image/png": "[encoded data removed]"
          },
          "metadata": {}
        },
        {
          "output_type": "stream",
          "name": "stdout",
          "text": [
            "You Win! You may stop training now via KeyboardInterrupt.\n"
          ]
        },
        {
          "output_type": "error",
          "ename": "KeyboardInterrupt",
          "evalue": "",
          "traceback": [
            "\u001b[0;31m---------------------------------------------------------------------------\u001b[0m",
            "\u001b[0;31mKeyboardInterrupt\u001b[0m                         Traceback (most recent call last)",
            "\u001b[0;32m/tmp/ipython-input-3417672864.py\u001b[0m in \u001b[0;36m<cell line: 0>\u001b[0;34m()\u001b[0m\n\u001b[1;32m      5\u001b[0m \u001b[0;32mfor\u001b[0m \u001b[0mi\u001b[0m \u001b[0;32min\u001b[0m \u001b[0mrange\u001b[0m\u001b[0;34m(\u001b[0m\u001b[0;36m100\u001b[0m\u001b[0;34m)\u001b[0m\u001b[0;34m:\u001b[0m\u001b[0;34m\u001b[0m\u001b[0;34m\u001b[0m\u001b[0m\n\u001b[1;32m      6\u001b[0m     \u001b[0;31m# generate new sessions\u001b[0m\u001b[0;34m\u001b[0m\u001b[0;34m\u001b[0m\u001b[0m\n\u001b[0;32m----> 7\u001b[0;31m     \u001b[0msessions\u001b[0m \u001b[0;34m=\u001b[0m \u001b[0;34m[\u001b[0m \u001b[0mgenerate_session\u001b[0m\u001b[0;34m(\u001b[0m\u001b[0menv\u001b[0m\u001b[0;34m,\u001b[0m \u001b[0magent\u001b[0m\u001b[0;34m)\u001b[0m \u001b[0;32mfor\u001b[0m \u001b[0m_\u001b[0m \u001b[0;32min\u001b[0m \u001b[0mrange\u001b[0m\u001b[0;34m(\u001b[0m\u001b[0mn_sessions\u001b[0m\u001b[0;34m)\u001b[0m \u001b[0;34m]\u001b[0m\u001b[0;34m\u001b[0m\u001b[0;34m\u001b[0m\u001b[0m\n\u001b[0m\u001b[1;32m      8\u001b[0m     \u001b[0mstates_batch\u001b[0m\u001b[0;34m,\u001b[0m \u001b[0mactions_batch\u001b[0m\u001b[0;34m,\u001b[0m \u001b[0mrewards_batch\u001b[0m \u001b[0;34m=\u001b[0m \u001b[0mzip\u001b[0m\u001b[0;34m(\u001b[0m\u001b[0;34m*\u001b[0m\u001b[0msessions\u001b[0m\u001b[0;34m)\u001b[0m\u001b[0;34m\u001b[0m\u001b[0;34m\u001b[0m\u001b[0m\n\u001b[1;32m      9\u001b[0m \u001b[0;34m\u001b[0m\u001b[0m\n",
            "\u001b[0;32m/tmp/ipython-input-4046056928.py\u001b[0m in \u001b[0;36mgenerate_session\u001b[0;34m(env, agent, t_max)\u001b[0m\n\u001b[1;32m     12\u001b[0m \u001b[0;34m\u001b[0m\u001b[0m\n\u001b[1;32m     13\u001b[0m         \u001b[0;31m# use agent to predict a vector of action probabilities for state :s:\u001b[0m\u001b[0;34m\u001b[0m\u001b[0;34m\u001b[0m\u001b[0m\n\u001b[0;32m---> 14\u001b[0;31m         \u001b[0mprobs\u001b[0m \u001b[0;34m=\u001b[0m \u001b[0magent\u001b[0m\u001b[0;34m.\u001b[0m\u001b[0mpredict_proba\u001b[0m\u001b[0;34m(\u001b[0m\u001b[0;34m[\u001b[0m\u001b[0ms\u001b[0m\u001b[0;34m]\u001b[0m\u001b[0;34m)\u001b[0m\u001b[0;34m[\u001b[0m\u001b[0;36m0\u001b[0m\u001b[0;34m]\u001b[0m\u001b[0;34m\u001b[0m\u001b[0;34m\u001b[0m\u001b[0m\n\u001b[0m\u001b[1;32m     15\u001b[0m \u001b[0;34m\u001b[0m\u001b[0m\n\u001b[1;32m     16\u001b[0m         \u001b[0;32massert\u001b[0m \u001b[0mprobs\u001b[0m\u001b[0;34m.\u001b[0m\u001b[0mshape\u001b[0m \u001b[0;34m==\u001b[0m \u001b[0;34m(\u001b[0m\u001b[0menv\u001b[0m\u001b[0;34m.\u001b[0m\u001b[0maction_space\u001b[0m\u001b[0;34m.\u001b[0m\u001b[0mn\u001b[0m\u001b[0;34m,\u001b[0m\u001b[0;34m)\u001b[0m\u001b[0;34m,\u001b[0m \u001b[0;34m\"make sure probabilities are a vector (hint: np.reshape)\"\u001b[0m\u001b[0;34m\u001b[0m\u001b[0;34m\u001b[0m\u001b[0m\n",
            "\u001b[0;32m/usr/local/lib/python3.12/dist-packages/sklearn/neural_network/_multilayer_perceptron.py\u001b[0m in \u001b[0;36mpredict_proba\u001b[0;34m(self, X)\u001b[0m\n\u001b[1;32m   1268\u001b[0m \u001b[0;34m\u001b[0m\u001b[0m\n\u001b[1;32m   1269\u001b[0m         \u001b[0;32mif\u001b[0m \u001b[0my_pred\u001b[0m\u001b[0;34m.\u001b[0m\u001b[0mndim\u001b[0m \u001b[0;34m==\u001b[0m \u001b[0;36m1\u001b[0m\u001b[0;34m:\u001b[0m\u001b[0;34m\u001b[0m\u001b[0;34m\u001b[0m\u001b[0m\n\u001b[0;32m-> 1270\u001b[0;31m             \u001b[0;32mreturn\u001b[0m \u001b[0mnp\u001b[0m\u001b[0;34m.\u001b[0m\u001b[0mvstack\u001b[0m\u001b[0;34m(\u001b[0m\u001b[0;34m[\u001b[0m\u001b[0;36m1\u001b[0m \u001b[0;34m-\u001b[0m \u001b[0my_pred\u001b[0m\u001b[0;34m,\u001b[0m \u001b[0my_pred\u001b[0m\u001b[0;34m]\u001b[0m\u001b[0;34m)\u001b[0m\u001b[0;34m.\u001b[0m\u001b[0mT\u001b[0m\u001b[0;34m\u001b[0m\u001b[0;34m\u001b[0m\u001b[0m\n\u001b[0m\u001b[1;32m   1271\u001b[0m         \u001b[0;32melse\u001b[0m\u001b[0;34m:\u001b[0m\u001b[0;34m\u001b[0m\u001b[0;34m\u001b[0m\u001b[0m\n\u001b[1;32m   1272\u001b[0m             \u001b[0;32mreturn\u001b[0m \u001b[0my_pred\u001b[0m\u001b[0;34m\u001b[0m\u001b[0;34m\u001b[0m\u001b[0m\n",
            "\u001b[0;32m/usr/local/lib/python3.12/dist-packages/numpy/_core/shape_base.py\u001b[0m in \u001b[0;36m_vhstack_dispatcher\u001b[0;34m(tup, dtype, casting)\u001b[0m\n\u001b[1;32m    213\u001b[0m \u001b[0;34m\u001b[0m\u001b[0m\n\u001b[1;32m    214\u001b[0m \u001b[0;34m\u001b[0m\u001b[0m\n\u001b[0;32m--> 215\u001b[0;31m \u001b[0;32mdef\u001b[0m \u001b[0m_vhstack_dispatcher\u001b[0m\u001b[0;34m(\u001b[0m\u001b[0mtup\u001b[0m\u001b[0;34m,\u001b[0m \u001b[0;34m*\u001b[0m\u001b[0;34m,\u001b[0m \u001b[0mdtype\u001b[0m\u001b[0;34m=\u001b[0m\u001b[0;32mNone\u001b[0m\u001b[0;34m,\u001b[0m \u001b[0mcasting\u001b[0m\u001b[0;34m=\u001b[0m\u001b[0;32mNone\u001b[0m\u001b[0;34m)\u001b[0m\u001b[0;34m:\u001b[0m\u001b[0;34m\u001b[0m\u001b[0;34m\u001b[0m\u001b[0m\n\u001b[0m\u001b[1;32m    216\u001b[0m     \u001b[0;32mreturn\u001b[0m \u001b[0m_arrays_for_stack_dispatcher\u001b[0m\u001b[0;34m(\u001b[0m\u001b[0mtup\u001b[0m\u001b[0;34m)\u001b[0m\u001b[0;34m\u001b[0m\u001b[0;34m\u001b[0m\u001b[0m\n\u001b[1;32m    217\u001b[0m \u001b[0;34m\u001b[0m\u001b[0m\n",
            "\u001b[0;31mKeyboardInterrupt\u001b[0m: "
          ]
        }
      ],
      "source": [
        "n_sessions = 100\n",
        "percentile = 70\n",
        "log = []\n",
        "\n",
        "for i in range(100):\n",
        "    # generate new sessions\n",
        "    sessions = [ generate_session(env, agent) for _ in range(n_sessions) ]\n",
        "    states_batch, actions_batch, rewards_batch = zip(*sessions)\n",
        "\n",
        "    elite_states, elite_actions = select_elites(states_batch, actions_batch, rewards_batch, percentile)\n",
        "\n",
        "    # <YOUR CODE: partial_fit agent to predict elite_actions(y) from elite_states(X)>\n",
        "    agent.partial_fit(elite_states, elite_actions)\n",
        "\n",
        "    show_progress(\n",
        "        rewards_batch, log, percentile, reward_range=[0, np.max(rewards_batch)]\n",
        "    )\n",
        "\n",
        "    if np.mean(rewards_batch) > 190:\n",
        "        print(\"You Win! You may stop training now via KeyboardInterrupt.\")\n"
      ]
    },
    {
      "cell_type": "markdown",
      "metadata": {
        "id": "yeNWKjtsG9zM"
      },
      "source": [
        "# Results"
      ]
    },
    {
      "cell_type": "code",
      "execution_count": 40,
      "metadata": {
        "id": "RJwsWl4kG9zM",
        "outputId": "8bc07015-33da-45cf-9aa8-b23c44db1d0f",
        "colab": {
          "base_uri": "https://localhost:8080/"
        }
      },
      "outputs": [
        {
          "output_type": "stream",
          "name": "stderr",
          "text": [
            "/usr/local/lib/python3.12/dist-packages/gymnasium/envs/registration.py:512: DeprecationWarning: \u001b[33mWARN: The environment CartPole-v0 is out of date. You should consider upgrading to version `v1`.\u001b[0m\n",
            "  logger.deprecation(\n",
            "/usr/local/lib/python3.12/dist-packages/moviepy/config_defaults.py:47: SyntaxWarning: invalid escape sequence '\\P'\n",
            "  IMAGEMAGICK_BINARY = r\"C:\\Program Files\\ImageMagick-6.8.8-Q16\\magick.exe\"\n"
          ]
        }
      ],
      "source": [
        "# Record sessions\n",
        "\n",
        "from gymnasium.wrappers import RecordVideo\n",
        "\n",
        "with RecordVideo(\n",
        "    env=gym.make(\"CartPole-v0\", render_mode=\"rgb_array\"),\n",
        "    video_folder=\"./videos\",\n",
        "    episode_trigger=lambda episode_number: True,\n",
        ") as env_monitor:\n",
        "    sessions = [generate_session(env_monitor, agent) for _ in range(100)]\n"
      ]
    },
    {
      "cell_type": "code",
      "execution_count": 41,
      "metadata": {
        "id": "kLPXdME7G9zN",
        "outputId": "9db7f5d0-38d3-4ce2-8494-d724a3d2c147",
        "colab": {
          "base_uri": "https://localhost:8080/",
          "height": 501
        }
      },
      "outputs": [
        {
          "output_type": "execute_result",
          "data": {
            "text/plain": [
              "<IPython.core.display.HTML object>"
            ],
            "text/html": [
              "\n",
              "<video width=\"640\" height=\"480\" controls>\n",
              "  <source src=\"data:video/mp4;base64,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\" type=\"video/mp4\">\n",
              "</video>\n"
            ]
          },
          "metadata": {},
          "execution_count": 41
        }
      ],
      "source": [
        "# Show video. This may not work in some setups. If it doesn't\n",
        "# work for you, you can download the videos and view them locally.\n",
        "\n",
        "from pathlib import Path\n",
        "from base64 import b64encode\n",
        "from IPython.display import HTML\n",
        "\n",
        "video_paths = sorted([s for s in Path(\"videos\").iterdir() if s.suffix == \".mp4\"])\n",
        "video_path = video_paths[-1]  # You can also try other indices\n",
        "\n",
        "if \"google.colab\" in sys.modules:\n",
        "    # https://stackoverflow.com/a/57378660/1214547\n",
        "    with video_path.open(\"rb\") as fp:\n",
        "        mp4 = fp.read()\n",
        "    data_url = \"data:video/mp4;base64,\" + b64encode(mp4).decode()\n",
        "else:\n",
        "    data_url = str(video_path)\n",
        "\n",
        "HTML(\n",
        "    \"\"\"\n",
        "<video width=\"640\" height=\"480\" controls>\n",
        "  <source src=\"{}\" type=\"video/mp4\">\n",
        "</video>\n",
        "\"\"\".format(\n",
        "        data_url\n",
        "    )\n",
        ")\n"
      ]
    },
    {
      "cell_type": "markdown",
      "metadata": {
        "id": "6d_3oOQ1G9zN"
      },
      "source": [
        "# Homework part I\n",
        "\n",
        "### Tabular crossentropy method\n",
        "\n",
        "You may have noticed that the taxi problem quickly converges from -100 to a near-optimal score and then descends back into -50/-100. This is in part because the environment has some innate randomness. Namely, the starting points of passenger/driver change from episode to episode.\n",
        "\n",
        "### Tasks\n",
        "- __1.1__ (2 pts) Find out how the algorithm performance changes if you use a different `percentile` and/or `n_sessions`. Provide here some figures so we can see how the hyperparameters influence the performance.\n",
        "- __1.2__ (1 pts) Tune the algorithm to end up with positive average score.\n",
        "\n",
        "It's okay to modify the existing code.\n"
      ]
    },
    {
      "cell_type": "markdown",
      "metadata": {
        "id": "L88LySiVG9zN"
      },
      "source": [
        "```<Describe what you did here>```"
      ]
    },
    {
      "cell_type": "markdown",
      "metadata": {
        "id": "7LpAJc4rG9zN"
      },
      "source": [
        "# Homework part II\n",
        "\n",
        "### Deep crossentropy method\n",
        "\n",
        "By this moment, you should have got enough score on [CartPole-v0](https://gymnasium.farama.org/environments/classic_control/cart_pole/) to consider it solved (see the link). It's time to try something harder.\n",
        "\n",
        "* if you have any trouble with CartPole-v0 and feel stuck, feel free to ask us or your peers for help.\n",
        "\n",
        "### Tasks\n",
        "\n",
        "* __2.1__ (3 pts) Pick one of environments: `MountainCar-v0` or `LunarLander-v2`.\n",
        "  * For MountainCar, get average reward of __at least -150__\n",
        "  * For LunarLander, get average reward of __at least +50__\n",
        "\n",
        "See the tips section below, it's kinda important.\n",
        "__Note:__ If your agent is below the target score, you'll still get some of the points depending on the result, so don't be afraid to submit it.\n",
        "  \n",
        "  \n",
        "* __2.2__ (up to 6 pts) Devise a way to speed up training against the default version\n",
        "  * Obvious improvement: use [`joblib`](https://joblib.readthedocs.io/en/latest/). However, note that you will probably need to spawn a new environment in each of the workers instead of passing it via pickling. (2 pts)\n",
        "  * Try re-using samples from 3-5 last iterations when computing threshold and training. (2 pts)\n",
        "  * Obtain __-100__ at `MountainCar-v0` or __+200__ at `LunarLander-v2` (2 pts). Feel free to experiment with hyperparameters, architectures, schedules etc.\n",
        "  \n",
        "__Please list what you did in Anytask submission form__. This reduces probability that somebody misses something.\n",
        "  \n",
        "  \n",
        "### Tips\n",
        "* Gymnasium pages: [MountainCar](https://gymnasium.farama.org/environments/classic_control/mountain_car/), [LunarLander](https://gymnasium.farama.org/environments/box2d/lunar_lander/)\n",
        "* Sessions for MountainCar may last for 10k+ ticks. Make sure ```t_max``` param is at least 10k.\n",
        " * Also it may be a good idea to cut rewards via \">\" and not \">=\". If 90% of your sessions get reward of -10k and 10% are better, than if you use percentile 20% as threshold, R >= threshold __fails to cut off bad sessions__ while R > threshold works alright.\n",
        "* _issue with gym_: Some versions of gym limit game time by 200 ticks. This will prevent cem training in most cases. Make sure your agent is able to play for the specified __t_max__, and if it isn't, try `env = gym.make(\"MountainCar-v0\").env` or otherwise get rid of TimeLimit wrapper.\n",
        "* If you use old _swig_ lib for LunarLander-v2, you may get an error. See this [issue](https://github.com/openai/gym/issues/100) for solution.\n",
        "* If it doesn't train, it's a good idea to plot reward distribution and record sessions: they may give you some clue. If they don't, call course staff :)\n",
        "* 20-neuron network is probably not enough, feel free to experiment.\n",
        "\n",
        "You may find the following snippet useful:"
      ]
    },
    {
      "cell_type": "code",
      "execution_count": null,
      "metadata": {
        "id": "qcjz-nm_G9zN"
      },
      "outputs": [],
      "source": [
        "def visualize_mountain_car(env, agent):\n",
        "    # Compute policy for all possible x and v (with discretization)\n",
        "    xs = np.linspace(env.min_position, env.max_position, 100)\n",
        "    vs = np.linspace(-env.max_speed, env.max_speed, 100)\n",
        "\n",
        "    grid = np.dstack(np.meshgrid(xs, vs[::-1])).transpose(1, 0, 2)\n",
        "    grid_flat = grid.reshape(len(xs) * len(vs), 2)\n",
        "    probs = (\n",
        "        agent.predict_proba(grid_flat).reshape(len(xs), len(vs), 3).transpose(1, 0, 2)\n",
        "    )\n",
        "\n",
        "    # # The above code is equivalent to the following:\n",
        "    # probs = np.empty((len(vs), len(xs), 3))\n",
        "    # for i, v in enumerate(vs[::-1]):\n",
        "    #     for j, x in enumerate(xs):\n",
        "    #         probs[i, j, :] = agent.predict_proba([[x, v]])[0]\n",
        "\n",
        "    # Draw policy\n",
        "    f, ax = plt.subplots(figsize=(7, 7))\n",
        "    ax.imshow(\n",
        "        probs,\n",
        "        extent=(env.min_position, env.max_position, -env.max_speed, env.max_speed),\n",
        "        aspect=\"auto\",\n",
        "    )\n",
        "    ax.set_title(\"Learned policy: red=left, green=nothing, blue=right\")\n",
        "    ax.set_xlabel(\"position (x)\")\n",
        "    ax.set_ylabel(\"velocity (v)\")\n",
        "\n",
        "    # Sample a trajectory and draw it\n",
        "    states, actions, _ = generate_session(env, agent)\n",
        "    states = np.array(states)\n",
        "    ax.plot(states[:, 0], states[:, 1], color=\"white\")\n",
        "\n",
        "    # Draw every 3rd action from the trajectory\n",
        "    for (x, v), a in zip(states[::3], actions[::3]):\n",
        "        if a == 0:\n",
        "            plt.arrow(x, v, -0.1, 0, color=\"white\", head_length=0.02)\n",
        "        elif a == 2:\n",
        "            plt.arrow(x, v, 0.1, 0, color=\"white\", head_length=0.02)\n",
        "\n",
        "\n",
        "with gym.make(\"MountainCar-v0\", render_mode=\"rgb_arrary\").env as env:\n",
        "    visualize_mountain_car(env, agent)\n"
      ]
    },
    {
      "cell_type": "markdown",
      "metadata": {
        "id": "Dzk41lDPG9zO"
      },
      "source": [
        "### Bonus tasks\n",
        "\n",
        "* __2.3 bonus__ (2 pts) Try to find a network architecture and training params that solve __both__ environments above (_Points depend on implementation. If you attempted this task, please mention it in Anytask submission._)\n",
        "\n",
        "* __2.4 bonus__ (4 pts) Solve continuous action space task with `MLPRegressor` or similar.\n",
        "  * Since your agent only predicts the \"expected\" action, you will have to add noise to ensure exploration.\n",
        "  * Choose one of [MountainCarContinuous-v0](https://gymnasium.farama.org/environments/classic_control/mountain_car_continuous/) (90+ pts to solve), [LunarLanderContinuous-v2](https://gymnasium.farama.org/environments/box2d/lunar_lander/) (`env = gym.make(\"LunarLander-v2\", continuous=True)`)(200+ pts to solve)\n",
        "  * 4 points for solving. Slightly less for getting some results below solution threshold. Note that discrete and continuous environments may have slightly different rules, aside from action spaces."
      ]
    }
  ],
  "metadata": {
    "colab": {
      "provenance": []
    },
    "kernelspec": {
      "display_name": "Python 3",
      "language": "python",
      "name": "python3"
    },
    "language_info": {
      "codemirror_mode": {
        "name": "ipython",
        "version": 3
      },
      "file_extension": ".py",
      "mimetype": "text/x-python",
      "name": "python",
      "nbconvert_exporter": "python",
      "pygments_lexer": "ipython3",
      "version": "3.8.5"
    }
  },
  "nbformat": 4,
  "nbformat_minor": 0
}