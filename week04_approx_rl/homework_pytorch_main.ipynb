{
  "cells": [
    {
      "cell_type": "markdown",
      "metadata": {
        "id": "view-in-github",
        "colab_type": "text"
      },
      "source": [
        "<a href=\"https://colab.research.google.com/github/ngocmink/practical_RL/blob/main/week04_approx_rl/homework_pytorch_main.ipynb\" target=\"_parent\"><img src=\"https://colab.research.google.com/assets/colab-badge.svg\" alt=\"Open In Colab\"/></a>"
      ]
    },
    {
      "cell_type": "markdown",
      "metadata": {
        "id": "1NDjJiqysoT-"
      },
      "source": [
        "# Deep Q-Network implementation.\n",
        "\n",
        "This homework shamelessly demands you to implement DQN — an approximate Q-learning algorithm with experience replay and target networks — and see if it works any better this way.\n",
        "\n",
        "**Papers:**\n",
        "\n",
        "[1] Original paper, 2013: https://arxiv.org/pdf/1312.5602.pdf\n",
        "\n",
        "[2] Extended paper, Nature, 2015: https://web.stanford.edu/class/psych209/Readings/MnihEtAlHassibis15NatureControlDeepRL.pdf\n",
        "\n",
        "[3] Rainbow, 2017: https://arxiv.org/pdf/1710.02298.pdf"
      ]
    },
    {
      "cell_type": "markdown",
      "metadata": {
        "id": "BcLhaXMKsoT_"
      },
      "source": [
        "**This notebook is the main homework notebook.**\n",
        "Another notebook is given for debug: (**homework_pytorch_debug**). The debug notebook is not supported anymore, the codes have diverged. However, it can be useful in some cases. The tasks are similar and they used to share most of the code. The main difference is in environments. In main notebook it can take some 2 hours for the agent to start improving so it seems reasonable to launch the algorithm on a simpler env first. In debug one it is CartPole and it will train in several minutes.\n",
        "\n",
        "**About evaluation:** All points are only given for the main notebook.\n",
        "\n",
        "**Plan and evaluation points:**\n",
        "1. Getting to know the environment: most of the code is implemented for you\n",
        "2. DQN as it is (10 points): the main part of DQN implementation\n",
        "3. Main Loop (3 points): the training loop itself. Please, note, it can be really time-consuming, and implementation bugs can arise.\n",
        "4. Interpretation (2 points): calculation of episode statistics and their interpretation"
      ]
    },
    {
      "cell_type": "code",
      "execution_count": 1,
      "metadata": {
        "id": "IVo0UxTWsoT_",
        "colab": {
          "base_uri": "https://localhost:8080/"
        },
        "outputId": "32e8fce6-1e84-4967-e0ae-1fa517d4f790"
      },
      "outputs": [
        {
          "output_type": "stream",
          "name": "stdout",
          "text": [
            "Starting virtual X frame buffer: Xvfb.\n"
          ]
        }
      ],
      "source": [
        "import sys, os\n",
        "if 'google.colab' in sys.modules and not os.path.exists('.setup_complete'):\n",
        "    os.makedirs('dqn', exist_ok=True)\n",
        "    os.makedirs('test_td_loss', exist_ok=True)\n",
        "\n",
        "    !wget -q https://raw.githubusercontent.com/yandexdataschool/Practical_RL/master/setup_colab.sh -O- | bash\n",
        "\n",
        "    !wget -q https://raw.githubusercontent.com/yandexdataschool/Practical_RL/master/week04_approx_rl/dqn/atari_wrappers.py -P dqn/\n",
        "    !wget -q https://raw.githubusercontent.com/yandexdataschool/Practical_RL/master/week04_approx_rl/dqn/utils.py -P dqn/\n",
        "    !wget -q https://raw.githubusercontent.com/yandexdataschool/Practical_RL/master/week04_approx_rl/dqn/replay_buffer.py -P dqn/\n",
        "    !wget -q https://raw.githubusercontent.com/yandexdataschool/Practical_RL/master/week04_approx_rl/dqn/framebuffer.py -P dqn/\n",
        "    !wget -q https://raw.githubusercontent.com/yandexdataschool/Practical_RL/master/week04_approx_rl/dqn/analysis.py -P dqn/\n",
        "    !wget -q https://raw.githubusercontent.com/yandexdataschool/Practical_RL/master/week04_approx_rl/dqn/logger.py -P dqn/\n",
        "    !wget -q https://raw.githubusercontent.com/yandexdataschool/Practical_RL/master/week04_approx_rl/test_td_loss/compute_td_loss.py -P test_td_loss/\n",
        "    !wget -q https://raw.githubusercontent.com/yandexdataschool/Practical_RL/master/week04_approx_rl/requirements.txt\n",
        "\n",
        "    !pip install -r requirements.txt\n",
        "\n",
        "    !touch .setup_complete\n",
        "\n",
        "# This code creates a virtual display to draw game images on.\n",
        "# It will have no effect if your machine has a monitor.\n",
        "if type(os.environ.get(\"DISPLAY\")) is not str or len(os.environ.get(\"DISPLAY\")) == 0:\n",
        "    !bash ../xvfb start\n",
        "    os.environ['DISPLAY'] = ':1'"
      ]
    },
    {
      "cell_type": "markdown",
      "metadata": {
        "id": "KkrBeP7YsoUA"
      },
      "source": [
        "__Frameworks__ - we'll accept this homework in any deep learning framework. This particular notebook was designed for PyTorch, but you find it easy to adapt it to almost any Python-based deep learning framework."
      ]
    },
    {
      "cell_type": "code",
      "execution_count": 2,
      "metadata": {
        "id": "P8WoWe9DsoUA"
      },
      "outputs": [],
      "source": [
        "%matplotlib inline\n",
        "import gymnasium as gym\n",
        "import ale_py\n",
        "import numpy as np\n",
        "import matplotlib.pyplot as plt\n",
        "\n",
        "gym.register_envs(ale_py)"
      ]
    },
    {
      "cell_type": "markdown",
      "metadata": {
        "id": "6GQBgViKsoUA"
      },
      "source": [
        "### Let's play some old videogames\n",
        "![img](https://github.com/yandexdataschool/Practical_RL/raw/master/yet_another_week/_resource/nerd.png)\n",
        "\n",
        "This time we're gonna apply approximate Q-learning to an Atari game called Breakout. It's not the hardest thing out there, but it's definitely way more complex than anything we have tried before."
      ]
    },
    {
      "cell_type": "markdown",
      "metadata": {
        "id": "q8LkB3wQ_AU5"
      },
      "source": [
        "**These are various versions of Breakout provided by Gynmasium:**"
      ]
    },
    {
      "cell_type": "code",
      "execution_count": 3,
      "metadata": {
        "colab": {
          "base_uri": "https://localhost:8080/"
        },
        "id": "zqSXLsS9_AU9",
        "outputId": "3ccec0a8-092e-421e-cae8-73ad12639548"
      },
      "outputs": [
        {
          "output_type": "execute_result",
          "data": {
            "text/plain": [
              "['Breakout-v0',\n",
              " 'Breakout-v4',\n",
              " 'BreakoutNoFrameskip-v0',\n",
              " 'BreakoutNoFrameskip-v4',\n",
              " 'ALE/Breakout-v5']"
            ]
          },
          "metadata": {},
          "execution_count": 3
        }
      ],
      "source": [
        "all_names = list(gym.envs.registry.keys())\n",
        "names_breakout = [name for name in all_names if \"Break\" in name]\n",
        "names_breakout"
      ]
    },
    {
      "cell_type": "code",
      "execution_count": 4,
      "metadata": {
        "id": "S_zvw_31soUA"
      },
      "outputs": [],
      "source": [
        "# ENV_NAME = \"BreakoutDeterministic-v4\"  # this one is simpler\n",
        "ENV_NAME = \"ALE/Breakout-v5\""
      ]
    },
    {
      "cell_type": "markdown",
      "metadata": {
        "id": "Z8sFyPmH_AVE"
      },
      "source": [
        "If you are curious about Atari environments in Gymnasium, please, refer to:\n",
        "- [4] Gymnasium docs: https://gymnasium.farama.org/environments/atari/\n",
        "- [5] Longer paper: https://arxiv.org/abs/1709.06009\n",
        "- [6] Shorter paper: https://www.ijcai.org/Proceedings/2018/0787.pdf\n",
        "\n",
        "For now it's enough to know about the v5 environments:\n",
        "- v5 environments are recommended for use\n",
        "- frame_skip=5, every 5-th frame is shown to the agent and the chosen action is executed for the next 5 moves\n",
        "- randomness comes from repeat_action_probability=0.25: with this probability the previous action is executed instead of the chosen action"
      ]
    },
    {
      "cell_type": "markdown",
      "metadata": {
        "id": "xT9BvasNsoUA"
      },
      "source": [
        "## Getting to know the Environment"
      ]
    },
    {
      "cell_type": "markdown",
      "metadata": {
        "id": "iwN8jA0OsoUA"
      },
      "source": [
        "**Let's see what observations look like.**"
      ]
    },
    {
      "cell_type": "code",
      "execution_count": 5,
      "metadata": {
        "colab": {
          "base_uri": "https://localhost:8080/",
          "height": 434
        },
        "id": "8EiMR7W6_AVI",
        "outputId": "24d853c3-24c6-4a85-f245-ca7d1d9fcecc"
      },
      "outputs": [
        {
          "output_type": "display_data",
          "data": {
            "text/plain": [
              "<Figure size 640x480 with 1 Axes>"
            ],
            "image/png": "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\n"
          },
          "metadata": {}
        }
      ],
      "source": [
        "env = gym.make(ENV_NAME, render_mode=\"rgb_array\")\n",
        "env.reset()\n",
        "plt.imshow(env.render())\n",
        "plt.show()"
      ]
    },
    {
      "cell_type": "markdown",
      "metadata": {
        "id": "ZLf9s3oN_AVK"
      },
      "source": [
        "**Some more observations, coming from taking random actions**"
      ]
    },
    {
      "cell_type": "code",
      "execution_count": 6,
      "metadata": {
        "id": "rUZHU2HdsoUB",
        "colab": {
          "base_uri": "https://localhost:8080/",
          "height": 712
        },
        "outputId": "f5591fee-866b-4d54-ad74-3437ecff61a4"
      },
      "outputs": [
        {
          "output_type": "display_data",
          "data": {
            "text/plain": [
              "<Figure size 1600x900 with 10 Axes>"
            ],
            "image/png": "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\n"
          },
          "metadata": {}
        }
      ],
      "source": [
        "env = gym.make(ENV_NAME, render_mode=\"rgb_array\")\n",
        "env.reset()\n",
        "\n",
        "n_cols = 5\n",
        "n_rows = 2\n",
        "fig = plt.figure(figsize=(16, 9))\n",
        "\n",
        "for row in range(n_rows):\n",
        "    for col in range(n_cols):\n",
        "        ax = fig.add_subplot(n_rows, n_cols, row * n_cols + col + 1)\n",
        "        ax.imshow(env.render())\n",
        "        env.step(env.action_space.sample())\n",
        "plt.show()"
      ]
    },
    {
      "cell_type": "markdown",
      "metadata": {
        "id": "nsi9lCCD_AVL"
      },
      "source": [
        "**About the game:** You have 5 lives and get points for breaking the wall. Higher bricks cost more than the lower ones. There are 4 actions: start game (should be called at the beginning and after each life is lost), move left, move right and do nothing. There are some common wrappers used for Atari environments."
      ]
    },
    {
      "cell_type": "markdown",
      "metadata": {
        "id": "hFa8IIOa_AVM"
      },
      "source": [
        "**Let's take a look at action meanings:**"
      ]
    },
    {
      "cell_type": "code",
      "execution_count": 7,
      "metadata": {
        "colab": {
          "base_uri": "https://localhost:8080/"
        },
        "id": "owztIDaj_AVN",
        "outputId": "6c00cd05-b3cb-435a-9d89-a4f60a2cbe8f"
      },
      "outputs": [
        {
          "output_type": "execute_result",
          "data": {
            "text/plain": [
              "['NOOP', 'FIRE', 'RIGHT', 'LEFT']"
            ]
          },
          "metadata": {},
          "execution_count": 7
        }
      ],
      "source": [
        "env.unwrapped.get_action_meanings()"
      ]
    },
    {
      "cell_type": "markdown",
      "metadata": {
        "id": "kvvhZCP-_AVO"
      },
      "source": [
        "1. NOOP stands for the action of doing nothing\n",
        "2. Right and Left move the platform to the corresponding direction\n",
        "3. Fire releases the ball in the beginning of a life\n",
        "\n",
        "In this assignment we will wrap the environment to execute the \"Fire\" action in the beginning of a life automatically. It will turn the \"FIRE\" action into another \"NOOP\".  \n",
        "Also, we will wrap the environment to make an episode last for 1 life instead of 5 ones.  \n",
        "These transforms are claimed as non-recommended in the paper [5] but it was done in the original paper [1] and it will help the training to converge faster."
      ]
    },
    {
      "cell_type": "markdown",
      "metadata": {
        "id": "hLNt1fbnsoUB"
      },
      "source": [
        "**Let's play a little.**\n",
        "\n",
        "Pay attention to zoom and fps args of play function. Control: A, D, space."
      ]
    },
    {
      "cell_type": "code",
      "execution_count": 8,
      "metadata": {
        "id": "WOIL47azsoUB"
      },
      "outputs": [],
      "source": [
        "# # Does not work in Colab.\n",
        "# Even on a local laptop breaks matplotlib rendering. So it's recommended to restart the notebook after playing.\n",
        "# # Use the Escape button to continue.\n",
        "\n",
        "# from gymnasium.utils.play import play\n",
        "\n",
        "# play(env=gym.make(ENV_NAME, render_mode=\"rgb_array\"), zoom=4, fps=10)"
      ]
    },
    {
      "cell_type": "markdown",
      "metadata": {
        "id": "7uq_Mlbi_AVV"
      },
      "source": [
        "## Wrapping the Environment"
      ]
    },
    {
      "cell_type": "code",
      "execution_count": 9,
      "metadata": {
        "id": "mZm192iD_AVW"
      },
      "outputs": [],
      "source": [
        "def make_basic_env():\n",
        "    return gym.make(ENV_NAME, render_mode=\"rgb_array\")"
      ]
    },
    {
      "cell_type": "markdown",
      "metadata": {
        "id": "5DPrxQuXsoUB"
      },
      "source": [
        "### Processing game image\n",
        "\n",
        "Let's check the shape and the dtype of the observation:"
      ]
    },
    {
      "cell_type": "code",
      "execution_count": 10,
      "metadata": {
        "colab": {
          "base_uri": "https://localhost:8080/"
        },
        "id": "P3E4kk9p_AVX",
        "outputId": "f23da3f2-5ca8-4027-9704-d63e030f422e"
      },
      "outputs": [
        {
          "output_type": "execute_result",
          "data": {
            "text/plain": [
              "((210, 160, 3), dtype('uint8'))"
            ]
          },
          "metadata": {},
          "execution_count": 10
        }
      ],
      "source": [
        "env = make_basic_env()\n",
        "obs, *_ = env.reset()\n",
        "obs.shape, obs.dtype"
      ]
    },
    {
      "cell_type": "markdown",
      "metadata": {
        "id": "6RB9bCAt_AVY"
      },
      "source": [
        "Raw Atari images are large, 210x160x3 by default. However, we don't need that level of detail in order to learn from them.\n",
        "\n",
        "We can thus save a lot of time by preprocessing game image, including\n",
        "* Resizing to a smaller shape, 64x64 (or 84 x 84, which is used in literature)\n",
        "* Converting to grayscale\n",
        "* Cropping irrelevant image parts (top, bottom and edges) \\[we won't do this\\]\n",
        "\n",
        "The images are of the uint8 dtype.  \n",
        "uint8 stands for the 8-bit unsigned integer type.  \n",
        "We are going to store 10^5 or 10^6 observations in memory (RAM), so let's pay attention to preserving the 8-bit type after our transforms."
      ]
    },
    {
      "cell_type": "code",
      "execution_count": 11,
      "metadata": {
        "colab": {
          "base_uri": "https://localhost:8080/",
          "height": 451
        },
        "id": "dZPu5rue_AVY",
        "outputId": "960f8ccf-a871-401d-c200-76beed6ef144"
      },
      "outputs": [
        {
          "output_type": "stream",
          "name": "stdout",
          "text": [
            "(84, 84) uint8\n"
          ]
        },
        {
          "output_type": "display_data",
          "data": {
            "text/plain": [
              "<Figure size 640x480 with 1 Axes>"
            ],
            "image/png": "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\n"
          },
          "metadata": {}
        }
      ],
      "source": [
        "def apply_gray_scale_wrap(env):\n",
        "    # With the argument values chosen as below, the gym.wrappers.AtariPreprocessing wrapper\n",
        "    # only converts images to grayscale and downsamples them the screen_size\n",
        "    env = gym.wrappers.AtariPreprocessing(\n",
        "        env,\n",
        "        noop_max=0,  # the default value 30 can be harmful with FireResetEnv and frame_skip=5\n",
        "        frame_skip=1,  # frame_skip has already been set to 5 inside the env\n",
        "        terminal_on_life_loss=False,  # we do this explicitly in the FireResetEnv wrapper\n",
        "        screen_size=84  # please use 84 (which is the standard value) or 64 (which will save some computations and memory)\n",
        "    )\n",
        "    return env\n",
        "\n",
        "\n",
        "env = make_basic_env()\n",
        "env = apply_gray_scale_wrap(env)\n",
        "\n",
        "obs, *_ = env.reset()\n",
        "\n",
        "assert obs.dtype == np.dtype('uint8'), obs.dtype\n",
        "\n",
        "print(obs.shape, obs.dtype)\n",
        "plt.imshow(obs)\n",
        "plt.show()"
      ]
    },
    {
      "cell_type": "markdown",
      "metadata": {
        "id": "tTkNXXjM_AVZ"
      },
      "source": [
        "### Atari specific wrappers\n",
        "\n",
        "We try to make our lives a little easier with the following wrappers:\n",
        "1. EpisodicLifeEnv it makes the signal that dropping a ball is not good more explicit\n",
        "2. Using FireResetEnv: with it the agent doesn't have to perform a special action to fire the ball in the beginning of a life"
      ]
    },
    {
      "cell_type": "code",
      "execution_count": 12,
      "metadata": {
        "colab": {
          "base_uri": "https://localhost:8080/",
          "height": 451
        },
        "id": "uPZDQ1ND_AVa",
        "outputId": "494c5fcd-0ead-453a-9a7d-f24cd3ee52f7"
      },
      "outputs": [
        {
          "output_type": "stream",
          "name": "stdout",
          "text": [
            "(84, 84) uint8\n"
          ]
        },
        {
          "output_type": "display_data",
          "data": {
            "text/plain": [
              "<Figure size 640x480 with 1 Axes>"
            ],
            "image/png": "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\n"
          },
          "metadata": {}
        }
      ],
      "source": [
        "from dqn.atari_wrappers import FireResetEnv\n",
        "from dqn.atari_wrappers import EpisodicLifeEnv\n",
        "\n",
        "def apply_atary_specific_wrap(env):\n",
        "    env = EpisodicLifeEnv(env)\n",
        "    env = FireResetEnv(env)\n",
        "    return env\n",
        "\n",
        "env = make_basic_env()\n",
        "env = apply_gray_scale_wrap(env)\n",
        "env = apply_atary_specific_wrap(env)\n",
        "\n",
        "obs, *_ = env.reset()\n",
        "\n",
        "print(obs.shape, obs.dtype)\n",
        "plt.imshow(obs)\n",
        "plt.show()"
      ]
    },
    {
      "cell_type": "markdown",
      "metadata": {
        "id": "-RBifChX_AVb"
      },
      "source": [
        "### FrameStack\n",
        "To make the game playable from a single observation (note the direction of the ball), we stack 4 consecutive frames:"
      ]
    },
    {
      "cell_type": "code",
      "execution_count": 13,
      "metadata": {
        "colab": {
          "base_uri": "https://localhost:8080/",
          "height": 321
        },
        "id": "U4QUMDXJ_AVc",
        "outputId": "c356c300-ade9-4e5f-f116-20b0c2224888"
      },
      "outputs": [
        {
          "output_type": "stream",
          "name": "stdout",
          "text": [
            "Shape: (4, 84, 84), dtype: uint8, Python object type: <class 'numpy.ndarray'>\n",
            "\n",
            "Frames, left to right: from older to more recent. The ball is dropping.\n"
          ]
        },
        {
          "output_type": "display_data",
          "data": {
            "text/plain": [
              "<Figure size 1200x400 with 4 Axes>"
            ],
            "image/png": "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\n"
          },
          "metadata": {}
        }
      ],
      "source": [
        "N_FRAMES_STACKED = 4\n",
        "\n",
        "def make_final_env(apply_frame_stack=True):\n",
        "    \"\"\"\n",
        "    Builds the environment with all the wrappers applied.\n",
        "    The environment is meant be used directly as an RL algorithm input.\n",
        "\n",
        "    apply_frame_stack=False can be useful for vecotrized environments, which are not required for this assignment.\n",
        "    \"\"\"\n",
        "    env = make_basic_env()\n",
        "    env = apply_gray_scale_wrap(env)\n",
        "    env = apply_atary_specific_wrap(env)\n",
        "    if apply_frame_stack:\n",
        "        env = gym.wrappers.FrameStackObservation(env, N_FRAMES_STACKED) # your code. Please, use gym.wrappers.FrameStackObservation\n",
        "    return env\n",
        "\n",
        "\n",
        "env = make_final_env()\n",
        "\n",
        "obs, *_ = env.reset()\n",
        "print(f\"Shape: {obs.shape}, dtype: {obs.dtype}, Python object type: {type(obs)}\")\n",
        "for _ in range(N_FRAMES_STACKED - 1):\n",
        "    obs, *_ = env.step(env.action_space.sample())\n",
        "print()\n",
        "\n",
        "\n",
        "print(\"Frames, left to right: from older to more recent. The ball is dropping.\")\n",
        "_, axes = plt.subplots(figsize=(len(obs) * 3, 4), ncols=len(obs))\n",
        "for ax, frame in zip(axes, obs):\n",
        "    ax.imshow(frame)\n",
        "plt.show()"
      ]
    },
    {
      "cell_type": "markdown",
      "metadata": {
        "id": "01N1XosR_AVd"
      },
      "source": [
        "**That is the final version of the environment we are going to do RL on.**\n",
        "\n",
        "**Let's discuss the representation of an obsevation.**\\\n",
        "An observation is a 4-frame-stack of grayscale images with reduced resolution.\\\n",
        "Memory (RAM) is a high-demand resource in this task. That's why:\n",
        "1. We use the uint8 dtype instead of float32 the neural network will operate on\n",
        "2. We don't represent them as numpy.ndarrays. **LazyFrames** are used by gym.wrappers.FrameStack instead. 2 consecutive observations share 3 of 4 frames. LazyFrames make use of this fact to save memory.\n",
        "When we feed the observations to neural networks, we should remember to scale them to the \\[-1, 1\\] range. We'll implement scaling as the first layer of a neural network, but that'll be later."
      ]
    },
    {
      "cell_type": "markdown",
      "metadata": {
        "id": "T5eM4Qo6_AVe"
      },
      "source": [
        "**The ball is dropping, but its hard to notice. Let's define a function to render more human-readable images:**"
      ]
    },
    {
      "cell_type": "code",
      "execution_count": 14,
      "metadata": {
        "id": "x5g-e8gQ_AVf",
        "outputId": "2703cbc5-5acf-43cf-8f43-0ae3b91b9701",
        "colab": {
          "base_uri": "https://localhost:8080/",
          "height": 543
        }
      },
      "outputs": [
        {
          "output_type": "stream",
          "name": "stderr",
          "text": [
            "Gym has been unmaintained since 2022 and does not support NumPy 2.0 amongst other critical functionality.\n",
            "Please upgrade to Gymnasium, the maintained drop-in replacement of Gym, or contact the authors of your software and request that they upgrade.\n",
            "See the migration guide at https://gymnasium.farama.org/introduction/migration_guide/ for additional information.\n"
          ]
        },
        {
          "output_type": "display_data",
          "data": {
            "text/plain": [
              "<Figure size 640x480 with 1 Axes>"
            ],
            "image/png": "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\n"
          },
          "metadata": {}
        },
        {
          "output_type": "stream",
          "name": "stderr",
          "text": [
            "/usr/local/lib/python3.12/dist-packages/jupyter_client/session.py:203: DeprecationWarning: datetime.datetime.utcnow() is deprecated and scheduled for removal in a future version. Use timezone-aware objects to represent datetimes in UTC: datetime.datetime.now(datetime.UTC).\n",
            "  return datetime.utcnow().replace(tzinfo=utc)\n"
          ]
        }
      ],
      "source": [
        "from gym.wrappers.frame_stack import LazyFrames\n",
        "def merge_frame_stack_to_plot(frame_stack_obs: np.ndarray | LazyFrames):\n",
        "    \"\"\"\n",
        "    A helper function to plot a frame stack as a single human-interpretable image.\n",
        "\n",
        "    Brighter pixels are more recent, pale pixels are older.\n",
        "    Motions goes from pale to bright.\n",
        "\n",
        "    Note! This function is designed for human vision convenience and it is NOT supposed to be used as part of\n",
        "    data preprocessing for the Reinforcement Learning agent.\n",
        "    \"\"\"\n",
        "    weights = np.ones(frame_stack_obs.shape[0], dtype=float)\n",
        "    weights[-1] += weights.sum()\n",
        "    weights /= weights.sum()\n",
        "    result = (weights[:, None, None] * frame_stack_obs).sum(0)\n",
        "    return result\n",
        "\n",
        "\n",
        "obs_joint = merge_frame_stack_to_plot(obs)\n",
        "plt.imshow(obs_joint)\n",
        "plt.show()"
      ]
    },
    {
      "cell_type": "markdown",
      "metadata": {
        "id": "mf_w9d3r_AVf"
      },
      "source": [
        "Hope that's better"
      ]
    },
    {
      "cell_type": "code",
      "execution_count": 15,
      "metadata": {
        "id": "bM6Ym1A8_AVf"
      },
      "outputs": [],
      "source": [
        "N_ACTIONS = env.action_space.n\n",
        "STATE_SHAPE = env.observation_space.shape"
      ]
    },
    {
      "cell_type": "markdown",
      "metadata": {
        "id": "4iJM3IAwsoUB"
      },
      "source": [
        "**Let's see if the game is still playable after applying the wrappers.**\n",
        "At playing the EpisodicLifeEnv wrapper seems not to work but actually it does (because after when life finishes a new ball is dropped automatically - it means that FireResetEnv wrapper understands that a new episode began).\n",
        "\n",
        "**Not supported for now.**"
      ]
    },
    {
      "cell_type": "markdown",
      "metadata": {
        "id": "jhiOKsQvsoUC"
      },
      "source": [
        "## DQN as it is (10 pts)"
      ]
    },
    {
      "cell_type": "markdown",
      "metadata": {
        "id": "aspwJFiGsoUC"
      },
      "source": [
        "### Building a network\n",
        "\n",
        "We now need to build a neural network that can map images to state q-values. This network will be called on every agent's step so it better not be resnet-152 unless you have an array of GPUs. Instead, you can use strided convolutions with a small number of features to save time and memory.\n",
        "\n",
        "You can build any architecture you want, but you can find a couple of examples on diagrams below."
      ]
    },
    {
      "cell_type": "markdown",
      "metadata": {
        "id": "YbZIucfksoUC"
      },
      "source": [
        "**Dueling network:**\\\n",
        "Paper: https://arxiv.org/pdf/1511.06581.pdf\n",
        "$$Q_{\\theta}(s, a) = V_{\\eta}(f_{\\xi}(s)) + A_{\\psi}(f_{\\xi}(s), a) - \\frac{\\sum_{a'}A_{\\psi}(f_{\\xi}(s), a')}{N_{actions}},$$\n",
        "where $\\xi$, $\\eta$, and $\\psi$ are, respectively, the parameters of the\n",
        "shared encoder $f_ξ$ , of the value stream $V_\\eta$ , and of the advantage stream $A_\\psi$; and $\\theta = \\{\\xi, \\eta, \\psi\\}$ is their concatenation.\n",
        "\n",
        "This is what it looks like:\n",
        "\n",
        "Simple, expects height=width=64\n",
        "\n",
        "<!-- <img src=\"img/dueling_basic.png\" alt=\"dueling_basic\" width=\"500\"/> -->\n",
        "![img](https://github.com/yandexdataschool/Practical_RL/raw/master/week04_approx_rl/img/dueling_basic.png)\n",
        "\n",
        "Nature DQN ([2]), expects height=width=84\n",
        "\n",
        "<!-- <img src=\"img/dueling_nature.png\" alt=\"dueling_nature\" width=\"500\"/> -->\n",
        "![img](https://github.com/yandexdataschool/Practical_RL/raw/master/week04_approx_rl/img/dueling_nature.png)\n"
      ]
    },
    {
      "cell_type": "code",
      "execution_count": 16,
      "metadata": {
        "id": "SPPmY6wIsoUC",
        "outputId": "27ab88a7-4af1-44e1-8825-b6a41b926d91",
        "colab": {
          "base_uri": "https://localhost:8080/"
        }
      },
      "outputs": [
        {
          "output_type": "stream",
          "name": "stderr",
          "text": [
            "/usr/local/lib/python3.12/dist-packages/jupyter_client/session.py:203: DeprecationWarning: datetime.datetime.utcnow() is deprecated and scheduled for removal in a future version. Use timezone-aware objects to represent datetimes in UTC: datetime.datetime.now(datetime.UTC).\n",
            "  return datetime.utcnow().replace(tzinfo=utc)\n"
          ]
        },
        {
          "output_type": "execute_result",
          "data": {
            "text/plain": [
              "device(type='cuda')"
            ]
          },
          "metadata": {},
          "execution_count": 16
        }
      ],
      "source": [
        "import torch\n",
        "import torch.nn as nn\n",
        "device = torch.device('cuda' if torch.cuda.is_available() else 'cpu')\n",
        "device"
      ]
    },
    {
      "cell_type": "markdown",
      "metadata": {
        "id": "h2KNwwtl_AVu"
      },
      "source": [
        "These constants will be useful"
      ]
    },
    {
      "cell_type": "code",
      "execution_count": 17,
      "metadata": {
        "id": "VxS4rr9-_AVv",
        "outputId": "6bae10f6-5b0c-43cc-9353-04cf436ff12b",
        "colab": {
          "base_uri": "https://localhost:8080/"
        }
      },
      "outputs": [
        {
          "output_type": "execute_result",
          "data": {
            "text/plain": [
              "(np.int64(4), 4)"
            ]
          },
          "metadata": {},
          "execution_count": 17
        }
      ],
      "source": [
        "N_ACTIONS, N_FRAMES_STACKED"
      ]
    },
    {
      "cell_type": "code",
      "execution_count": 18,
      "metadata": {
        "id": "hWcUbTN3_AVw"
      },
      "outputs": [],
      "source": [
        "class ConvBackbone(nn.Sequential):\n",
        "    \"\"\"\n",
        "    The convolutional part of a DQN model.\n",
        "    Please, don't think about input scaling here: it will be implemented below.\n",
        "    \"\"\"\n",
        "    def __init__(self, c_in: int = N_FRAMES_STACKED) -> None:\n",
        "        super().__init__(\n",
        "            nn.Conv2d(c_in, 32, kernel_size=8, stride=4),\n",
        "            nn.ReLU(),\n",
        "            nn.Conv2d(32, 64, kernel_size=4, stride=2),\n",
        "            nn.ReLU(),\n",
        "            nn.Conv2d(64, 64, kernel_size=3, stride=1),\n",
        "            nn.ReLU(),\n",
        "            nn.Flatten(),\n",
        "            nn.Linear(64 * 7 * 7, 512)\n",
        "        )\n",
        "        # self.value = nn.Linear(256, 1)\n",
        "        # self.adv = nn.Linear(256, N_ACTIONS)\n",
        "\n",
        "    # def forward(self, x):\n",
        "    #     x = super().forward(x)\n",
        "    #     value = self.value(x)\n",
        "    #     adv = self.adv(x) - self.adv.mean(dim=1, keepdim=True)\n",
        "    #     return value + adv\n",
        "\n",
        "\n",
        "class DuelingDqnHead(nn.Module):\n",
        "    \"\"\"\n",
        "    Implenets the Dueling DQN logic.\n",
        "    Please, don't think about gradient scaling here (if you know what it is about): it will be implemented below.\n",
        "    \"\"\"\n",
        "    def __init__(self, n_actions, inp_size=64 * 7 * 7, hidden_size=512) -> None:\n",
        "        super().__init__()\n",
        "        self.adv_stream = nn.Sequential(\n",
        "            nn.Linear(512, n_actions)\n",
        "        )\n",
        "        self.value_stream = nn.Sequential(\n",
        "            nn.Linear(512, 1)\n",
        "        )\n",
        "\n",
        "    def forward(self, x: torch.Tensor) -> torch.Tensor:\n",
        "        assert x.ndim == 2, x.shape  # (batch_size, n_features)\n",
        "        adv = self.adv_stream(x)\n",
        "        value = self.value_stream(x)\n",
        "        # print(adv)\n",
        "        # print(value)\n",
        "        # print(value + adv)\n",
        "        return value + adv - adv.mean(dim=1, keepdim=True)\n",
        "        # When calculating the mean advantage, please, remember, x is a batched input!"
      ]
    },
    {
      "cell_type": "markdown",
      "metadata": {
        "id": "l1cTW6Q5_AVz"
      },
      "source": [
        "Let's make a simple test for the network architecture:"
      ]
    },
    {
      "cell_type": "code",
      "execution_count": 19,
      "metadata": {
        "id": "Dkkh3XhV_AV0",
        "outputId": "6727c141-5ed4-44f2-fdee-007deebc6b03",
        "colab": {
          "base_uri": "https://localhost:8080/"
        }
      },
      "outputs": [
        {
          "output_type": "stream",
          "name": "stdout",
          "text": [
            "(4, 84, 84)\n",
            "Test passed!\n"
          ]
        }
      ],
      "source": [
        "@torch.no_grad()\n",
        "def test_network_part_shapes(backbone, head):\n",
        "    batch_size = 3\n",
        "    env = make_final_env()\n",
        "    s, _ = env.reset()\n",
        "    print(s.shape)\n",
        "    inp = torch.rand(batch_size, *s.shape)\n",
        "\n",
        "    features = backbone(inp)\n",
        "    qvalues = head(features)\n",
        "\n",
        "    assert features.ndim == 2, features.shape\n",
        "    assert features.shape[0] == batch_size, features.shape\n",
        "\n",
        "    assert qvalues.ndim == 2, qvalues.shape\n",
        "    assert qvalues.shape[0] == batch_size, qvalues.shape\n",
        "    assert qvalues.shape[1] == N_ACTIONS, qvalues.shape\n",
        "\n",
        "    print(\"Test passed!\")\n",
        "\n",
        "test_network_part_shapes(\n",
        "    backbone=ConvBackbone(N_FRAMES_STACKED),\n",
        "    head=DuelingDqnHead(N_ACTIONS),\n",
        ")"
      ]
    },
    {
      "cell_type": "markdown",
      "metadata": {
        "id": "VQ0z7sc4_AV0"
      },
      "source": [
        "**Now let's build a full model.**"
      ]
    },
    {
      "cell_type": "code",
      "execution_count": 20,
      "metadata": {
        "id": "X9UnslIt_AV1"
      },
      "outputs": [],
      "source": [
        "MAX_UINT_8 = 2 ** 8 - 1\n",
        "\n",
        "\n",
        "class InputScaler(nn.Module):\n",
        "    def __init__(self, mult=1 / MAX_UINT_8):\n",
        "        super().__init__()\n",
        "        self.mult = mult\n",
        "\n",
        "    def forward(self, x: torch.Tensor) -> torch.Tensor:\n",
        "        return x * self.mult\n",
        "\n",
        "\n",
        "class GradScalerFunctional(torch.autograd.Function):\n",
        "    \"\"\"\n",
        "    A torch.autograd.Function works as Identity on forward pass\n",
        "    and scales the gradient by scale_factor on backward pass.\n",
        "    \"\"\"\n",
        "    @staticmethod\n",
        "    def forward(ctx, input, scale_factor):\n",
        "        ctx.scale_factor = scale_factor\n",
        "        return input\n",
        "\n",
        "    @staticmethod\n",
        "    def backward(ctx, grad_output):\n",
        "        scale_factor = ctx.scale_factor\n",
        "        grad_input = grad_output * scale_factor\n",
        "        return grad_input, None\n",
        "\n",
        "\n",
        "class GradScaler(nn.Module):\n",
        "    \"\"\"\n",
        "    An nn.Module incapsulating GradScalerFunctional\n",
        "    \"\"\"\n",
        "    def __init__(self, scale_factor: float):\n",
        "        super().__init__()\n",
        "        self.scale_factor = scale_factor\n",
        "\n",
        "    def forward(self, x):\n",
        "        return GradScalerFunctional.apply(x, self.scale_factor)\n",
        "\n",
        "\n",
        "class DQNetworkDueling(nn.Sequential):\n",
        "    def __init__(self, c_in: int, n_actions: int) -> None:\n",
        "        input_scaler = InputScaler()  # the inputs come from the uint8 range\n",
        "        backbone = ConvBackbone(c_in=c_in)  # your code\n",
        "        grad_scaler = GradScaler(1 / 2**0.5)  # Dueling DQN suggests do scale the gradient by 1 / sqrt(2)\n",
        "        head = DuelingDqnHead(n_actions=n_actions)\n",
        "        super().__init__(input_scaler, backbone, grad_scaler, head)"
      ]
    },
    {
      "cell_type": "code",
      "execution_count": 21,
      "metadata": {
        "id": "ZUmfkbnl_AV2",
        "outputId": "61f643cd-6fff-43a0-99f9-7b5f2f3f19ee",
        "colab": {
          "base_uri": "https://localhost:8080/"
        }
      },
      "outputs": [
        {
          "output_type": "stream",
          "name": "stdout",
          "text": [
            "Test passed!\n"
          ]
        }
      ],
      "source": [
        "@torch.no_grad()\n",
        "def test_network_shapes(model):\n",
        "    batch_size = 3\n",
        "    env = make_final_env()\n",
        "    s, _ = env.reset()\n",
        "    inp = torch.rand(batch_size, *s.shape)\n",
        "\n",
        "    qvalues = model(inp)\n",
        "\n",
        "    assert qvalues.ndim == 2, qvalues.shape\n",
        "    assert qvalues.shape[0] == batch_size, qvalues.shape\n",
        "    assert qvalues.shape[1] == N_ACTIONS, qvalues.shape\n",
        "\n",
        "    print(\"Test passed!\")\n",
        "\n",
        "test_network_shapes(model=DQNetworkDueling(N_FRAMES_STACKED, N_ACTIONS))"
      ]
    },
    {
      "cell_type": "markdown",
      "metadata": {
        "id": "UjRgyWDr_AV2"
      },
      "source": [
        "**Now let's wrap our model into an Agent class.**  \n",
        "It will implement epsilon-greedy policy on numpy ndarrays."
      ]
    },
    {
      "cell_type": "code",
      "execution_count": 22,
      "metadata": {
        "id": "DI_jJFot_AV4"
      },
      "outputs": [],
      "source": [
        "class DQNAgent(nn.Module):\n",
        "    \"\"\"\n",
        "    Epsilon-greedy policy with a torch.nn.Module Q-value estimator.\n",
        "    \"\"\"\n",
        "\n",
        "    def __init__(self, q_network: nn.Module, epsilon=1) -> None:\n",
        "        super().__init__()\n",
        "        self.epsilon = epsilon\n",
        "        self.q_network = q_network\n",
        "\n",
        "    def forward(self, state_t):\n",
        "        \"\"\"\n",
        "        takes agent's observation (tensor), returns qvalues (tensor)\n",
        "        :param state_t: a batch of 4-frame buffers, shape = [batch_size, 4, h, w]\n",
        "        \"\"\"\n",
        "        # Use your network to compute qvalues for given state\n",
        "        qvalues = self.q_network(state_t)\n",
        "        return qvalues\n",
        "\n",
        "    @torch.no_grad()  # we don't need autograd here, so let's save the computations\n",
        "    def get_qvalues(self, states: np.ndarray) -> np.ndarray:\n",
        "        \"\"\"\n",
        "        like forward, but works on numpy arrays, not tensors\n",
        "        \"\"\"\n",
        "        model_device = next(self.parameters()).device\n",
        "        states_pt = torch.tensor(\n",
        "            np.array(states), device=model_device, dtype=torch.float32\n",
        "        )\n",
        "        # Use your network to compute qvalues for given state\n",
        "        qvalues_pt = self.forward(states_pt)\n",
        "        qvalues = qvalues_pt.data.cpu().numpy()\n",
        "        return qvalues\n",
        "\n",
        "    def sample_actions_by_qvalues(self, qvalues: np.ndarray, greedy: bool = False) -> np.ndarray:\n",
        "        \"\"\"pick actions given qvalues. Uses epsilon-greedy exploration strategy.\"\"\"\n",
        "        batch_size, n_actions = qvalues.shape\n",
        "        # greedy_actions =  # your code\n",
        "        greedy_actions = qvalues.argmax(axis=-1)  # your code\n",
        "        if greedy:\n",
        "            return greedy_actions\n",
        "\n",
        "        random_actions = np.random.randint(0, n_actions, size=batch_size)\n",
        "        should_explore = np.random.binomial(10, self.epsilon, size=batch_size)\n",
        "        epsilon_greedy_actions = np.where(\n",
        "            should_explore >= 7, random_actions, greedy_actions\n",
        "        )\n",
        "        return epsilon_greedy_actions\n",
        "\n",
        "    def sample_actions(self, states: np.ndarray, greedy=False) -> np.ndarray:\n",
        "        qvalues = self.get_qvalues(states)\n",
        "        actions = self.sample_actions_by_qvalues(qvalues, greedy)\n",
        "        return actions"
      ]
    },
    {
      "cell_type": "code",
      "execution_count": 23,
      "metadata": {
        "id": "MaNpC8_y_AV5",
        "outputId": "98518be1-fe8c-41eb-a9ff-1927d6247804",
        "colab": {
          "base_uri": "https://localhost:8080/"
        }
      },
      "outputs": [
        {
          "output_type": "stream",
          "name": "stdout",
          "text": [
            "Test passed!\n"
          ]
        }
      ],
      "source": [
        "test_network_shapes(\n",
        "    model=DQNAgent(DQNetworkDueling(N_FRAMES_STACKED, N_ACTIONS))\n",
        ")"
      ]
    },
    {
      "cell_type": "code",
      "execution_count": 24,
      "metadata": {
        "id": "BUFMLKX1soUC"
      },
      "outputs": [],
      "source": [
        "agent = DQNAgent(\n",
        "    DQNetworkDueling(N_FRAMES_STACKED, N_ACTIONS),\n",
        "    epsilon=0.5\n",
        ").to(device)"
      ]
    },
    {
      "cell_type": "markdown",
      "metadata": {
        "id": "XbsIT2EdsoUC"
      },
      "source": [
        "Now let's try out our agent to see if it raises any errors."
      ]
    },
    {
      "cell_type": "code",
      "execution_count": 25,
      "metadata": {
        "id": "pZR3qE2esoUC",
        "outputId": "38218290-6320-44dd-aeae-bde4d5ee0248",
        "colab": {
          "base_uri": "https://localhost:8080/"
        }
      },
      "outputs": [
        {
          "output_type": "stream",
          "name": "stdout",
          "text": [
            "0.0\n",
            "0.0\n"
          ]
        }
      ],
      "source": [
        "def evaluate(env, agent, n_games=1, greedy=False, t_max=10000, seed=None):\n",
        "    \"\"\" Plays n_games full games. If greedy, picks actions as argmax(qvalues). Returns mean reward. \"\"\"\n",
        "    rewards = []\n",
        "    for _ in range(n_games):\n",
        "        s, _ = env.reset(seed=seed)\n",
        "        reward = 0\n",
        "        for _ in range(t_max):\n",
        "            action = agent.sample_actions(np.array(s)[None], greedy=greedy)[0]\n",
        "            s, r, terminated, truncated, _ = env.step(action)\n",
        "            reward += r\n",
        "            if terminated or truncated:\n",
        "                break\n",
        "\n",
        "        rewards.append(reward)\n",
        "    return np.mean(rewards)\n",
        "\n",
        "print(evaluate(env, agent, n_games=1, greedy=False))\n",
        "print(evaluate(env, agent, n_games=1, greedy=True))"
      ]
    },
    {
      "cell_type": "markdown",
      "metadata": {
        "id": "2BiRixA-soUC"
      },
      "source": [
        "### Experience replay\n",
        "For this assignment, we provide you with experience replay buffer.\n",
        "\n",
        "<!-- <img src=\"img/exp_replay.png\" alt=\"exp_replay\" width=\"500\"/> -->\n",
        "![img](https://github.com/yandexdataschool/Practical_RL/raw/master/yet_another_week/_resource/exp_replay.png)\n"
      ]
    },
    {
      "cell_type": "markdown",
      "metadata": {
        "id": "jTBZo5BVsoUC"
      },
      "source": [
        "#### The interface is fairly simple:\n",
        "* `exp_replay.add(obs, act, rw, next_obs, done)` - saves (s,a,r,s',done) tuple into the buffer\n",
        "* `exp_replay.sample(batch_size)` - returns observations, actions, rewards, next_observations and is_done for `batch_size` random samples.\n",
        "* `len(exp_replay)` - returns number of elements stored in replay buffer."
      ]
    },
    {
      "cell_type": "code",
      "execution_count": 26,
      "metadata": {
        "id": "Ydi0KK9LsoUC"
      },
      "outputs": [],
      "source": [
        "from dqn.replay_buffer import ReplayBuffer\n",
        "exp_replay = ReplayBuffer(10)\n",
        "\n",
        "for _ in range(30):\n",
        "    exp_replay.add(env.reset()[0], env.action_space.sample(), 1.0, env.reset()[0], done=False)\n",
        "\n",
        "obs_batch, act_batch, reward_batch, next_obs_batch, is_done_batch = exp_replay.sample(5)\n",
        "\n",
        "assert len(exp_replay) == 10, \"experience replay size should be 10 because that's what maximum capacity is\""
      ]
    },
    {
      "cell_type": "markdown",
      "metadata": {
        "id": "RUR6PYK0_AWC"
      },
      "source": [
        "**The `play_and_record` function, defined below is the main way the agent will interact with the environment during training.**\n",
        "\n",
        "Previously we used to train RL algorithms on entire episodes.  \n",
        "\n",
        "This time we keep the environment constantly running and will be getting small portions of interactions with it.\n",
        "\n",
        "The agent takes several actions (4 actions in [2] and [3]), the corresponding (s, a, r, s', terminated) tuples are put into the replay buffer.  \n",
        "Whenever an episode finishes (i.e. `truncated or terminated`), the environment is reset and the procedure continues as usually.  \n",
        "\n",
        "To make the first step in a constantly running environment, the agent needs to know the state of the environment. This is the meaning of the `initial_state` argument of the function.\n",
        "\n",
        "It's worth noting, the agent does not train on the fresh tuples immediately. The agent trains on samples which are sampled from the buffer.\n",
        "\n",
        "**Implementation note:**\n",
        "We define an `ActionSampler` protocol. The goal of it is to let the function `play_and_record` accept not only `DQNAgent` class instances, but any object that can sample actions."
      ]
    },
    {
      "cell_type": "code",
      "execution_count": 27,
      "metadata": {
        "id": "cEXv69KWsoUC"
      },
      "outputs": [],
      "source": [
        "from typing import Protocol\n",
        "\n",
        "\n",
        "class ActionSampler(Protocol):\n",
        "    \"\"\"\n",
        "    A protocol which defines an Callable which samples actions from states\n",
        "    \"\"\"\n",
        "\n",
        "    def __call__(\n",
        "        self, state: gym.wrappers.stateful_observation.FrameStackObservation\n",
        "    ) -> int: ...\n",
        "\n",
        "\n",
        "class RandomActionSampler:\n",
        "    \"\"\"\n",
        "    We will need this guy to fill the buffer with initial 50-200K observations from a random policy.\n",
        "    \"\"\"\n",
        "\n",
        "    def __init__(self, action_space) -> None:\n",
        "        self.action_space = action_space\n",
        "\n",
        "    def __call__(\n",
        "        self, state: gym.wrappers.stateful_observation.FrameStackObservation\n",
        "    ) -> int:\n",
        "        action = self.action_space.sample()\n",
        "        return action\n",
        "\n",
        "\n",
        "class DqnActionSampler:\n",
        "    \"\"\"\n",
        "    DQNAgent works on batched np.ndarray inputs.\n",
        "    This class uses a DQNAgent to sample actions from single LazyFrames observations.\n",
        "\n",
        "    This will be an epsilon-greedy sampler.\n",
        "    A greedy sampler can be defined as well, but we won't need it.\n",
        "    \"\"\"\n",
        "\n",
        "    def __init__(self, agent: DQNAgent):\n",
        "        self.agent = agent\n",
        "\n",
        "    def __call__(\n",
        "        self, state: gym.wrappers.stateful_observation.FrameStackObservation\n",
        "    ) -> int:\n",
        "        state_batched = np.array(state)[None]\n",
        "        action_batched = self.agent.sample_actions(state_batched, greedy=False)\n",
        "        action = action_batched.item()\n",
        "        return action\n",
        "\n",
        "\n",
        "@torch.no_grad()\n",
        "def play_and_record(\n",
        "    initial_state: gym.wrappers.stateful_observation.FrameStackObservation,\n",
        "    action_sampler: ActionSampler,\n",
        "    env,\n",
        "    exp_replay,\n",
        "    n_steps=1,\n",
        "):\n",
        "    \"\"\"\n",
        "    Play the game for exactly n_steps, record every (s,a,r,s', done) to replay buffer.\n",
        "    Whenever game ends due to termination or truncation, add record with done=terminated and reset the game.\n",
        "    It is guaranteed that env has terminated=False when passed to this function.\n",
        "\n",
        "    PLEASE DO NOT RESET ENV UNLESS IT IS \"DONE\"\n",
        "\n",
        "    :returns: return sum of rewards over time and the state in which the env stays\n",
        "    \"\"\"\n",
        "    s = initial_state\n",
        "    sum_rewards = 0\n",
        "\n",
        "    # Play the game for n_steps as per instructions above\n",
        "    for _ in range(n_steps):\n",
        "      action = action_sampler(s)\n",
        "      next_s, r, terminate, truncate, _ = env.step(action)\n",
        "      sum_rewards += r\n",
        "      exp_replay.add(s, action, r, next_s, terminate)\n",
        "      if terminate:\n",
        "        next_s, _ = env.reset()\n",
        "      s = next_s\n",
        "\n",
        "    return sum_rewards, s\n"
      ]
    },
    {
      "cell_type": "code",
      "execution_count": 28,
      "metadata": {
        "id": "lA53O8CG_AWF",
        "colab": {
          "base_uri": "https://localhost:8080/"
        },
        "outputId": "99506e05-0e84-410b-f3f8-0ec16f677416"
      },
      "outputs": [
        {
          "output_type": "stream",
          "name": "stdout",
          "text": [
            "Random:\n",
            "Well done!\n",
            "DQN:\n",
            "Well done!\n"
          ]
        }
      ],
      "source": [
        "def test_play_and_record(action_sampler):\n",
        "    exp_replay = ReplayBuffer(10_000)\n",
        "\n",
        "    state, _ = env.reset()\n",
        "\n",
        "    # action_sampler = RandomActionSampler(env.action_space)\n",
        "    action_sampler = DqnActionSampler(agent)\n",
        "    play_and_record(state, action_sampler, env, exp_replay, n_steps=1000);\n",
        "\n",
        "    # if you're using your own experience replay buffer, some of those tests may need correction.\n",
        "    # just make sure you know what your code does\n",
        "    assert len(exp_replay) == 1000, \\\n",
        "        \"play_and_record should have added exactly 1000 steps, \" \\\n",
        "        \"but instead added %i\" % len(exp_replay)\n",
        "    is_dones = list(zip(*exp_replay._storage))[-1]\n",
        "\n",
        "    assert 0 < np.mean(is_dones) < 0.1, \\\n",
        "        \"Please make sure you restart the game whenever it is 'done' and \" \\\n",
        "        \"record the is_done correctly into the buffer. Got %f is_done rate over \" \\\n",
        "        \"%i steps. [If you think it's your tough luck, just re-run the test]\" % (\n",
        "            np.mean(is_dones), len(exp_replay))\n",
        "\n",
        "    for _ in range(100):\n",
        "        obs_batch, act_batch, reward_batch, next_obs_batch, is_done_batch = exp_replay.sample(10)\n",
        "        assert obs_batch.shape == next_obs_batch.shape == (10,) + STATE_SHAPE\n",
        "        assert act_batch.shape == (10,), \\\n",
        "            \"actions batch should have shape (10,) but is instead %s\" % str(act_batch.shape)\n",
        "        assert reward_batch.shape == (10,), \\\n",
        "            \"rewards batch should have shape (10,) but is instead %s\" % str(reward_batch.shape)\n",
        "        assert is_done_batch.shape == (10,), \\\n",
        "            \"is_done batch should have shape (10,) but is instead %s\" % str(is_done_batch.shape)\n",
        "        assert [int(i) in (0, 1) for i in is_dones], \\\n",
        "            \"is_done should be strictly True or False\"\n",
        "        assert [0 <= a < N_ACTIONS for a in act_batch], \"actions should be within [0, n_actions)\"\n",
        "\n",
        "    print(\"Well done!\")\n",
        "\n",
        "\n",
        "print(\"Random:\")\n",
        "test_play_and_record(RandomActionSampler(env.action_space))\n",
        "print(\"DQN:\")\n",
        "test_play_and_record(DqnActionSampler(agent))"
      ]
    },
    {
      "cell_type": "markdown",
      "metadata": {
        "id": "y5zyryPOsoUF"
      },
      "source": [
        "### Target networks\n",
        "\n",
        "We also employ the so called \"target network\" - a copy of neural network weights to be used for reference Q-values:\n",
        "\n",
        "The network itself is an exact copy of agent network, but it's parameters are not trained. Instead, they are moved here from agent's actual network every so often.\n",
        "\n",
        "$$ Q_{reference}(s,a) = r + \\gamma \\cdot \\max _{a'} Q_{target}(s',a') $$\n",
        "\n",
        "![img](https://github.com/yandexdataschool/Practical_RL/raw/master/yet_another_week/_resource/target_net.png)"
      ]
    },
    {
      "cell_type": "code",
      "execution_count": 29,
      "metadata": {
        "id": "9QKu-uWa_AWH",
        "colab": {
          "base_uri": "https://localhost:8080/"
        },
        "outputId": "4bb7d9d4-8830-4c7c-d38d-66b37c586162"
      },
      "outputs": [
        {
          "output_type": "execute_result",
          "data": {
            "text/plain": [
              "<All keys matched successfully>"
            ]
          },
          "metadata": {},
          "execution_count": 29
        }
      ],
      "source": [
        "target_network = DQNetworkDueling(N_FRAMES_STACKED, N_ACTIONS).to(device)\n",
        "target_network.load_state_dict(agent.q_network.state_dict())"
      ]
    },
    {
      "cell_type": "markdown",
      "metadata": {
        "id": "2idY8QX0soUF"
      },
      "source": [
        "### Learning with... Q-learning\n",
        "Here we write a function similar to `agent.update` from tabular q-learning."
      ]
    },
    {
      "cell_type": "markdown",
      "metadata": {
        "id": "k46MPwwwsoUF"
      },
      "source": [
        "Compute Q-learning TD error:\n",
        "\n",
        "$$ L = { 1 \\over N} \\sum_i [ Q_{\\theta}(s,a) - Q_{reference}(s,a) ] ^2 $$\n",
        "\n",
        "With Q-reference defined as\n",
        "\n",
        "$$ Q_{reference}(s,a) = r(s,a) + \\gamma \\cdot max_{a'} Q_{target}(s', a') $$\n",
        "\n",
        "Where\n",
        "* $Q_{target}(s',a')$ denotes Q-value of next state and next action predicted by __target_network__\n",
        "* $s, a, r, s'$ are current state, action, reward and next state respectively\n",
        "* $\\gamma$ is a discount factor defined two cells above.\n",
        "\n",
        "\n",
        "__Note 1:__ there's an example input below. Feel free to experiment with it before you write the function.\n",
        "\n",
        "__Note 2:__ compute_td_loss is a major source of of bugs in this homework. We tried to cover it with tests, but if reward doesn't improve, it often helps to go through it line by line [with a rubber duck](https://rubberduckdebugging.com/).\n",
        "\n",
        "**Double DQN**\n",
        "\n",
        "$$ Q_{reference}(s,a) = r(s, a) + \\gamma \\cdot\n",
        "Q_{target}(s',argmax_{a'}Q_\\theta(s', a')) $$\n",
        "\n",
        "We will use Double DQN for training, but **we ask you to implement both** of the methods to experience the difference."
      ]
    },
    {
      "cell_type": "code",
      "execution_count": 30,
      "metadata": {
        "id": "V02HcUYasoUG"
      },
      "outputs": [],
      "source": [
        "def compute_td_loss_on_tensors(\n",
        "    states: torch.Tensor,  # (batch_size, *state_shape)\n",
        "    actions: torch.Tensor,  # (batch_size,)\n",
        "    rewards: torch.Tensor,  # (batch_size,)\n",
        "    next_states: torch.Tensor,  # (batch_size, *state_shape)\n",
        "    is_done: torch.Tensor,  # (batch_size,), torch.bool\n",
        "    agent: nn.Module,\n",
        "    target_network: nn.Module,\n",
        "    gamma: float = 0.99,\n",
        "    check_shapes=False,\n",
        "):\n",
        "    predicted_qvalues = agent(states)  # shape: [batch_size, n_actions]\n",
        "    assert is_done.dtype is torch.bool\n",
        "\n",
        "    # compute q-values for all actions in next states\n",
        "    with torch.no_grad():\n",
        "        predicted_next_qvalues_target = target_network(next_states)  # shape: [batch_size, n_actions]\n",
        "\n",
        "    # select q-values for chosen actions\n",
        "    predicted_qvalues_for_actions = predicted_qvalues[\n",
        "        range(len(actions)), actions\n",
        "    ]  # shape: [batch_size]\n",
        "\n",
        "    # compute V*(next_states) using predicted next q-values\n",
        "    next_state_values = torch.max(predicted_next_qvalues_target, dim=1).values\n",
        "\n",
        "    if check_shapes:\n",
        "        assert (\n",
        "            next_state_values.dim() == 1\n",
        "            and next_state_values.shape[0] == states.shape[0]\n",
        "        ), \"must predict one value per state\"\n",
        "        assert not next_state_values.requires_grad\n",
        "\n",
        "    # compute \"target q-values\" for loss - it's what's inside square parentheses in the above formula.\n",
        "    # at the last state use the simplified formula: Q(s,a) = r(s,a) since s' doesn't exist\n",
        "    target_qvalues_for_actions =  rewards + gamma * next_state_values * (1 - is_done.int())\n",
        "\n",
        "    # mean squared error loss to minimize\n",
        "    loss = torch.mean((predicted_qvalues_for_actions - target_qvalues_for_actions) ** 2)\n",
        "\n",
        "    if check_shapes:\n",
        "        assert (\n",
        "            predicted_next_qvalues_target.data.dim() == 2\n",
        "        ), \"make sure you predicted q-values for all actions in next state\"\n",
        "        assert (\n",
        "            next_state_values.data.dim() == 1\n",
        "        ), \"make sure you computed V(s') as maximum over just the actions axis and not all axes\"\n",
        "        assert (\n",
        "            target_qvalues_for_actions.data.dim() == 1\n",
        "        ), \"there's something wrong with target q-values, they must be a vector\"\n",
        "\n",
        "    return loss"
      ]
    },
    {
      "cell_type": "code",
      "execution_count": 31,
      "metadata": {
        "id": "5qVcpZ5h_AWM",
        "colab": {
          "base_uri": "https://localhost:8080/"
        },
        "outputId": "f6a04bdc-40db-4d04-c7fe-cf8a52d1c987"
      },
      "outputs": [
        {
          "output_type": "stream",
          "name": "stdout",
          "text": [
            "Well done!\n"
          ]
        }
      ],
      "source": [
        "from test_td_loss.compute_td_loss import test_is_done_is_used, test_compute_td_loss_vanilla\n",
        "\n",
        "test_compute_td_loss_vanilla(compute_td_loss_on_tensors)\n",
        "print(\"Well done!\")"
      ]
    },
    {
      "cell_type": "code",
      "execution_count": 32,
      "metadata": {
        "id": "TXsMsPeQ_AWN"
      },
      "outputs": [],
      "source": [
        "def compute_td_loss_on_tensors_double(\n",
        "    states: torch.Tensor,  # (batch_size, *state_shape)\n",
        "    actions: torch.Tensor,  # (batch_size,)\n",
        "    rewards: torch.Tensor,  # (batch_size,)\n",
        "    next_states: torch.Tensor,  # (batch_size, *state_shape)\n",
        "    is_done: torch.Tensor,  # (batch_size,), torch.bool\n",
        "    agent: nn.Module,\n",
        "    target_network: nn.Module,\n",
        "    gamma: float = 0.99,\n",
        "    check_shapes=False,\n",
        "):\n",
        "    predicted_qvalues = agent(states)  # shape: [batch_size, n_actions]\n",
        "    assert is_done.dtype is torch.bool\n",
        "\n",
        "    # compute q-values for all actions in next states\n",
        "    predicted_next_qvalues_target = torch.max(predicted_qvalues, dim=1).indices  # shape: [batch_size, n_actions]\n",
        "\n",
        "    # select q-values for chosen actions\n",
        "    predicted_qvalues_for_actions = predicted_qvalues[\n",
        "        range(len(actions)), actions\n",
        "    ]  # shape: [batch_size]\n",
        "\n",
        "    # compute V*(next_states) using predicted next q-values\n",
        "    with torch.no_grad():\n",
        "        next_state_values = target_network(next_states)\n",
        "        next_state_values = next_state_values[range(len(predicted_next_qvalues_target)), predicted_next_qvalues_target]\n",
        "\n",
        "    if check_shapes:\n",
        "        assert (\n",
        "            next_state_values.dim() == 1\n",
        "            and next_state_values.shape[0] == states.shape[0]\n",
        "        ), \"must predict one value per state\"\n",
        "        assert not next_state_values.requires_grad\n",
        "\n",
        "    # compute \"target q-values\" for loss - it's what's inside square parentheses in the above formula.\n",
        "    # at the last state use the simplified formula: Q(s,a) = r(s,a) since s' doesn't exist\n",
        "    target_qvalues_for_actions =  rewards + gamma * next_state_values * (1 - is_done.int())\n",
        "\n",
        "    # mean squared error loss to minimize\n",
        "    loss = torch.mean((predicted_qvalues_for_actions - target_qvalues_for_actions) ** 2)\n",
        "\n",
        "    if check_shapes:\n",
        "        assert (\n",
        "            next_state_values.data.dim() == 1\n",
        "        ), \"make sure you computed V(s') as maximum over just the actions axis and not all axes\"\n",
        "        assert (\n",
        "            target_qvalues_for_actions.data.dim() == 1\n",
        "        ), \"there's something wrong with target q-values, they must be a vector\"\n",
        "\n",
        "    return loss"
      ]
    },
    {
      "cell_type": "code",
      "execution_count": 33,
      "metadata": {
        "id": "qR8T4jrv_AWO",
        "colab": {
          "base_uri": "https://localhost:8080/"
        },
        "outputId": "7e2efe2f-5f0c-4dfa-f58e-47493f861877"
      },
      "outputs": [
        {
          "output_type": "stream",
          "name": "stdout",
          "text": [
            "Well done!\n"
          ]
        }
      ],
      "source": [
        "from test_td_loss.compute_td_loss import test_compute_td_loss_double\n",
        "\n",
        "test_compute_td_loss_double(compute_td_loss_on_tensors_double)\n",
        "print(\"Well done!\")"
      ]
    },
    {
      "cell_type": "markdown",
      "metadata": {
        "id": "vqLy7AnG_AWP"
      },
      "source": [
        "**The following function works on np.ndarrays: it converts its inputs to torch.Tensors and calls the torch-tensor function**"
      ]
    },
    {
      "cell_type": "code",
      "execution_count": 34,
      "metadata": {
        "id": "EGIt2ysW_AWQ"
      },
      "outputs": [],
      "source": [
        "def compute_td_loss(\n",
        "    states,\n",
        "    actions,\n",
        "    rewards,\n",
        "    next_states,\n",
        "    is_done,\n",
        "    agent,\n",
        "    target_network,\n",
        "    gamma=0.99,\n",
        "    check_shapes=False,\n",
        "    device=None,\n",
        "    tensor_loss_evaluator=compute_td_loss_on_tensors_double,\n",
        "):\n",
        "    \"\"\"Compute td loss using torch operations only. Use the formulae above.\"\"\"\n",
        "\n",
        "    if device is None:\n",
        "        device = next(agent.parameters()).device\n",
        "    states = torch.as_tensor(\n",
        "        states, device=device, dtype=torch.float32\n",
        "    )  # shape: [batch_size, *state_shape]\n",
        "    actions = torch.as_tensor(\n",
        "        actions, device=device, dtype=torch.int64\n",
        "    )  # shape: [batch_size]\n",
        "    rewards = torch.as_tensor(\n",
        "        rewards, device=device, dtype=torch.float32\n",
        "    )  # shape: [batch_size]\n",
        "    # shape: [batch_size, *state_shape]\n",
        "    next_states = torch.as_tensor(next_states, device=device, dtype=torch.float)\n",
        "    is_done = torch.as_tensor(\n",
        "        is_done, device=device, dtype=torch.bool\n",
        "    )  # shape: [batch_size]\n",
        "\n",
        "    return tensor_loss_evaluator(\n",
        "        states=states,\n",
        "        actions=actions,\n",
        "        rewards=rewards,\n",
        "        next_states=next_states,\n",
        "        is_done=is_done,\n",
        "        agent=agent,\n",
        "        target_network=target_network,\n",
        "        gamma=gamma,\n",
        "        check_shapes=check_shapes,\n",
        "    )\n"
      ]
    },
    {
      "cell_type": "markdown",
      "metadata": {
        "id": "x8AvquAtsoUG"
      },
      "source": [
        "Sanity checks"
      ]
    },
    {
      "cell_type": "code",
      "execution_count": 35,
      "metadata": {
        "id": "5nRoOn30soUG"
      },
      "outputs": [],
      "source": [
        "obs_batch, act_batch, reward_batch, next_obs_batch, is_done_batch = exp_replay.sample(10)\n",
        "\n",
        "loss = compute_td_loss(obs_batch, act_batch, reward_batch, next_obs_batch, is_done_batch,\n",
        "                       agent, target_network,\n",
        "                       gamma=0.99, check_shapes=True)\n",
        "loss.backward()\n",
        "\n",
        "assert loss.requires_grad and tuple(loss.data.size()) == (), \\\n",
        "    \"you must return scalar loss - mean over batch\"\n",
        "assert np.any(next(agent.parameters()).grad.data.cpu().numpy() != 0), \\\n",
        "    \"loss must be differentiable w.r.t. network weights\"\n",
        "assert np.all(next(target_network.parameters()).grad is None), \\\n",
        "    \"target network should not have grads\""
      ]
    },
    {
      "cell_type": "markdown",
      "metadata": {
        "id": "KIplL0hSsoUG"
      },
      "source": [
        "## Main loop (3 pts)\n",
        "\n",
        "**If deadline is tonight and it has not converged:** It is ok. Send the notebook today and when it converges send it again.\n",
        "If the code is exactly the same points will not be discounted.\n",
        "\n",
        "It's time to put everything together and see if it learns anything."
      ]
    },
    {
      "cell_type": "code",
      "execution_count": 36,
      "metadata": {
        "id": "-JV-ulB-soUG",
        "colab": {
          "base_uri": "https://localhost:8080/"
        },
        "outputId": "ac7225ef-b25f-4960-ad95-36be34dc0ff8"
      },
      "outputs": [
        {
          "output_type": "stream",
          "name": "stderr",
          "text": [
            "/usr/local/lib/python3.12/dist-packages/jupyter_client/session.py:203: DeprecationWarning: datetime.datetime.utcnow() is deprecated and scheduled for removal in a future version. Use timezone-aware objects to represent datetimes in UTC: datetime.datetime.now(datetime.UTC).\n",
            "  return datetime.utcnow().replace(tzinfo=utc)\n"
          ]
        }
      ],
      "source": [
        "from tqdm.auto import trange\n",
        "from IPython.display import clear_output\n",
        "import matplotlib.pyplot as plt"
      ]
    },
    {
      "cell_type": "code",
      "execution_count": 37,
      "metadata": {
        "id": "rByksTir_AWW",
        "colab": {
          "base_uri": "https://localhost:8080/"
        },
        "outputId": "9070f320-c614-46e0-b7d2-3f6352a38c69"
      },
      "outputs": [
        {
          "output_type": "execute_result",
          "data": {
            "text/plain": [
              "<torch._C.Generator at 0x7ba5b8dc9450>"
            ]
          },
          "metadata": {},
          "execution_count": 37
        }
      ],
      "source": [
        "import random\n",
        "\n",
        "seed = 10\n",
        "random.seed(seed)\n",
        "np.random.seed(seed)\n",
        "torch.manual_seed(seed)"
      ]
    },
    {
      "cell_type": "code",
      "execution_count": 38,
      "metadata": {
        "id": "-eurxA-_soUG"
      },
      "outputs": [],
      "source": [
        "env = make_final_env()\n",
        "\n",
        "state, _ = env.reset(seed=seed)\n",
        "\n",
        "agent = DQNAgent(\n",
        "    DQNetworkDueling(N_FRAMES_STACKED, N_ACTIONS),\n",
        "    epsilon=1\n",
        ").to(device)\n",
        "target_network = DQNetworkDueling(N_FRAMES_STACKED, N_ACTIONS).to(device)\n",
        "target_network.load_state_dict(agent.q_network.state_dict())\n",
        "\n",
        "action_sampler = DqnActionSampler(agent)\n",
        "action_sampler_random = RandomActionSampler(env.action_space)"
      ]
    },
    {
      "cell_type": "markdown",
      "metadata": {
        "id": "WZg25kIasoUG"
      },
      "source": [
        "Buffer of size $10^4$ can probably pass the threshold for this assignment.\n",
        "\n",
        "Larger sizes ($10^5$ and $10^6$ are common) can show a much higher score."
      ]
    },
    {
      "cell_type": "code",
      "execution_count": 39,
      "metadata": {
        "id": "hWyMxfN4soUG",
        "scrolled": true,
        "colab": {
          "base_uri": "https://localhost:8080/",
          "height": 67,
          "referenced_widgets": [
            "8da8f8af8a0d49b6b2647160a619108a",
            "44c855bfd6644d869ce5c5cab1fc6933",
            "64918dcda2924e2b86dd009cb9222874",
            "59e2f8fdbbbd4fe7958a2c490556812b",
            "facfc0465a3f466e93cea80e21971d58",
            "62613b32d6c145b5a764c484a664cc97",
            "196cb479a9274bf988b67570fa39eeef",
            "b1803fcd0f054aa7bbae3494a2832497",
            "ea1b707ad4544fb98fc720d9bc1c1058",
            "895610da7f124cf787d8ed700df7cbf1",
            "1ca2dd4e4e504a20936bb741933930dc"
          ]
        },
        "outputId": "b38ba578-447a-4242-bb8c-c012bee8b6fa"
      },
      "outputs": [
        {
          "output_type": "display_data",
          "data": {
            "text/plain": [
              "  0%|          | 0/2000 [00:00<?, ?it/s]"
            ],
            "application/vnd.jupyter.widget-view+json": {
              "version_major": 2,
              "version_minor": 0,
              "model_id": "8da8f8af8a0d49b6b2647160a619108a"
            }
          },
          "metadata": {}
        },
        {
          "output_type": "stream",
          "name": "stdout",
          "text": [
            "200000\n"
          ]
        }
      ],
      "source": [
        "from dqn.utils import is_enough_ram\n",
        "\n",
        "REPLAY_BUFFER_SIZE = 10**6\n",
        "# INITIAL_BUFFER_FILL = 50_000  # Nature DQN Extended Data Table 1\n",
        "INITIAL_BUFFER_FILL = 200_000  # Rainbow without prioritization\n",
        "_n_steps = 100\n",
        "\n",
        "exp_replay = ReplayBuffer(REPLAY_BUFFER_SIZE)\n",
        "for i in trange(INITIAL_BUFFER_FILL // _n_steps):\n",
        "    if not is_enough_ram(min_available_gb=0.1):\n",
        "        print(\"\"\"\n",
        "            Less than 100 Mb RAM available.\n",
        "            Make sure the buffer size in not too huge.\n",
        "            Also check, maybe other processes consume RAM heavily.\n",
        "            \"\"\"\n",
        "             )\n",
        "        break\n",
        "    play_and_record(state, action_sampler_random, env, exp_replay, n_steps=_n_steps)\n",
        "    if len(exp_replay) >= INITIAL_BUFFER_FILL:\n",
        "        break\n",
        "print(len(exp_replay))"
      ]
    },
    {
      "cell_type": "code",
      "execution_count": 40,
      "metadata": {
        "id": "Iw8NFc22_AWb",
        "colab": {
          "base_uri": "https://localhost:8080/"
        },
        "outputId": "75c2de6f-64a9-40af-f158-7373ab08a5d6"
      },
      "outputs": [
        {
          "output_type": "execute_result",
          "data": {
            "text/plain": [
              "200000"
            ]
          },
          "metadata": {},
          "execution_count": 40
        }
      ],
      "source": [
        "len(exp_replay)"
      ]
    },
    {
      "cell_type": "code",
      "execution_count": 41,
      "metadata": {
        "id": "_ca9vbW4soUG",
        "colab": {
          "base_uri": "https://localhost:8080/"
        },
        "outputId": "b9560d0a-1d5a-4250-ba51-9555be8ba9e9"
      },
      "outputs": [
        {
          "output_type": "stream",
          "name": "stderr",
          "text": [
            "/usr/local/lib/python3.12/dist-packages/jupyter_client/session.py:203: DeprecationWarning: datetime.datetime.utcnow() is deprecated and scheduled for removal in a future version. Use timezone-aware objects to represent datetimes in UTC: datetime.datetime.now(datetime.UTC).\n",
            "  return datetime.utcnow().replace(tzinfo=utc)\n"
          ]
        }
      ],
      "source": [
        "update_frequency = 4  # n_steps for play_and_record; Nature DQN Extended Data Table 1 + Rainbow Table 4: Additional hyper-parameters\n",
        "batch_size = 32  # Nature DQN Extended Data Table 1 + Table 4: Additional hyper-parameters\n",
        "total_steps = 10 * 10**6  # this can be long, feel free to stop the training when the target score is reached\n",
        "decay_steps = 10**6  # Nature DQN Extended Data Table 1\n",
        "\n",
        "opt = torch.optim.Adam(agent.parameters(), lr=6.25e-05, eps=1.4e-4)  # Rainbow\n",
        "\n",
        "init_epsilon = 1  # Nature DQN\n",
        "final_epsilon = 0.1  # Nature DQN\n",
        "\n",
        "loss_freq = 100\n",
        "refresh_target_network_freq = 10_000  # Nature DQN\n",
        "eval_freq = 10_000\n",
        "\n",
        "max_grad_norm = 10  # Dueling DQN\n",
        "\n",
        "n_lives = 5"
      ]
    },
    {
      "cell_type": "code",
      "execution_count": 42,
      "metadata": {
        "id": "oJWs0q-6soUG"
      },
      "outputs": [],
      "source": [
        "step = 0"
      ]
    },
    {
      "cell_type": "code",
      "execution_count": 43,
      "metadata": {
        "id": "675-JU0hsoUG"
      },
      "outputs": [],
      "source": [
        "import time\n",
        "\n",
        "def wait_for_keyboard_interrupt():\n",
        "    try:\n",
        "        while True:\n",
        "            time.sleep(1)\n",
        "    except KeyboardInterrupt:\n",
        "        pass"
      ]
    },
    {
      "cell_type": "code",
      "execution_count": 44,
      "metadata": {
        "id": "jJmxWTvR_AWd",
        "colab": {
          "base_uri": "https://localhost:8080/"
        },
        "outputId": "ccb1eb54-8ee8-49fa-8f6c-e27847fdac57"
      },
      "outputs": [
        {
          "output_type": "stream",
          "name": "stderr",
          "text": [
            "/usr/local/lib/python3.12/dist-packages/jupyter_client/session.py:203: DeprecationWarning: datetime.datetime.utcnow() is deprecated and scheduled for removal in a future version. Use timezone-aware objects to represent datetimes in UTC: datetime.datetime.now(datetime.UTC).\n",
            "  return datetime.utcnow().replace(tzinfo=utc)\n"
          ]
        }
      ],
      "source": [
        "from dqn.utils import linear_decay, is_enough_ram\n",
        "from torch.utils.tensorboard import SummaryWriter\n",
        "from dqn.logger import Logger"
      ]
    },
    {
      "cell_type": "code",
      "execution_count": 45,
      "metadata": {
        "id": "KxdOYpu5_AWe"
      },
      "outputs": [],
      "source": [
        "use_tensorboard = True  # Set to False to use simple matplotlib"
      ]
    },
    {
      "cell_type": "code",
      "execution_count": 46,
      "metadata": {
        "id": "rw8eDMdK_AWf",
        "colab": {
          "base_uri": "https://localhost:8080/",
          "height": 839
        },
        "outputId": "0cc62052-809d-4f8b-f751-6db0821eed14"
      },
      "outputs": [
        {
          "output_type": "display_data",
          "data": {
            "text/plain": [
              "Reusing TensorBoard on port 6006 (pid 7972), started 1:35:30 ago. (Use '!kill 7972' to kill it.)"
            ]
          },
          "metadata": {}
        },
        {
          "output_type": "display_data",
          "data": {
            "text/plain": [
              "<IPython.core.display.Javascript object>"
            ],
            "application/javascript": [
              "\n",
              "        (async () => {\n",
              "            const url = new URL(await google.colab.kernel.proxyPort(6006, {'cache': true}));\n",
              "            url.searchParams.set('tensorboardColab', 'true');\n",
              "            const iframe = document.createElement('iframe');\n",
              "            iframe.src = url;\n",
              "            iframe.setAttribute('width', '100%');\n",
              "            iframe.setAttribute('height', '800');\n",
              "            iframe.setAttribute('frameborder', 0);\n",
              "            document.body.appendChild(iframe);\n",
              "        })();\n",
              "    "
            ]
          },
          "metadata": {}
        }
      ],
      "source": [
        "logger = Logger(use_tensorboard=use_tensorboard)\n",
        "\n",
        "if use_tensorboard:\n",
        "    %load_ext tensorboard\n",
        "    %tensorboard --logdir runs"
      ]
    },
    {
      "cell_type": "code",
      "execution_count": null,
      "metadata": {
        "id": "FgQ1vK3CsoUG",
        "scrolled": true,
        "colab": {
          "base_uri": "https://localhost:8080/",
          "height": 35,
          "referenced_widgets": [
            "f1cc7fe7a9ff474eac30c90be5299996",
            "0597a88ecd7a4fe8befa8be1bba43f0f",
            "6797f05fd9c14589bbfd01404bc9df1d",
            "61440dc1e258458ca7ece1b0394f9bc5",
            "a65d6e6f69004ca3b79247a52c85f9f3",
            "8409b4f72c6746928690d92d2efc3291",
            "7222974408db43ef8e73bc8192a2aa73",
            "5a3eaa322735455d880a4fac8610d572",
            "47ef294f3e1f4741833376bed06a7b05",
            "658d8411f3ef425f8143583892f48739",
            "efbc42ebc3f04b8c91d2b661d7cba0c9"
          ]
        },
        "outputId": "08bdcae0-efcb-4510-b22e-bbe6ec8b8b2c"
      },
      "outputs": [
        {
          "output_type": "stream",
          "name": "stdout",
          "text": [
            "Buffer size = 240004, Epsilon = 0.99100\n"
          ]
        }
      ],
      "source": [
        "env = make_final_env()\n",
        "state, _ = env.reset()\n",
        "\n",
        "with trange(step, total_steps + 1) as progress_bar:\n",
        "    for step in progress_bar:\n",
        "        if not is_enough_ram():\n",
        "            print('Less than 100 MB RAM available, freezing.')\n",
        "            print('Ensure everything is okay and use KeyboardInterrupt to continue.')\n",
        "            wait_for_keyboard_interrupt()\n",
        "\n",
        "        agent.epsilon = linear_decay(init_epsilon, final_epsilon, step, decay_steps)\n",
        "\n",
        "        # Play\n",
        "        _, state = play_and_record(state, action_sampler, env, exp_replay, n_steps=update_frequency)\n",
        "\n",
        "        # Train\n",
        "        s, a, r, s_next, done = exp_replay.sample(batch_size)\n",
        "        # <YOUR CODE: sample batch_size of data from experience replay>\n",
        "        s, a, r, s_next, done = map(torch.as_tensor, (s, a, r, s_next, done))\n",
        "        s = s.to(device)\n",
        "        a = a.to(device)\n",
        "        r = r.to(device)\n",
        "        s_next = s_next.to(device)\n",
        "        done = done.to(device)\n",
        "\n",
        "        loss = compute_td_loss(s, a, r, s_next, done, agent, target_network, device=device)  # Ensure 'device' is defined\n",
        "\n",
        "        loss.backward()\n",
        "        grad_norm = nn.utils.clip_grad_norm_(agent.parameters(), max_grad_norm)\n",
        "        opt.step()\n",
        "        opt.zero_grad()\n",
        "\n",
        "        if step % loss_freq == 0:\n",
        "            loss_value = loss.data.cpu().item()\n",
        "            grad_norm_value = grad_norm.cpu().item()\n",
        "            logger.log_loss(loss_value, step)\n",
        "            logger.log_grad_norm(grad_norm_value, step)\n",
        "\n",
        "        if step % refresh_target_network_freq == 0:\n",
        "            # Load agent weights into target_network\n",
        "            target_network.load_state_dict(agent.q_network.state_dict())\n",
        "            torch.save(agent.state_dict(), \"last_state_dict.pt\")\n",
        "\n",
        "        if step % eval_freq == 0:\n",
        "            mean_reward = evaluate(\n",
        "                make_final_env(), agent, n_games=3 * n_lives, greedy=True, seed=step\n",
        "            )\n",
        "            initial_state_q_values = agent.get_qvalues(\n",
        "                [make_final_env().reset(seed=step)[0]]\n",
        "            )\n",
        "            initial_v = np.max(initial_state_q_values).item()\n",
        "\n",
        "            logger.log_mean_reward(mean_reward, step)\n",
        "            logger.log_initial_state_v(initial_v, step)\n",
        "\n",
        "            clear_output(True)\n",
        "            print(\"Buffer size = %i, Epsilon = %.5f\" % (len(exp_replay), agent.epsilon))\n",
        "\n",
        "            if not use_tensorboard:\n",
        "                # If using matplotlib, plot the metrics\n",
        "                logger.plot()"
      ]
    },
    {
      "cell_type": "code",
      "execution_count": null,
      "metadata": {
        "id": "Xhoy_fG1_AWi"
      },
      "outputs": [],
      "source": [
        "agent = DQNAgent(\n",
        "    DQNetworkDueling(N_FRAMES_STACKED, N_ACTIONS),\n",
        "    epsilon=1\n",
        ").to(device)\n",
        "agent.load_state_dict(torch.load(\"last_state_dict.pt\"))"
      ]
    },
    {
      "cell_type": "markdown",
      "metadata": {
        "id": "ZEDQhQrdsoUG"
      },
      "source": [
        "Agent is evaluated for 1 life, not for a whole episode of 5 lives. Rewards in evaluation are also truncated. Cuz this is what environment the agent is learning in and in this way mean rewards per life can be compared with initial state value\n",
        "\n",
        "**The goal is to get 15 points in the real env**. So 3 or better 4 points in the preprocessed one will probably be enough. You can interrupt learning then."
      ]
    },
    {
      "cell_type": "markdown",
      "metadata": {
        "id": "s0jLjYGwsoUG"
      },
      "source": [
        "Final scoring is done on a whole episode with all 5 lives."
      ]
    },
    {
      "cell_type": "code",
      "execution_count": null,
      "metadata": {
        "id": "xTGVrwwQsoUG"
      },
      "outputs": [],
      "source": [
        "final_score = evaluate(\n",
        "  make_final_env(),\n",
        "    agent, n_games=30, greedy=True, t_max=10 * 1000, seed=9\n",
        ")\n",
        "print('final score:', final_score)\n",
        "assert final_score >= 3, 'not as cool as DQN can'\n",
        "print('Cool!')"
      ]
    },
    {
      "cell_type": "markdown",
      "metadata": {
        "id": "ovaG8N4lsoUH"
      },
      "source": [
        "## How to interpret plots:\n",
        "\n",
        "This aint no supervised learning so don't expect anything to improve monotonously.\n",
        "* **TD loss** is the MSE between agent's current Q-values and target Q-values. It may slowly increase or decrease, it's ok. The \"not ok\" behavior includes going NaN or stayng at exactly zero before agent has perfect performance.\n",
        "* **grad norm** just shows the intensivity of training. Not ok is growing to values of about 100 (or maybe even 50) though it depends on network architecture.\n",
        "* **mean reward** is the expected sum of r(s,a) agent gets over the full game session. It will oscillate, but on average it should get higher over time (after a few thousand iterations...).\n",
        " * In basic q-learning implementation it takes about 40k steps to \"warm up\" agent before it starts to get better.\n",
        "* **Initial state V** is the expected discounted reward for episode in the oppinion of the agent. It should behave more smoothly than **mean reward**. It should get higher over time but sometimes can experience drawdowns because of the agaent's overestimates.\n",
        "* **buffer size** - this one is simple. It should go up and cap at max size.\n",
        "* **epsilon** - agent's willingness to explore. If you see that agent's already at 0.01 epsilon before it's average reward is above 0 - it means you need to increase epsilon. Set it back to some 0.2 - 0.5 and decrease the pace at which it goes down.\n",
        "* Smoothing of plots is done with a gaussian kernel\n",
        "\n",
        "At first your agent will lose quickly. Then it will learn to suck less and at least hit the ball a few times before it loses. Finally it will learn to actually score points.\n",
        "\n",
        "**Training will take time.** A lot of it actually. Probably you will not see any improvment during first **150k** time steps (note that by default in this notebook agent is evaluated every 5000 time steps).\n",
        "\n",
        "But hey, long training time isn't _that_ bad:\n",
        "![img](https://github.com/yandexdataschool/Practical_RL/raw/master/yet_another_week/_resource/training.png)"
      ]
    },
    {
      "cell_type": "markdown",
      "metadata": {
        "id": "kVV72AB-soUH"
      },
      "source": [
        "## About hyperparameters:\n",
        "\n",
        "The task has something in common with supervised learning: loss is optimized through the buffer (instead of Train dataset). But the distribution of states and actions in the buffer **is not stationary** and depends on the policy it was generated by. It can even happen that the mean TD error across the buffer is very low but the performance is extremely poor (imagine the agent collecting data to the buffer always manages to avoid the ball).\n",
        "\n",
        "* Total timesteps and training time: It seems to be so huge, but actually it is normal for RL.\n",
        "\n",
        "* $\\epsilon$ decay shedule was taken from the original paper and is like traditional for epsilon-greedy policies. At the beginning of the training the agent's greedy policy is poor so many random actions should be taken.\n",
        "\n",
        "* Optimizer: In the original paper RMSProp was used (they did not have Adam in 2013) and it can work not worse than Adam. For us Adam was default and it worked.\n",
        "\n",
        "* lr: $10^{-3}$ would probably be too huge\n",
        "\n",
        "* target network update frequency: has something in common with learning rate. Too frequent updates can lead to divergence. Too rare can lead to slow leraning. For millions of total timesteps thousands of inner steps seem ok. One iteration of target network updating is an iteration of the (this time approximate) $\\gamma$-compression that stands behind Q-learning. The more inner steps it makes the more accurate is the compression."
      ]
    },
    {
      "cell_type": "markdown",
      "metadata": {
        "id": "Plp8WC_esoUH"
      },
      "source": [
        "### Video"
      ]
    },
    {
      "cell_type": "code",
      "execution_count": null,
      "metadata": {
        "id": "DdExc_AssoUH"
      },
      "outputs": [],
      "source": [
        "# record sessions\n",
        "from gymnasium.wrappers import RecordVideo\n",
        "\n",
        "with make_final_env() as env, RecordVideo(\n",
        "    env=env, video_folder=\"./videos\", episode_trigger=lambda episode_number: True\n",
        ") as env_monitor:\n",
        "    sessions = [\n",
        "        evaluate(env_monitor, agent, n_games=n_lives, greedy=True) for _ in range(10)\n",
        "    ]\n"
      ]
    },
    {
      "cell_type": "code",
      "execution_count": null,
      "metadata": {
        "id": "lt6xg1n_soUH"
      },
      "outputs": [],
      "source": [
        "# Show video. This may not work in some setups. If it doesn't\n",
        "# work for you, you can download the videos and view them locally.\n",
        "\n",
        "from pathlib import Path\n",
        "from base64 import b64encode\n",
        "from IPython.display import HTML\n",
        "\n",
        "video_paths = sorted([s for s in Path('videos').iterdir() if s.suffix == '.mp4'])\n",
        "video_path = video_paths[-1]  # You can also try other indices\n",
        "\n",
        "if 'google.colab' in sys.modules:\n",
        "    # https://stackoverflow.com/a/57378660/1214547\n",
        "    with video_path.open('rb') as fp:\n",
        "        mp4 = fp.read()\n",
        "    data_url = 'data:video/mp4;base64,' + b64encode(mp4).decode()\n",
        "else:\n",
        "    data_url = str(video_path)\n",
        "\n",
        "HTML(\"\"\"\n",
        "<video width=\"640\" height=\"480\" controls>\n",
        "  <source src=\"{}\" type=\"video/mp4\">\n",
        "</video>\n",
        "\"\"\".format(data_url))"
      ]
    },
    {
      "cell_type": "markdown",
      "metadata": {
        "id": "fLPx2aI7soUH"
      },
      "source": [
        "## Let's have a closer look at this. Interpretation (2 pts).\n",
        "\n",
        "Let's play 5 episodes (note that the game has 5 lives) and log some stats:"
      ]
    },
    {
      "cell_type": "code",
      "execution_count": null,
      "metadata": {
        "id": "orOSZYr5_AWo"
      },
      "outputs": [],
      "source": [
        "from dqn.analysis import play_and_log_episode\n",
        "\n",
        "env = make_final_env()\n",
        "stats = play_and_log_episode(env, agent)\n",
        "\n",
        "print(\"Keys:\", list(stats.keys()))\n",
        "print(\"Shapes:\")\n",
        "for key in [\"states\", \"qvalues\", \"actions\", \"rewards\"]:\n",
        "    print(f\"{key}: {stats[key].shape}\")\n",
        "print(\"terminated:\", stats[\"episode_finished\"])"
      ]
    },
    {
      "cell_type": "markdown",
      "metadata": {
        "id": "sVpesyXp_AWo"
      },
      "source": [
        "Let's plot rewards:"
      ]
    },
    {
      "cell_type": "code",
      "execution_count": null,
      "metadata": {
        "id": "_V9LLTlw_AWp"
      },
      "outputs": [],
      "source": [
        "plt.plot(stats[\"rewards\"])\n",
        "plt.grid()\n",
        "plt.show()"
      ]
    },
    {
      "cell_type": "markdown",
      "metadata": {
        "id": "A7vDawX3_AWq"
      },
      "source": [
        "Your task it to evaluate the following quantities from the logs:\n",
        "1. Discounted returns: $G[t] = \\sum_{t'=t}^T \\gamma ^ {t' - t}r[t]$, where $T$ is the total time of an episode.\n",
        "2. State Values estimated by the agent: $V_{agent}[t] = \\max_{a}Q_{agent}(s[t], a)$.\n",
        "3. Q-spread: $\\Delta Q[t] = \\max_{a}Q_{agent}(s[t], a) - \\min_{a}Q_{agent}(s[t], a)$\n",
        "\n",
        "Create a new env: `env = make_final_env()`, play for 5 episodes (a full game has 5 lives, so it will be 1 full game).  \n",
        "Plot rewards and the evaluated quantites for each of them.  \n",
        "Using the plots, can you find points where the ball hits the wall?  \n",
        "Where the ball hits the platform?  \n",
        "Probably, you won't need all the quantities for that, but it's still good to check the behavior of a model.\n",
        "\n",
        "The `merge_frame_stack_to_plot` function may be useful."
      ]
    },
    {
      "cell_type": "code",
      "execution_count": null,
      "metadata": {
        "id": "-1Emd4sh_AWs"
      },
      "outputs": [],
      "source": [
        "def get_discounted_returns(rewards: Reversible[float], gamma: float) -> list[float]:\n",
        "    \"\"\"\n",
        "    Calculates G[t] for each t, given rewards and gamma.\n",
        "\n",
        "    Tip: Iterate backwards through rewards and use the following relationship:\n",
        "    G[t] = r[t] + gamma * G[t + 1]\n",
        "    \"\"\"\n",
        "    returns_reverse: list[float] = []\n",
        "    last_return: float = 0\n",
        "    for r in reversed(rewards):\n",
        "        # your code\n",
        "    returns = list(reversed(returns_reverse))\n",
        "    return returns\n"
      ]
    },
    {
      "cell_type": "markdown",
      "metadata": {
        "id": "e36bU0u8soUH"
      },
      "source": [
        "## Bonus I (2 pts). Get High Score!\n",
        "\n",
        "Get mean reward per life:\n",
        "1. $\\geq 20$: +1 pt\n",
        "2. $\\geq 40$: +2 pts"
      ]
    },
    {
      "cell_type": "markdown",
      "metadata": {
        "id": "78e4nRoSsoUH"
      },
      "source": [
        "## Bonus II (2+ pts). Apply modifications to DQN.\n",
        "\n",
        "* [Prioritized experience replay](https://arxiv.org/abs/1511.05952) (2 pts, please check for effective open-source implementations)\n",
        "* [Noisy Nets](https://arxiv.org/abs/1706.10295) (2 pts, please, pay attention to the exploration policy and whether epsilon-greedy policy is used)\n",
        "* [distributional RL](https://arxiv.org/abs/1707.06887)(distributional and distributed stand for different things here) (3 pts)\n",
        "* Other modifications (2+ pts depending on complexity)"
      ]
    },
    {
      "cell_type": "markdown",
      "metadata": {
        "id": "j_3RXboysoUH"
      },
      "source": [
        "## Bonus III (2 pts). Distributed RL.\n",
        "\n",
        "https://gymnasium.farama.org/api/vector/#gymnasium.vector.AsyncVectorEnv"
      ]
    },
    {
      "cell_type": "code",
      "execution_count": null,
      "metadata": {
        "id": "f9X5aB56soUI"
      },
      "outputs": [],
      "source": []
    }
  ],
  "metadata": {
    "colab": {
      "name": "Recovered_Notebook",
      "provenance": [],
      "include_colab_link": true
    },
    "kernelspec": {
      "display_name": "Python 3",
      "language": "python",
      "name": "python3"
    },
    "language_info": {
      "name": "python",
      "version": "3.10.12"
    }
    },
    "nbformat": 4,
    "nbformat_minor": 5
    }
    ,
    "accelerator": "GPU",
    "widgets": {
      "application/vnd.jupyter.widget-state+json": {
        "8da8f8af8a0d49b6b2647160a619108a": {
          "model_module": "@jupyter-widgets/controls",
          "model_name": "HBoxModel",
          "model_module_version": "1.5.0",
          "state": {
            "_dom_classes": [],
            "_model_module": "@jupyter-widgets/controls",
            "_model_module_version": "1.5.0",
            "_model_name": "HBoxModel",
            "_view_count": null,
            "_view_module": "@jupyter-widgets/controls",
            "_view_module_version": "1.5.0",
            "_view_name": "HBoxView",
            "box_style": "",
            "children": [
              "IPY_MODEL_44c855bfd6644d869ce5c5cab1fc6933",
              "IPY_MODEL_64918dcda2924e2b86dd009cb9222874",
              "IPY_MODEL_59e2f8fdbbbd4fe7958a2c490556812b"
            ],
            "layout": "IPY_MODEL_facfc0465a3f466e93cea80e21971d58"
          }
        },
        "44c855bfd6644d869ce5c5cab1fc6933": {
          "model_module": "@jupyter-widgets/controls",
          "model_name": "HTMLModel",
          "model_module_version": "1.5.0",
          "state": {
            "_dom_classes": [],
            "_model_module": "@jupyter-widgets/controls",
            "_model_module_version": "1.5.0",
            "_model_name": "HTMLModel",
            "_view_count": null,
            "_view_module": "@jupyter-widgets/controls",
            "_view_module_version": "1.5.0",
            "_view_name": "HTMLView",
            "description": "",
            "description_tooltip": null,
            "layout": "IPY_MODEL_62613b32d6c145b5a764c484a664cc97",
            "placeholder": "​",
            "style": "IPY_MODEL_196cb479a9274bf988b67570fa39eeef",
            "value": "100%"
          }
        },
        "64918dcda2924e2b86dd009cb9222874": {
          "model_module": "@jupyter-widgets/controls",
          "model_name": "FloatProgressModel",
          "model_module_version": "1.5.0",
          "state": {
            "_dom_classes": [],
            "_model_module": "@jupyter-widgets/controls",
            "_model_module_version": "1.5.0",
            "_model_name": "FloatProgressModel",
            "_view_count": null,
            "_view_module": "@jupyter-widgets/controls",
            "_view_module_version": "1.5.0",
            "_view_name": "ProgressView",
            "bar_style": "danger",
            "description": "",
            "description_tooltip": null,
            "layout": "IPY_MODEL_b1803fcd0f054aa7bbae3494a2832497",
            "max": 2000,
            "min": 0,
            "orientation": "horizontal",
            "style": "IPY_MODEL_ea1b707ad4544fb98fc720d9bc1c1058",
            "value": 1999
          }
        },
        "59e2f8fdbbbd4fe7958a2c490556812b": {
          "model_module": "@jupyter-widgets/controls",
          "model_name": "HTMLModel",
          "model_module_version": "1.5.0",
          "state": {
            "_dom_classes": [],
            "_model_module": "@jupyter-widgets/controls",
            "_model_module_version": "1.5.0",
            "_model_name": "HTMLModel",
            "_view_count": null,
            "_view_module": "@jupyter-widgets/controls",
            "_view_module_version": "1.5.0",
            "_view_name": "HTMLView",
            "description": "",
            "description_tooltip": null,
            "layout": "IPY_MODEL_895610da7f124cf787d8ed700df7cbf1",
            "placeholder": "​",
            "style": "IPY_MODEL_1ca2dd4e4e504a20936bb741933930dc",
            "value": " 1999/2000 [03:24&lt;00:00, 10.96it/s]"
          }
        },
        "facfc0465a3f466e93cea80e21971d58": {
          "model_module": "@jupyter-widgets/base",
          "model_name": "LayoutModel",
          "model_module_version": "1.2.0",
          "state": {
            "_model_module": "@jupyter-widgets/base",
            "_model_module_version": "1.2.0",
            "_model_name": "LayoutModel",
            "_view_count": null,
            "_view_module": "@jupyter-widgets/base",
            "_view_module_version": "1.2.0",
            "_view_name": "LayoutView",
            "align_content": null,
            "align_items": null,
            "align_self": null,
            "border": null,
            "bottom": null,
            "display": null,
            "flex": null,
            "flex_flow": null,
            "grid_area": null,
            "grid_auto_columns": null,
            "grid_auto_flow": null,
            "grid_auto_rows": null,
            "grid_column": null,
            "grid_gap": null,
            "grid_row": null,
            "grid_template_areas": null,
            "grid_template_columns": null,
            "grid_template_rows": null,
            "height": null,
            "justify_content": null,
            "justify_items": null,
            "left": null,
            "margin": null,
            "max_height": null,
            "max_width": null,
            "min_height": null,
            "min_width": null,
            "object_fit": null,
            "object_position": null,
            "order": null,
            "overflow": null,
            "overflow_x": null,
            "overflow_y": null,
            "padding": null,
            "right": null,
            "top": null,
            "visibility": null,
            "width": null
          }
        },
        "62613b32d6c145b5a764c484a664cc97": {
          "model_module": "@jupyter-widgets/base",
          "model_name": "LayoutModel",
          "model_module_version": "1.2.0",
          "state": {
            "_model_module": "@jupyter-widgets/base",
            "_model_module_version": "1.2.0",
            "_model_name": "LayoutModel",
            "_view_count": null,
            "_view_module": "@jupyter-widgets/base",
            "_view_module_version": "1.2.0",
            "_view_name": "LayoutView",
            "align_content": null,
            "align_items": null,
            "align_self": null,
            "border": null,
            "bottom": null,
            "display": null,
            "flex": null,
            "flex_flow": null,
            "grid_area": null,
            "grid_auto_columns": null,
            "grid_auto_flow": null,
            "grid_auto_rows": null,
            "grid_column": null,
            "grid_gap": null,
            "grid_row": null,
            "grid_template_areas": null,
            "grid_template_columns": null,
            "grid_template_rows": null,
            "height": null,
            "justify_content": null,
            "justify_items": null,
            "left": null,
            "margin": null,
            "max_height": null,
            "max_width": null,
            "min_height": null,
            "min_width": null,
            "object_fit": null,
            "object_position": null,
            "order": null,
            "overflow": null,
            "overflow_x": null,
            "overflow_y": null,
            "padding": null,
            "right": null,
            "top": null,
            "visibility": null,
            "width": null
          }
        },
        "196cb479a9274bf988b67570fa39eeef": {
          "model_module": "@jupyter-widgets/controls",
          "model_name": "DescriptionStyleModel",
          "model_module_version": "1.5.0",
          "state": {
            "_model_module": "@jupyter-widgets/controls",
            "_model_module_version": "1.5.0",
            "_model_name": "DescriptionStyleModel",
            "_view_count": null,
            "_view_module": "@jupyter-widgets/base",
            "_view_module_version": "1.2.0",
            "_view_name": "StyleView",
            "description_width": ""
          }
        },
        "b1803fcd0f054aa7bbae3494a2832497": {
          "model_module": "@jupyter-widgets/base",
          "model_name": "LayoutModel",
          "model_module_version": "1.2.0",
          "state": {
            "_model_module": "@jupyter-widgets/base",
            "_model_module_version": "1.2.0",
            "_model_name": "LayoutModel",
            "_view_count": null,
            "_view_module": "@jupyter-widgets/base",
            "_view_module_version": "1.2.0",
            "_view_name": "LayoutView",
            "align_content": null,
            "align_items": null,
            "align_self": null,
            "border": null,
            "bottom": null,
            "display": null,
            "flex": null,
            "flex_flow": null,
            "grid_area": null,
            "grid_auto_columns": null,
            "grid_auto_flow": null,
            "grid_auto_rows": null,
            "grid_column": null,
            "grid_gap": null,
            "grid_row": null,
            "grid_template_areas": null,
            "grid_template_columns": null,
            "grid_template_rows": null,
            "height": null,
            "justify_content": null,
            "justify_items": null,
            "left": null,
            "margin": null,
            "max_height": null,
            "max_width": null,
            "min_height": null,
            "min_width": null,
            "object_fit": null,
            "object_position": null,
            "order": null,
            "overflow": null,
            "overflow_x": null,
            "overflow_y": null,
            "padding": null,
            "right": null,
            "top": null,
            "visibility": null,
            "width": null
          }
        },
        "ea1b707ad4544fb98fc720d9bc1c1058": {
          "model_module": "@jupyter-widgets/controls",
          "model_name": "ProgressStyleModel",
          "model_module_version": "1.5.0",
          "state": {
            "_model_module": "@jupyter-widgets/controls",
            "_model_module_version": "1.5.0",
            "_model_name": "ProgressStyleModel",
            "_view_count": null,
            "_view_module": "@jupyter-widgets/base",
            "_view_module_version": "1.2.0",
            "_view_name": "StyleView",
            "bar_color": null,
            "description_width": ""
          }
        },
        "895610da7f124cf787d8ed700df7cbf1": {
          "model_module": "@jupyter-widgets/base",
          "model_name": "LayoutModel",
          "model_module_version": "1.2.0",
          "state": {
            "_model_module": "@jupyter-widgets/base",
            "_model_module_version": "1.2.0",
            "_model_name": "LayoutModel",
            "_view_count": null,
            "_view_module": "@jupyter-widgets/base",
            "_view_module_version": "1.2.0",
            "_view_name": "LayoutView",
            "align_content": null,
            "align_items": null,
            "align_self": null,
            "border": null,
            "bottom": null,
            "display": null,
            "flex": null,
            "flex_flow": null,
            "grid_area": null,
            "grid_auto_columns": null,
            "grid_auto_flow": null,
            "grid_auto_rows": null,
            "grid_column": null,
            "grid_gap": null,
            "grid_row": null,
            "grid_template_areas": null,
            "grid_template_columns": null,
            "grid_template_rows": null,
            "height": null,
            "justify_content": null,
            "justify_items": null,
            "left": null,
            "margin": null,
            "max_height": null,
            "max_width": null,
            "min_height": null,
            "min_width": null,
            "object_fit": null,
            "object_position": null,
            "order": null,
            "overflow": null,
            "overflow_x": null,
            "overflow_y": null,
            "padding": null,
            "right": null,
            "top": null,
            "visibility": null,
            "width": null
          }
        },
        "1ca2dd4e4e504a20936bb741933930dc": {
          "model_module": "@jupyter-widgets/controls",
          "model_name": "DescriptionStyleModel",
          "model_module_version": "1.5.0",
          "state": {
            "_model_module": "@jupyter-widgets/controls",
            "_model_module_version": "1.5.0",
            "_model_name": "DescriptionStyleModel",
            "_view_count": null,
            "_view_module": "@jupyter-widgets/base",
            "_view_module_version": "1.2.0",
            "_view_name": "StyleView",
            "description_width": ""
          }
        },
        "f1cc7fe7a9ff474eac30c90be5299996": {
          "model_module": "@jupyter-widgets/controls",
          "model_name": "HBoxModel",
          "model_module_version": "1.5.0",
          "state": {
            "_dom_classes": [],
            "_model_module": "@jupyter-widgets/controls",
            "_model_module_version": "1.5.0",
            "_model_name": "HBoxModel",
            "_view_count": null,
            "_view_module": "@jupyter-widgets/controls",
            "_view_module_version": "1.5.0",
            "_view_name": "HBoxView",
            "box_style": "",
            "children": [
              "IPY_MODEL_0597a88ecd7a4fe8befa8be1bba43f0f",
              "IPY_MODEL_6797f05fd9c14589bbfd01404bc9df1d",
              "IPY_MODEL_61440dc1e258458ca7ece1b0394f9bc5"
            ],
            "layout": "IPY_MODEL_a65d6e6f69004ca3b79247a52c85f9f3"
          }
        },
        "0597a88ecd7a4fe8befa8be1bba43f0f": {
          "model_module": "@jupyter-widgets/controls",
          "model_name": "HTMLModel",
          "model_module_version": "1.5.0",
          "state": {
            "_dom_classes": [],
            "_model_module": "@jupyter-widgets/controls",
            "_model_module_version": "1.5.0",
            "_model_name": "HTMLModel",
            "_view_count": null,
            "_view_module": "@jupyter-widgets/controls",
            "_view_module_version": "1.5.0",
            "_view_name": "HTMLView",
            "description": "",
            "description_tooltip": null,
            "layout": "IPY_MODEL_8409b4f72c6746928690d92d2efc3291",
            "placeholder": "​",
            "style": "IPY_MODEL_7222974408db43ef8e73bc8192a2aa73",
            "value": "  0%"
          }
        },
        "6797f05fd9c14589bbfd01404bc9df1d": {
          "model_module": "@jupyter-widgets/controls",
          "model_name": "FloatProgressModel",
          "model_module_version": "1.5.0",
          "state": {
            "_dom_classes": [],
            "_model_module": "@jupyter-widgets/controls",
            "_model_module_version": "1.5.0",
            "_model_name": "FloatProgressModel",
            "_view_count": null,
            "_view_module": "@jupyter-widgets/controls",
            "_view_module_version": "1.5.0",
            "_view_name": "ProgressView",
            "bar_style": "",
            "description": "",
            "description_tooltip": null,
            "layout": "IPY_MODEL_5a3eaa322735455d880a4fac8610d572",
            "max": 10000001,
            "min": 0,
            "orientation": "horizontal",
            "style": "IPY_MODEL_47ef294f3e1f4741833376bed06a7b05",
            "value": 17002
          }
        },
        "61440dc1e258458ca7ece1b0394f9bc5": {
          "model_module": "@jupyter-widgets/controls",
          "model_name": "HTMLModel",
          "model_module_version": "1.5.0",
          "state": {
            "_dom_classes": [],
            "_model_module": "@jupyter-widgets/controls",
            "_model_module_version": "1.5.0",
            "_model_name": "HTMLModel",
            "_view_count": null,
            "_view_module": "@jupyter-widgets/controls",
            "_view_module_version": "1.5.0",
            "_view_name": "HTMLView",
            "description": "",
            "description_tooltip": null,
            "layout": "IPY_MODEL_658d8411f3ef425f8143583892f48739",
            "placeholder": "​",
            "style": "IPY_MODEL_efbc42ebc3f04b8c91d2b661d7cba0c9",
            "value": " 17002/10000001 [07:31&lt;39598:36:30, 14.28s/it]"
          }
        },
        "a65d6e6f69004ca3b79247a52c85f9f3": {
          "model_module": "@jupyter-widgets/base",
          "model_name": "LayoutModel",
          "model_module_version": "1.2.0",
          "state": {
            "_model_module": "@jupyter-widgets/base",
            "_model_module_version": "1.2.0",
            "_model_name": "LayoutModel",
            "_view_count": null,
            "_view_module": "@jupyter-widgets/base",
            "_view_module_version": "1.2.0",
            "_view_name": "LayoutView",
            "align_content": null,
            "align_items": null,
            "align_self": null,
            "border": null,
            "bottom": null,
            "display": null,
            "flex": null,
            "flex_flow": null,
            "grid_area": null,
            "grid_auto_columns": null,
            "grid_auto_flow": null,
            "grid_auto_rows": null,
            "grid_column": null,
            "grid_gap": null,
            "grid_row": null,
            "grid_template_areas": null,
            "grid_template_columns": null,
            "grid_template_rows": null,
            "height": null,
            "justify_content": null,
            "justify_items": null,
            "left": null,
            "margin": null,
            "max_height": null,
            "max_width": null,
            "min_height": null,
            "min_width": null,
            "object_fit": null,
            "object_position": null,
            "order": null,
            "overflow": null,
            "overflow_x": null,
            "overflow_y": null,
            "padding": null,
            "right": null,
            "top": null,
            "visibility": null,
            "width": null
          }
        },
        "8409b4f72c6746928690d92d2efc3291": {
          "model_module": "@jupyter-widgets/base",
          "model_name": "LayoutModel",
          "model_module_version": "1.2.0",
          "state": {
            "_model_module": "@jupyter-widgets/base",
            "_model_module_version": "1.2.0",
            "_model_name": "LayoutModel",
            "_view_count": null,
            "_view_module": "@jupyter-widgets/base",
            "_view_module_version": "1.2.0",
            "_view_name": "LayoutView",
            "align_content": null,
            "align_items": null,
            "align_self": null,
            "border": null,
            "bottom": null,
            "display": null,
            "flex": null,
            "flex_flow": null,
            "grid_area": null,
            "grid_auto_columns": null,
            "grid_auto_flow": null,
            "grid_auto_rows": null,
            "grid_column": null,
            "grid_gap": null,
            "grid_row": null,
            "grid_template_areas": null,
            "grid_template_columns": null,
            "grid_template_rows": null,
            "height": null,
            "justify_content": null,
            "justify_items": null,
            "left": null,
            "margin": null,
            "max_height": null,
            "max_width": null,
            "min_height": null,
            "min_width": null,
            "object_fit": null,
            "object_position": null,
            "order": null,
            "overflow": null,
            "overflow_x": null,
            "overflow_y": null,
            "padding": null,
            "right": null,
            "top": null,
            "visibility": null,
            "width": null
          }
        },
        "7222974408db43ef8e73bc8192a2aa73": {
          "model_module": "@jupyter-widgets/controls",
          "model_name": "DescriptionStyleModel",
          "model_module_version": "1.5.0",
          "state": {
            "_model_module": "@jupyter-widgets/controls",
            "_model_module_version": "1.5.0",
            "_model_name": "DescriptionStyleModel",
            "_view_count": null,
            "_view_module": "@jupyter-widgets/base",
            "_view_module_version": "1.2.0",
            "_view_name": "StyleView",
            "description_width": ""
          }
        },
        "5a3eaa322735455d880a4fac8610d572": {
          "model_module": "@jupyter-widgets/base",
          "model_name": "LayoutModel",
          "model_module_version": "1.2.0",
          "state": {
            "_model_module": "@jupyter-widgets/base",
            "_model_module_version": "1.2.0",
            "_model_name": "LayoutModel",
            "_view_count": null,
            "_view_module": "@jupyter-widgets/base",
            "_view_module_version": "1.2.0",
            "_view_name": "LayoutView",
            "align_content": null,
            "align_items": null,
            "align_self": null,
            "border": null,
            "bottom": null,
            "display": null,
            "flex": null,
            "flex_flow": null,
            "grid_area": null,
            "grid_auto_columns": null,
            "grid_auto_flow": null,
            "grid_auto_rows": null,
            "grid_column": null,
            "grid_gap": null,
            "grid_row": null,
            "grid_template_areas": null,
            "grid_template_columns": null,
            "grid_template_rows": null,
            "height": null,
            "justify_content": null,
            "justify_items": null,
            "left": null,
            "margin": null,
            "max_height": null,
            "max_width": null,
            "min_height": null,
            "min_width": null,
            "object_fit": null,
            "object_position": null,
            "order": null,
            "overflow": null,
            "overflow_x": null,
            "overflow_y": null,
            "padding": null,
            "right": null,
            "top": null,
            "visibility": null,
            "width": null
          }
        },
        "47ef294f3e1f4741833376bed06a7b05": {
          "model_module": "@jupyter-widgets/controls",
          "model_name": "ProgressStyleModel",
          "model_module_version": "1.5.0",
          "state": {
            "_model_module": "@jupyter-widgets/controls",
            "_model_module_version": "1.5.0",
            "_model_name": "ProgressStyleModel",
            "_view_count": null,
            "_view_module": "@jupyter-widgets/base",
            "_view_module_version": "1.2.0",
            "_view_name": "StyleView",
            "bar_color": null,
            "description_width": ""
          }
        },
        "658d8411f3ef425f8143583892f48739": {
          "model_module": "@jupyter-widgets/base",
          "model_name": "LayoutModel",
          "model_module_version": "1.2.0",
          "state": {
            "_model_module": "@jupyter-widgets/base",
            "_model_module_version": "1.2.0",
            "_model_name": "LayoutModel",
            "_view_count": null,
            "_view_module": "@jupyter-widgets/base",
            "_view_module_version": "1.2.0",
            "_view_name": "LayoutView",
            "align_content": null,
            "align_items": null,
            "align_self": null,
            "border": null,
            "bottom": null,
            "display": null,
            "flex": null,
            "flex_flow": null,
            "grid_area": null,
            "grid_auto_columns": null,
            "grid_auto_flow": null,
            "grid_auto_rows": null,
            "grid_column": null,
            "grid_gap": null,
            "grid_row": null,
            "grid_template_areas": null,
            "grid_template_columns": null,
            "grid_template_rows": null,
            "height": null,
            "justify_content": null,
            "justify_items": null,
            "left": null,
            "margin": null,
            "max_height": null,
            "max_width": null,
            "min_height": null,
            "min_width": null,
            "object_fit": null,
            "object_position": null,
            "order": null,
            "overflow": null,
            "overflow_x": null,
            "overflow_y": null,
            "padding": null,
            "right": null,
            "top": null,
            "visibility": null,
            "width": null
          }
        },
        "efbc42ebc3f04b8c91d2b661d7cba0c9": {
          "model_module": "@jupyter-widgets/controls",
          "model_name": "DescriptionStyleModel",
          "model_module_version": "1.5.0",
          "state": {
            "_model_module": "@jupyter-widgets/controls",
            "_model_module_version": "1.5.0",
            "_model_name": "DescriptionStyleModel",
            "_view_count": null,
            "_view_module": "@jupyter-widgets/base",
            "_view_module_version": "1.2.0",
            "_view_name": "StyleView",
            "description_width": ""
          }
        }
      }
    }
  },
  "nbformat": 4,
  "nbformat_minor": 0
}
