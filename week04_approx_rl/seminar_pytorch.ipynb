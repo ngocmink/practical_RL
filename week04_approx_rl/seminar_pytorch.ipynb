{
  "cells": [
    {
      "cell_type": "markdown",
      "metadata": {
        "id": "view-in-github",
        "colab_type": "text"
      },
      "source": [
        "<a href=\"https://colab.research.google.com/github/ngocmink/practical_RL/blob/main/week04_approx_rl/seminar_pytorch.ipynb\" target=\"_parent\"><img src=\"https://colab.research.google.com/assets/colab-badge.svg\" alt=\"Open In Colab\"/></a>"
      ]
    },
    {
      "cell_type": "markdown",
      "metadata": {
        "id": "kr_aKWMGEmh-"
      },
      "source": [
        "# Approximate q-learning\n",
        "\n",
        "In this notebook you will teach a __PyTorch__ neural network to do Q-learning."
      ]
    },
    {
      "cell_type": "code",
      "execution_count": 1,
      "metadata": {
        "id": "oaMu65ONEmh_",
        "outputId": "ecb861b8-e133-48fd-ded9-3fee8f75d774",
        "colab": {
          "base_uri": "https://localhost:8080/"
        }
      },
      "outputs": [
        {
          "output_type": "stream",
          "name": "stdout",
          "text": [
            "W: Skipping acquire of configured file 'main/source/Sources' as repository 'https://r2u.stat.illinois.edu/ubuntu jammy InRelease' does not seem to provide it (sources.list entry misspelt?)\n",
            "Starting virtual X frame buffer: Xvfb.\n"
          ]
        }
      ],
      "source": [
        "import sys, os\n",
        "if 'google.colab' in sys.modules and not os.path.exists('.setup_complete'):\n",
        "    !wget -q https://raw.githubusercontent.com/yandexdataschool/Practical_RL/master/setup_colab.sh -O- | bash\n",
        "    !touch .setup_complete\n",
        "\n",
        "# This code creates a virtual display to draw game images on.\n",
        "# It will have no effect if your machine has a monitor.\n",
        "if type(os.environ.get(\"DISPLAY\")) is not str or len(os.environ.get(\"DISPLAY\")) == 0:\n",
        "    !bash ../xvfb start\n",
        "    os.environ['DISPLAY'] = ':1'"
      ]
    },
    {
      "cell_type": "code",
      "execution_count": 2,
      "metadata": {
        "id": "avILCRKkEpaX",
        "colab": {
          "base_uri": "https://localhost:8080/"
        },
        "outputId": "c961f028-a353-4a0c-a842-b8d7279d01ae"
      },
      "outputs": [
        {
          "output_type": "stream",
          "name": "stdout",
          "text": [
            "Requirement already satisfied: gymnasium[classic_control] in /usr/local/lib/python3.12/dist-packages (1.2.1)\n",
            "Requirement already satisfied: numpy>=1.21.0 in /usr/local/lib/python3.12/dist-packages (from gymnasium[classic_control]) (2.0.2)\n",
            "Requirement already satisfied: cloudpickle>=1.2.0 in /usr/local/lib/python3.12/dist-packages (from gymnasium[classic_control]) (3.1.1)\n",
            "Requirement already satisfied: typing-extensions>=4.3.0 in /usr/local/lib/python3.12/dist-packages (from gymnasium[classic_control]) (4.15.0)\n",
            "Requirement already satisfied: farama-notifications>=0.0.1 in /usr/local/lib/python3.12/dist-packages (from gymnasium[classic_control]) (0.0.4)\n",
            "Requirement already satisfied: pygame>=2.1.3 in /usr/local/lib/python3.12/dist-packages (from gymnasium[classic_control]) (2.6.1)\n"
          ]
        }
      ],
      "source": [
        "!pip install gymnasium[classic_control]"
      ]
    },
    {
      "cell_type": "code",
      "execution_count": 3,
      "metadata": {
        "id": "K_SRk2ASEmh_"
      },
      "outputs": [],
      "source": [
        "import gymnasium as gym\n",
        "import numpy as np\n",
        "import pandas as pd\n",
        "import matplotlib.pyplot as plt\n",
        "%matplotlib inline"
      ]
    },
    {
      "cell_type": "code",
      "execution_count": 12,
      "metadata": {
        "id": "x2YvkgprEmh_",
        "colab": {
          "base_uri": "https://localhost:8080/",
          "height": 396
        },
        "outputId": "4b92514d-0835-493d-bb66-61741234b43a"
      },
      "outputs": [
        {
          "output_type": "display_data",
          "data": {
            "text/plain": [
              "<Figure size 640x480 with 1 Axes>"
            ],
            "image/png": "[encoded data removed]"
          },
          "metadata": {}
        }
      ],
      "source": [
        "env = gym.make(\"CartPole-v1\", render_mode=\"rgb_array\").env\n",
        "env.reset()\n",
        "n_actions = env.action_space.n\n",
        "state_dim = env.observation_space.shape\n",
        "plt.imshow(env.render())\n",
        "env.close()"
      ]
    },
    {
      "cell_type": "markdown",
      "metadata": {
        "id": "sI8W19CwEmh_"
      },
      "source": [
        "# Approximate Q-learning: building the network\n",
        "\n",
        "To train a neural network policy one must have a neural network policy. Let's build it.\n",
        "\n",
        "\n",
        "Since we're working with a pre-extracted features (cart positions, angles and velocities), we don't need a complicated network yet. In fact, let's build something like this for starters:\n",
        "\n",
        "![img](https://raw.githubusercontent.com/yandexdataschool/Practical_RL/master/yet_another_week/_resource/qlearning_scheme.png)\n",
        "\n",
        "For your first run, please only use linear layers (`nn.Linear`) and activations. Stuff like batch normalization or dropout may ruin everything if used haphazardly.\n",
        "\n",
        "Also please avoid using nonlinearities like sigmoid & tanh: since agent's observations are not normalized, sigmoids might be saturated at initialization. Instead, use non-saturating nonlinearities like ReLU.\n",
        "\n",
        "Ideally you should start small with maybe 1-2 hidden layers with < 200 neurons and then increase network size if agent doesn't beat the target score."
      ]
    },
    {
      "cell_type": "code",
      "execution_count": 13,
      "metadata": {
        "id": "YdWXv8WJEmiA"
      },
      "outputs": [],
      "source": [
        "import torch\n",
        "import torch.nn as nn\n",
        "import torch.nn.functional as F"
      ]
    },
    {
      "cell_type": "code",
      "execution_count": 14,
      "metadata": {
        "id": "y2-PcaIQEmiA"
      },
      "outputs": [],
      "source": [
        "network = nn.Sequential()\n",
        "\n",
        "network.add_module('layer1', nn.Linear(state_dim[0], 100))\n",
        "network.add_module('layer2', nn.Linear(100, 100))\n",
        "network.add_module('layer3', nn.Linear(100, n_actions))\n",
        "\n",
        "\n",
        "# hint: use state_dim[0] as input size"
      ]
    },
    {
      "cell_type": "code",
      "execution_count": 15,
      "metadata": {
        "id": "8xuWPGriEmiA"
      },
      "outputs": [],
      "source": [
        "def get_action(state, epsilon=0):\n",
        "    \"\"\"\n",
        "    sample actions with epsilon-greedy policy\n",
        "    recap: with p = epsilon pick random action, else pick action with highest Q(s,a)\n",
        "    \"\"\"\n",
        "    state = torch.tensor(state[None], dtype=torch.float32)\n",
        "    q_values = network(state).detach().numpy()\n",
        "    # print(q_values.shape)\n",
        "    idx_max = 0\n",
        "    max = -999999\n",
        "    for i in range(len(q_values[0])):\n",
        "      if q_values[0][i] > max:\n",
        "        max = q_values[0][i]\n",
        "        idx_max = i\n",
        "    if np.random.rand() < epsilon:\n",
        "      return np.random.randint(n_actions)\n",
        "    else:\n",
        "      return idx_max\n"
      ]
    },
    {
      "cell_type": "code",
      "execution_count": 16,
      "metadata": {
        "id": "wroEfSRNEmiA",
        "colab": {
          "base_uri": "https://localhost:8080/"
        },
        "outputId": "800f8857-ab74-4b3f-f762-c90140d4b524"
      },
      "outputs": [
        {
          "output_type": "stream",
          "name": "stdout",
          "text": [
            "e=0.0 tests passed\n",
            "e=0.1 tests passed\n",
            "e=0.5 tests passed\n",
            "e=1.0 tests passed\n"
          ]
        }
      ],
      "source": [
        "s, _ = env.reset()\n",
        "assert tuple(network(torch.tensor([s]*3, dtype=torch.float32)).size()) == (\n",
        "    3, n_actions), \"please make sure your model maps state s -> [Q(s,a0), ..., Q(s, a_last)]\"\n",
        "assert isinstance(list(network.modules(\n",
        "))[-1], nn.Linear), \"please make sure you predict q-values without nonlinearity (ignore if you know what you're doing)\"\n",
        "assert isinstance(get_action(s), int), \"get_action(s) must return int, not %s. try int(action)\" % (type(get_action(s)))\n",
        "\n",
        "# test epsilon-greedy exploration\n",
        "for eps in [0., 0.1, 0.5, 1.0]:\n",
        "    state_frequencies = np.bincount(\n",
        "        [get_action(s, epsilon=eps) for i in range(10000)], minlength=n_actions)\n",
        "    best_action = state_frequencies.argmax()\n",
        "    assert abs(state_frequencies[best_action] -\n",
        "               10000 * (1 - eps + eps / n_actions)) < 200\n",
        "    for other_action in range(n_actions):\n",
        "        if other_action != best_action:\n",
        "            assert abs(state_frequencies[other_action] -\n",
        "                       10000 * (eps / n_actions)) < 200\n",
        "    print('e=%.1f tests passed' % eps)"
      ]
    },
    {
      "cell_type": "markdown",
      "metadata": {
        "id": "f88ovLBQEmiA"
      },
      "source": [
        "### Q-learning via gradient descent\n",
        "\n",
        "We shall now train our agent's Q-function by minimizing the TD loss:\n",
        "$$ L = { 1 \\over N} \\sum_i (Q_{\\theta}(s,a) - [r(s,a) + \\gamma \\cdot max_{a'} Q_{-}(s', a')]) ^2 $$\n",
        "\n",
        "\n",
        "Where\n",
        "* $s, a, r, s'$ are current state, action, reward and next state respectively\n",
        "* $\\gamma$ is a discount factor defined two cells above.\n",
        "\n",
        "The tricky part is with  $Q_{-}(s',a')$. From an engineering standpoint, it's the same as $Q_{\\theta}$ - the output of your neural network policy. However, when doing gradient descent, __we won't propagate gradients through it__ to make training more stable (see lectures).\n",
        "\n",
        "To do so, we shall use `x.detach()` function which basically says \"consider this thing constant when doing backprop\"."
      ]
    },
    {
      "cell_type": "code",
      "execution_count": 32,
      "metadata": {
        "id": "bOIpO142EmiB"
      },
      "outputs": [],
      "source": [
        "def compute_td_loss(states, actions, rewards, next_states, is_done, gamma=0.99, check_shapes=False):\n",
        "    \"\"\" Compute td loss using torch operations only. Use the formula above. \"\"\"\n",
        "    states = torch.tensor(\n",
        "        states, dtype=torch.float32)                                  # shape: [batch_size, state_size]\n",
        "    actions = torch.tensor(actions, dtype=torch.long)                 # shape: [batch_size]\n",
        "    rewards = torch.tensor(rewards, dtype=torch.float32)              # shape: [batch_size]\n",
        "    # shape: [batch_size, state_size]\n",
        "    next_states = torch.tensor(next_states, dtype=torch.float32)\n",
        "    is_done = torch.tensor(is_done, dtype=torch.uint8)                # shape: [batch_size]\n",
        "\n",
        "    # get q-values for all actions in current states\n",
        "    predicted_qvalues = network(states)                               # shape: [batch_size, n_actions]\n",
        "\n",
        "    # select q-values for chosen actions\n",
        "    predicted_qvalues_for_actions = predicted_qvalues[                # shape: [batch_size]\n",
        "      range(states.shape[0]), actions\n",
        "    ]\n",
        "\n",
        "    # compute q-values for all actions in next states\n",
        "    predicted_next_qvalues = network(next_states)\n",
        "\n",
        "    # compute V*(next_states) using predicted next q-values\n",
        "    next_state_values = []\n",
        "    for i in range(next_states.shape[0]):\n",
        "      max = -99999\n",
        "      for j in range(n_actions):\n",
        "        if(max < predicted_next_qvalues[i][j]):\n",
        "          max = predicted_next_qvalues[i][j]\n",
        "      next_state_values.append(max)\n",
        "      next_state_values = torch.tensor(next_state_values, dtype=torch.float32)\n",
        "    assert next_state_values.dtype == torch.float32\n",
        "\n",
        "    # compute \"target q-values\" for loss - it's what's inside square parentheses in the above formula.\n",
        "    target_qvalues_for_actions = []\n",
        "    for s in range(states.shape[0]):\n",
        "      # print(states.shape[0])\n",
        "      target_qvalues_for_actions.append(rewards[s] + gamma * next_state_values[s])\n",
        "      target_qvalues_for_actions = torch.tensor(target_qvalues_for_actions, dtype=torch.float32)\n",
        "\n",
        "    # at the last state we shall use simplified formula: Q(s,a) = r(s,a) since s' doesn't exist\n",
        "    target_qvalues_for_actions = torch.where(\n",
        "        is_done, rewards, target_qvalues_for_actions)\n",
        "\n",
        "    # mean squared error loss to minimize\n",
        "    loss = torch.mean((predicted_qvalues_for_actions -\n",
        "                       target_qvalues_for_actions.detach()) ** 2)\n",
        "\n",
        "    if check_shapes:\n",
        "        assert predicted_next_qvalues.data.dim(\n",
        "        ) == 2, \"make sure you predicted q-values for all actions in next state\"\n",
        "        assert next_state_values.data.dim(\n",
        "        ) == 1, \"make sure you computed V(s') as maximum over just the actions axis and not all axes\"\n",
        "        assert target_qvalues_for_actions.data.dim(\n",
        "        ) == 1, \"there's something wrong with target q-values, they must be a vector\"\n",
        "\n",
        "    return loss"
      ]
    },
    {
      "cell_type": "code",
      "execution_count": 33,
      "metadata": {
        "id": "lKi6AK3DEmiB",
        "colab": {
          "base_uri": "https://localhost:8080/"
        },
        "outputId": "61898da4-c8f2-4580-c38a-a1e9b3d3602e"
      },
      "outputs": [
        {
          "output_type": "stream",
          "name": "stderr",
          "text": [
            "/tmp/ipython-input-958603915.py:41: UserWarning: where received a uint8 condition tensor. This behavior is deprecated and will be removed in a future version of PyTorch. Use a boolean condition instead. (Triggered internally at /pytorch/aten/src/ATen/native/TensorCompare.cpp:615.)\n",
            "  target_qvalues_for_actions = torch.where(\n"
          ]
        }
      ],
      "source": [
        "# sanity checks\n",
        "s, _ = env.reset()\n",
        "a = env.action_space.sample()\n",
        "next_s, r, terminated, _, _ = env.step(a)\n",
        "loss = compute_td_loss([s], [a], [r], [next_s], [terminated], check_shapes=True)\n",
        "loss.backward()\n",
        "\n",
        "assert len(loss.size()) == 0, \"you must return scalar loss - mean over batch\"\n",
        "assert np.any(next(network.parameters()).grad.detach().numpy() !=\n",
        "              0), \"loss must be differentiable w.r.t. network weights\""
      ]
    },
    {
      "cell_type": "markdown",
      "metadata": {
        "id": "LgL6G5lFEmiB"
      },
      "source": [
        "### Playing the game"
      ]
    },
    {
      "cell_type": "code",
      "execution_count": 34,
      "metadata": {
        "id": "zsHb_fjjEmiB"
      },
      "outputs": [],
      "source": [
        "opt = torch.optim.Adam(network.parameters(), lr=1e-4)"
      ]
    },
    {
      "cell_type": "code",
      "execution_count": 35,
      "metadata": {
        "id": "nJ_-xtsjEmiB"
      },
      "outputs": [],
      "source": [
        "def generate_session(env, t_max=1000, epsilon=0, train=False):\n",
        "    \"\"\"play env with approximate q-learning agent and train it at the same time\"\"\"\n",
        "    total_reward = 0\n",
        "    s, _ = env.reset()\n",
        "\n",
        "    for t in range(t_max):\n",
        "        a = get_action(s, epsilon=epsilon)\n",
        "        next_s, r, terminated, truncated, _ = env.step(a)\n",
        "\n",
        "        if train:\n",
        "            opt.zero_grad()\n",
        "            compute_td_loss([s], [a], [r], [next_s], [terminated]).backward()\n",
        "            opt.step()\n",
        "\n",
        "        total_reward += r\n",
        "        s = next_s\n",
        "        if terminated or truncated:\n",
        "            break\n",
        "\n",
        "    return total_reward"
      ]
    },
    {
      "cell_type": "code",
      "execution_count": 36,
      "metadata": {
        "id": "40mKYuVIEmiB"
      },
      "outputs": [],
      "source": [
        "epsilon = 0.5"
      ]
    },
    {
      "cell_type": "code",
      "execution_count": null,
      "metadata": {
        "id": "EXy8ij00EmiB",
        "outputId": "5fa70f5f-faac-4a57-8cb8-170c6a7f565b",
        "colab": {
          "base_uri": "https://localhost:8080/"
        }
      },
      "outputs": [
        {
          "output_type": "stream",
          "name": "stdout",
          "text": [
            "epoch #0\tmean reward = 13.480\tepsilon = 0.500\n",
            "epoch #1\tmean reward = 16.550\tepsilon = 0.495\n",
            "epoch #2\tmean reward = 15.140\tepsilon = 0.490\n",
            "epoch #3\tmean reward = 16.020\tepsilon = 0.485\n",
            "epoch #4\tmean reward = 15.580\tepsilon = 0.480\n",
            "epoch #5\tmean reward = 15.880\tepsilon = 0.475\n",
            "epoch #6\tmean reward = 16.680\tepsilon = 0.471\n",
            "epoch #7\tmean reward = 14.230\tepsilon = 0.466\n",
            "epoch #8\tmean reward = 14.150\tepsilon = 0.461\n",
            "epoch #9\tmean reward = 19.160\tepsilon = 0.457\n",
            "epoch #10\tmean reward = 17.080\tepsilon = 0.452\n",
            "epoch #11\tmean reward = 15.550\tepsilon = 0.448\n",
            "epoch #12\tmean reward = 13.500\tepsilon = 0.443\n",
            "epoch #13\tmean reward = 15.880\tepsilon = 0.439\n",
            "epoch #14\tmean reward = 15.640\tepsilon = 0.434\n",
            "epoch #15\tmean reward = 13.840\tepsilon = 0.430\n",
            "epoch #16\tmean reward = 14.000\tepsilon = 0.426\n",
            "epoch #17\tmean reward = 15.090\tepsilon = 0.421\n",
            "epoch #18\tmean reward = 14.910\tepsilon = 0.417\n",
            "epoch #19\tmean reward = 12.940\tepsilon = 0.413\n",
            "epoch #20\tmean reward = 15.150\tepsilon = 0.409\n",
            "epoch #21\tmean reward = 13.670\tepsilon = 0.405\n",
            "epoch #22\tmean reward = 13.440\tepsilon = 0.401\n",
            "epoch #23\tmean reward = 13.390\tepsilon = 0.397\n",
            "epoch #24\tmean reward = 15.540\tepsilon = 0.393\n",
            "epoch #25\tmean reward = 14.500\tepsilon = 0.389\n",
            "epoch #26\tmean reward = 14.270\tepsilon = 0.385\n",
            "epoch #27\tmean reward = 13.340\tepsilon = 0.381\n",
            "epoch #28\tmean reward = 14.160\tepsilon = 0.377\n",
            "epoch #29\tmean reward = 15.650\tepsilon = 0.374\n",
            "epoch #30\tmean reward = 17.240\tepsilon = 0.370\n",
            "epoch #31\tmean reward = 14.540\tepsilon = 0.366\n",
            "epoch #32\tmean reward = 14.500\tepsilon = 0.362\n",
            "epoch #33\tmean reward = 14.610\tepsilon = 0.359\n",
            "epoch #34\tmean reward = 13.680\tepsilon = 0.355\n",
            "epoch #35\tmean reward = 13.100\tepsilon = 0.352\n",
            "epoch #36\tmean reward = 13.460\tepsilon = 0.348\n",
            "epoch #37\tmean reward = 12.020\tepsilon = 0.345\n",
            "epoch #38\tmean reward = 14.300\tepsilon = 0.341\n",
            "epoch #39\tmean reward = 13.240\tepsilon = 0.338\n",
            "epoch #40\tmean reward = 11.820\tepsilon = 0.334\n",
            "epoch #41\tmean reward = 12.740\tepsilon = 0.331\n",
            "epoch #42\tmean reward = 13.620\tepsilon = 0.328\n",
            "epoch #43\tmean reward = 12.690\tepsilon = 0.325\n",
            "epoch #44\tmean reward = 14.080\tepsilon = 0.321\n",
            "epoch #45\tmean reward = 13.020\tepsilon = 0.318\n",
            "epoch #46\tmean reward = 13.760\tepsilon = 0.315\n",
            "epoch #47\tmean reward = 13.290\tepsilon = 0.312\n",
            "epoch #48\tmean reward = 12.660\tepsilon = 0.309\n",
            "epoch #49\tmean reward = 12.390\tepsilon = 0.306\n",
            "epoch #50\tmean reward = 13.090\tepsilon = 0.303\n",
            "epoch #51\tmean reward = 13.390\tepsilon = 0.299\n",
            "epoch #52\tmean reward = 13.390\tepsilon = 0.296\n",
            "epoch #53\tmean reward = 12.680\tepsilon = 0.294\n",
            "epoch #54\tmean reward = 11.030\tepsilon = 0.291\n",
            "epoch #55\tmean reward = 12.100\tepsilon = 0.288\n",
            "epoch #56\tmean reward = 13.560\tepsilon = 0.285\n",
            "epoch #57\tmean reward = 12.740\tepsilon = 0.282\n",
            "epoch #58\tmean reward = 14.050\tepsilon = 0.279\n",
            "epoch #59\tmean reward = 12.700\tepsilon = 0.276\n",
            "epoch #60\tmean reward = 11.580\tepsilon = 0.274\n",
            "epoch #61\tmean reward = 12.960\tepsilon = 0.271\n",
            "epoch #62\tmean reward = 12.500\tepsilon = 0.268\n",
            "epoch #63\tmean reward = 13.450\tepsilon = 0.265\n",
            "epoch #64\tmean reward = 11.930\tepsilon = 0.263\n",
            "epoch #65\tmean reward = 13.210\tepsilon = 0.260\n",
            "epoch #66\tmean reward = 13.890\tepsilon = 0.258\n",
            "epoch #67\tmean reward = 12.680\tepsilon = 0.255\n",
            "epoch #68\tmean reward = 11.220\tepsilon = 0.252\n",
            "epoch #69\tmean reward = 13.040\tepsilon = 0.250\n",
            "epoch #70\tmean reward = 13.120\tepsilon = 0.247\n",
            "epoch #71\tmean reward = 13.620\tepsilon = 0.245\n",
            "epoch #72\tmean reward = 14.270\tepsilon = 0.242\n",
            "epoch #73\tmean reward = 12.150\tepsilon = 0.240\n",
            "epoch #74\tmean reward = 13.170\tepsilon = 0.238\n",
            "epoch #75\tmean reward = 12.770\tepsilon = 0.235\n",
            "epoch #76\tmean reward = 12.160\tepsilon = 0.233\n",
            "epoch #77\tmean reward = 12.810\tepsilon = 0.231\n",
            "epoch #78\tmean reward = 11.060\tepsilon = 0.228\n",
            "epoch #79\tmean reward = 12.700\tepsilon = 0.226\n",
            "epoch #80\tmean reward = 12.510\tepsilon = 0.224\n",
            "epoch #81\tmean reward = 13.290\tepsilon = 0.222\n",
            "epoch #82\tmean reward = 12.420\tepsilon = 0.219\n",
            "epoch #83\tmean reward = 13.650\tepsilon = 0.217\n",
            "epoch #84\tmean reward = 12.750\tepsilon = 0.215\n",
            "epoch #85\tmean reward = 12.420\tepsilon = 0.213\n",
            "epoch #86\tmean reward = 13.060\tepsilon = 0.211\n",
            "epoch #87\tmean reward = 15.050\tepsilon = 0.209\n",
            "epoch #88\tmean reward = 12.280\tepsilon = 0.206\n",
            "epoch #89\tmean reward = 13.590\tepsilon = 0.204\n",
            "epoch #90\tmean reward = 10.680\tepsilon = 0.202\n",
            "epoch #91\tmean reward = 12.300\tepsilon = 0.200\n",
            "epoch #92\tmean reward = 13.270\tepsilon = 0.198\n",
            "epoch #93\tmean reward = 12.210\tepsilon = 0.196\n",
            "epoch #94\tmean reward = 12.550\tepsilon = 0.194\n",
            "epoch #95\tmean reward = 12.370\tepsilon = 0.192\n",
            "epoch #96\tmean reward = 10.420\tepsilon = 0.191\n",
            "epoch #97\tmean reward = 13.120\tepsilon = 0.189\n",
            "epoch #98\tmean reward = 13.070\tepsilon = 0.187\n",
            "epoch #99\tmean reward = 13.110\tepsilon = 0.185\n",
            "epoch #100\tmean reward = 12.690\tepsilon = 0.183\n",
            "epoch #101\tmean reward = 12.500\tepsilon = 0.181\n",
            "epoch #102\tmean reward = 17.080\tepsilon = 0.179\n",
            "epoch #103\tmean reward = 13.770\tepsilon = 0.178\n",
            "epoch #104\tmean reward = 11.890\tepsilon = 0.176\n",
            "epoch #105\tmean reward = 14.320\tepsilon = 0.174\n",
            "epoch #106\tmean reward = 11.550\tepsilon = 0.172\n",
            "epoch #107\tmean reward = 10.950\tepsilon = 0.171\n",
            "epoch #108\tmean reward = 13.610\tepsilon = 0.169\n",
            "epoch #109\tmean reward = 11.790\tepsilon = 0.167\n",
            "epoch #110\tmean reward = 13.260\tepsilon = 0.166\n",
            "epoch #111\tmean reward = 11.500\tepsilon = 0.164\n",
            "epoch #112\tmean reward = 13.770\tepsilon = 0.162\n",
            "epoch #113\tmean reward = 11.650\tepsilon = 0.161\n",
            "epoch #114\tmean reward = 10.770\tepsilon = 0.159\n",
            "epoch #115\tmean reward = 12.530\tepsilon = 0.157\n",
            "epoch #116\tmean reward = 11.780\tepsilon = 0.156\n",
            "epoch #117\tmean reward = 13.980\tepsilon = 0.154\n",
            "epoch #118\tmean reward = 12.270\tepsilon = 0.153\n",
            "epoch #119\tmean reward = 13.200\tepsilon = 0.151\n",
            "epoch #120\tmean reward = 12.870\tepsilon = 0.150\n",
            "epoch #121\tmean reward = 14.170\tepsilon = 0.148\n",
            "epoch #122\tmean reward = 12.300\tepsilon = 0.147\n",
            "epoch #123\tmean reward = 12.750\tepsilon = 0.145\n",
            "epoch #124\tmean reward = 10.980\tepsilon = 0.144\n",
            "epoch #125\tmean reward = 11.890\tepsilon = 0.142\n",
            "epoch #126\tmean reward = 13.670\tepsilon = 0.141\n",
            "epoch #127\tmean reward = 12.310\tepsilon = 0.140\n",
            "epoch #128\tmean reward = 14.580\tepsilon = 0.138\n",
            "epoch #129\tmean reward = 11.980\tepsilon = 0.137\n",
            "epoch #130\tmean reward = 13.660\tepsilon = 0.135\n",
            "epoch #131\tmean reward = 12.300\tepsilon = 0.134\n",
            "epoch #132\tmean reward = 12.560\tepsilon = 0.133\n",
            "epoch #133\tmean reward = 15.180\tepsilon = 0.131\n",
            "epoch #134\tmean reward = 15.580\tepsilon = 0.130\n",
            "epoch #135\tmean reward = 12.790\tepsilon = 0.129\n",
            "epoch #136\tmean reward = 12.700\tepsilon = 0.127\n",
            "epoch #137\tmean reward = 12.310\tepsilon = 0.126\n",
            "epoch #138\tmean reward = 12.160\tepsilon = 0.125\n",
            "epoch #139\tmean reward = 15.110\tepsilon = 0.124\n",
            "epoch #140\tmean reward = 12.710\tepsilon = 0.122\n",
            "epoch #141\tmean reward = 16.750\tepsilon = 0.121\n",
            "epoch #142\tmean reward = 13.580\tepsilon = 0.120\n",
            "epoch #143\tmean reward = 13.230\tepsilon = 0.119\n",
            "epoch #144\tmean reward = 13.810\tepsilon = 0.118\n",
            "epoch #145\tmean reward = 12.370\tepsilon = 0.116\n",
            "epoch #146\tmean reward = 14.220\tepsilon = 0.115\n",
            "epoch #147\tmean reward = 12.770\tepsilon = 0.114\n",
            "epoch #148\tmean reward = 13.040\tepsilon = 0.113\n",
            "epoch #149\tmean reward = 12.620\tepsilon = 0.112\n",
            "epoch #150\tmean reward = 17.000\tepsilon = 0.111\n",
            "epoch #151\tmean reward = 12.940\tepsilon = 0.110\n",
            "epoch #152\tmean reward = 13.660\tepsilon = 0.109\n",
            "epoch #153\tmean reward = 13.200\tepsilon = 0.107\n",
            "epoch #154\tmean reward = 17.380\tepsilon = 0.106\n",
            "epoch #155\tmean reward = 12.540\tepsilon = 0.105\n",
            "epoch #156\tmean reward = 13.570\tepsilon = 0.104\n",
            "epoch #157\tmean reward = 15.290\tepsilon = 0.103\n",
            "epoch #158\tmean reward = 13.300\tepsilon = 0.102\n",
            "epoch #159\tmean reward = 12.720\tepsilon = 0.101\n",
            "epoch #160\tmean reward = 12.280\tepsilon = 0.100\n",
            "epoch #161\tmean reward = 14.070\tepsilon = 0.099\n",
            "epoch #162\tmean reward = 12.980\tepsilon = 0.098\n",
            "epoch #163\tmean reward = 15.730\tepsilon = 0.097\n",
            "epoch #164\tmean reward = 16.610\tepsilon = 0.096\n",
            "epoch #165\tmean reward = 12.620\tepsilon = 0.095\n",
            "epoch #166\tmean reward = 16.960\tepsilon = 0.094\n",
            "epoch #167\tmean reward = 13.490\tepsilon = 0.093\n",
            "epoch #168\tmean reward = 17.560\tepsilon = 0.092\n",
            "epoch #169\tmean reward = 14.430\tepsilon = 0.091\n",
            "epoch #170\tmean reward = 14.480\tepsilon = 0.091\n",
            "epoch #171\tmean reward = 14.310\tepsilon = 0.090\n",
            "epoch #172\tmean reward = 15.910\tepsilon = 0.089\n",
            "epoch #173\tmean reward = 19.400\tepsilon = 0.088\n",
            "epoch #174\tmean reward = 13.140\tepsilon = 0.087\n",
            "epoch #175\tmean reward = 13.670\tepsilon = 0.086\n",
            "epoch #176\tmean reward = 14.950\tepsilon = 0.085\n",
            "epoch #177\tmean reward = 16.530\tepsilon = 0.084\n",
            "epoch #178\tmean reward = 14.610\tepsilon = 0.084\n",
            "epoch #179\tmean reward = 14.080\tepsilon = 0.083\n",
            "epoch #180\tmean reward = 15.570\tepsilon = 0.082\n",
            "epoch #181\tmean reward = 15.410\tepsilon = 0.081\n",
            "epoch #182\tmean reward = 14.260\tepsilon = 0.080\n",
            "epoch #183\tmean reward = 14.250\tepsilon = 0.079\n",
            "epoch #184\tmean reward = 14.790\tepsilon = 0.079\n",
            "epoch #185\tmean reward = 14.310\tepsilon = 0.078\n",
            "epoch #186\tmean reward = 15.860\tepsilon = 0.077\n",
            "epoch #187\tmean reward = 14.750\tepsilon = 0.076\n",
            "epoch #188\tmean reward = 13.260\tepsilon = 0.076\n",
            "epoch #189\tmean reward = 18.350\tepsilon = 0.075\n",
            "epoch #190\tmean reward = 13.780\tepsilon = 0.074\n",
            "epoch #191\tmean reward = 13.740\tepsilon = 0.073\n",
            "epoch #192\tmean reward = 17.610\tepsilon = 0.073\n",
            "epoch #193\tmean reward = 15.590\tepsilon = 0.072\n",
            "epoch #194\tmean reward = 12.870\tepsilon = 0.071\n",
            "epoch #195\tmean reward = 15.250\tepsilon = 0.070\n",
            "epoch #196\tmean reward = 17.230\tepsilon = 0.070\n",
            "epoch #197\tmean reward = 15.730\tepsilon = 0.069\n",
            "epoch #198\tmean reward = 14.680\tepsilon = 0.068\n",
            "epoch #199\tmean reward = 15.500\tepsilon = 0.068\n",
            "epoch #200\tmean reward = 27.070\tepsilon = 0.067\n",
            "epoch #201\tmean reward = 35.790\tepsilon = 0.066\n",
            "epoch #202\tmean reward = 14.510\tepsilon = 0.066\n",
            "epoch #203\tmean reward = 16.280\tepsilon = 0.065\n",
            "epoch #204\tmean reward = 13.000\tepsilon = 0.064\n",
            "epoch #205\tmean reward = 15.160\tepsilon = 0.064\n",
            "epoch #206\tmean reward = 14.530\tepsilon = 0.063\n",
            "epoch #207\tmean reward = 17.350\tepsilon = 0.062\n",
            "epoch #208\tmean reward = 13.770\tepsilon = 0.062\n",
            "epoch #209\tmean reward = 19.450\tepsilon = 0.061\n",
            "epoch #210\tmean reward = 13.980\tepsilon = 0.061\n",
            "epoch #211\tmean reward = 16.130\tepsilon = 0.060\n",
            "epoch #212\tmean reward = 16.360\tepsilon = 0.059\n",
            "epoch #213\tmean reward = 13.230\tepsilon = 0.059\n",
            "epoch #214\tmean reward = 18.350\tepsilon = 0.058\n",
            "epoch #215\tmean reward = 16.330\tepsilon = 0.058\n",
            "epoch #216\tmean reward = 17.600\tepsilon = 0.057\n",
            "epoch #217\tmean reward = 13.600\tepsilon = 0.056\n",
            "epoch #218\tmean reward = 16.520\tepsilon = 0.056\n",
            "epoch #219\tmean reward = 19.670\tepsilon = 0.055\n",
            "epoch #220\tmean reward = 19.510\tepsilon = 0.055\n",
            "epoch #221\tmean reward = 24.600\tepsilon = 0.054\n",
            "epoch #222\tmean reward = 19.260\tepsilon = 0.054\n",
            "epoch #223\tmean reward = 16.050\tepsilon = 0.053\n",
            "epoch #224\tmean reward = 21.800\tepsilon = 0.053\n",
            "epoch #225\tmean reward = 14.490\tepsilon = 0.052\n",
            "epoch #226\tmean reward = 12.960\tepsilon = 0.052\n",
            "epoch #227\tmean reward = 21.200\tepsilon = 0.051\n",
            "epoch #228\tmean reward = 26.150\tepsilon = 0.051\n",
            "epoch #229\tmean reward = 14.720\tepsilon = 0.050\n",
            "epoch #230\tmean reward = 21.020\tepsilon = 0.050\n",
            "epoch #231\tmean reward = 14.910\tepsilon = 0.049\n",
            "epoch #232\tmean reward = 17.540\tepsilon = 0.049\n",
            "epoch #233\tmean reward = 15.520\tepsilon = 0.048\n",
            "epoch #234\tmean reward = 21.320\tepsilon = 0.048\n",
            "epoch #235\tmean reward = 13.480\tepsilon = 0.047\n",
            "epoch #236\tmean reward = 16.280\tepsilon = 0.047\n",
            "epoch #237\tmean reward = 14.810\tepsilon = 0.046\n",
            "epoch #238\tmean reward = 23.150\tepsilon = 0.046\n",
            "epoch #239\tmean reward = 33.230\tepsilon = 0.045\n",
            "epoch #240\tmean reward = 19.720\tepsilon = 0.045\n",
            "epoch #241\tmean reward = 18.470\tepsilon = 0.044\n",
            "epoch #242\tmean reward = 15.440\tepsilon = 0.044\n",
            "epoch #243\tmean reward = 12.380\tepsilon = 0.043\n",
            "epoch #244\tmean reward = 16.280\tepsilon = 0.043\n",
            "epoch #245\tmean reward = 16.630\tepsilon = 0.043\n",
            "epoch #246\tmean reward = 17.750\tepsilon = 0.042\n",
            "epoch #247\tmean reward = 16.780\tepsilon = 0.042\n",
            "epoch #248\tmean reward = 17.490\tepsilon = 0.041\n",
            "epoch #249\tmean reward = 21.260\tepsilon = 0.041\n",
            "epoch #250\tmean reward = 19.350\tepsilon = 0.041\n",
            "epoch #251\tmean reward = 17.570\tepsilon = 0.040\n",
            "epoch #252\tmean reward = 33.010\tepsilon = 0.040\n",
            "epoch #253\tmean reward = 25.690\tepsilon = 0.039\n",
            "epoch #254\tmean reward = 20.010\tepsilon = 0.039\n",
            "epoch #255\tmean reward = 23.400\tepsilon = 0.039\n",
            "epoch #256\tmean reward = 16.820\tepsilon = 0.038\n",
            "epoch #257\tmean reward = 19.150\tepsilon = 0.038\n",
            "epoch #258\tmean reward = 17.490\tepsilon = 0.037\n",
            "epoch #259\tmean reward = 27.690\tepsilon = 0.037\n",
            "epoch #260\tmean reward = 23.070\tepsilon = 0.037\n",
            "epoch #261\tmean reward = 25.950\tepsilon = 0.036\n",
            "epoch #262\tmean reward = 14.330\tepsilon = 0.036\n",
            "epoch #263\tmean reward = 19.190\tepsilon = 0.036\n",
            "epoch #264\tmean reward = 16.510\tepsilon = 0.035\n",
            "epoch #265\tmean reward = 22.280\tepsilon = 0.035\n",
            "epoch #266\tmean reward = 26.340\tepsilon = 0.035\n",
            "epoch #267\tmean reward = 23.340\tepsilon = 0.034\n",
            "epoch #268\tmean reward = 16.680\tepsilon = 0.034\n",
            "epoch #269\tmean reward = 15.940\tepsilon = 0.033\n",
            "epoch #270\tmean reward = 22.710\tepsilon = 0.033\n",
            "epoch #271\tmean reward = 27.130\tepsilon = 0.033\n",
            "epoch #272\tmean reward = 28.580\tepsilon = 0.032\n",
            "epoch #273\tmean reward = 24.890\tepsilon = 0.032\n",
            "epoch #274\tmean reward = 28.360\tepsilon = 0.032\n",
            "epoch #275\tmean reward = 28.690\tepsilon = 0.032\n",
            "epoch #276\tmean reward = 20.010\tepsilon = 0.031\n",
            "epoch #277\tmean reward = 16.500\tepsilon = 0.031\n",
            "epoch #278\tmean reward = 17.900\tepsilon = 0.031\n",
            "epoch #279\tmean reward = 14.220\tepsilon = 0.030\n",
            "epoch #280\tmean reward = 18.610\tepsilon = 0.030\n",
            "epoch #281\tmean reward = 15.610\tepsilon = 0.030\n",
            "epoch #282\tmean reward = 19.770\tepsilon = 0.029\n",
            "epoch #283\tmean reward = 24.700\tepsilon = 0.029\n",
            "epoch #284\tmean reward = 24.020\tepsilon = 0.029\n",
            "epoch #285\tmean reward = 22.130\tepsilon = 0.029\n",
            "epoch #286\tmean reward = 25.150\tepsilon = 0.028\n",
            "epoch #287\tmean reward = 28.190\tepsilon = 0.028\n",
            "epoch #288\tmean reward = 24.150\tepsilon = 0.028\n",
            "epoch #289\tmean reward = 29.190\tepsilon = 0.027\n",
            "epoch #290\tmean reward = 20.440\tepsilon = 0.027\n",
            "epoch #291\tmean reward = 26.410\tepsilon = 0.027\n",
            "epoch #292\tmean reward = 22.710\tepsilon = 0.027\n",
            "epoch #293\tmean reward = 16.520\tepsilon = 0.026\n",
            "epoch #294\tmean reward = 16.330\tepsilon = 0.026\n",
            "epoch #295\tmean reward = 15.950\tepsilon = 0.026\n",
            "epoch #296\tmean reward = 19.550\tepsilon = 0.026\n",
            "epoch #297\tmean reward = 23.510\tepsilon = 0.025\n",
            "epoch #298\tmean reward = 22.660\tepsilon = 0.025\n",
            "epoch #299\tmean reward = 24.130\tepsilon = 0.025\n",
            "epoch #300\tmean reward = 23.180\tepsilon = 0.025\n",
            "epoch #301\tmean reward = 27.010\tepsilon = 0.024\n",
            "epoch #302\tmean reward = 26.520\tepsilon = 0.024\n",
            "epoch #303\tmean reward = 21.810\tepsilon = 0.024\n",
            "epoch #304\tmean reward = 19.500\tepsilon = 0.024\n",
            "epoch #305\tmean reward = 26.360\tepsilon = 0.023\n",
            "epoch #306\tmean reward = 29.000\tepsilon = 0.023\n",
            "epoch #307\tmean reward = 15.640\tepsilon = 0.023\n",
            "epoch #308\tmean reward = 16.810\tepsilon = 0.023\n",
            "epoch #309\tmean reward = 14.920\tepsilon = 0.022\n",
            "epoch #310\tmean reward = 19.690\tepsilon = 0.022\n",
            "epoch #311\tmean reward = 22.940\tepsilon = 0.022\n",
            "epoch #312\tmean reward = 25.050\tepsilon = 0.022\n",
            "epoch #313\tmean reward = 14.400\tepsilon = 0.022\n",
            "epoch #314\tmean reward = 19.650\tepsilon = 0.021\n",
            "epoch #315\tmean reward = 17.020\tepsilon = 0.021\n",
            "epoch #316\tmean reward = 23.590\tepsilon = 0.021\n",
            "epoch #317\tmean reward = 18.250\tepsilon = 0.021\n",
            "epoch #318\tmean reward = 15.310\tepsilon = 0.020\n",
            "epoch #319\tmean reward = 19.970\tepsilon = 0.020\n",
            "epoch #320\tmean reward = 17.140\tepsilon = 0.020\n",
            "epoch #321\tmean reward = 14.610\tepsilon = 0.020\n",
            "epoch #322\tmean reward = 26.640\tepsilon = 0.020\n",
            "epoch #323\tmean reward = 20.100\tepsilon = 0.019\n",
            "epoch #324\tmean reward = 14.690\tepsilon = 0.019\n",
            "epoch #325\tmean reward = 15.690\tepsilon = 0.019\n",
            "epoch #326\tmean reward = 17.160\tepsilon = 0.019\n",
            "epoch #327\tmean reward = 20.520\tepsilon = 0.019\n",
            "epoch #328\tmean reward = 16.230\tepsilon = 0.019\n",
            "epoch #329\tmean reward = 17.470\tepsilon = 0.018\n",
            "epoch #330\tmean reward = 21.090\tepsilon = 0.018\n",
            "epoch #331\tmean reward = 17.960\tepsilon = 0.018\n",
            "epoch #332\tmean reward = 14.790\tepsilon = 0.018\n",
            "epoch #333\tmean reward = 17.350\tepsilon = 0.018\n",
            "epoch #334\tmean reward = 23.790\tepsilon = 0.017\n",
            "epoch #335\tmean reward = 25.380\tepsilon = 0.017\n",
            "epoch #336\tmean reward = 22.440\tepsilon = 0.017\n",
            "epoch #337\tmean reward = 22.990\tepsilon = 0.017\n",
            "epoch #338\tmean reward = 15.990\tepsilon = 0.017\n",
            "epoch #339\tmean reward = 20.700\tepsilon = 0.017\n",
            "epoch #340\tmean reward = 29.010\tepsilon = 0.016\n",
            "epoch #341\tmean reward = 20.610\tepsilon = 0.016\n",
            "epoch #342\tmean reward = 27.220\tepsilon = 0.016\n"
          ]
        }
      ],
      "source": [
        "for i in range(1000):\n",
        "    session_rewards = [generate_session(env, epsilon=epsilon, train=True) for _ in range(100)]\n",
        "    print(\"epoch #{}\\tmean reward = {:.3f}\\tepsilon = {:.3f}\".format(i, np.mean(session_rewards), epsilon))\n",
        "\n",
        "    epsilon *= 0.99\n",
        "    assert epsilon >= 1e-4, \"Make sure epsilon is always nonzero during training\"\n",
        "\n",
        "    if np.mean(session_rewards) > 300:\n",
        "        print(\"You Win!\")\n",
        "        break"
      ]
    },
    {
      "cell_type": "markdown",
      "metadata": {
        "id": "XJPoF9XtEmiB"
      },
      "source": [
        "### How to interpret results\n",
        "\n",
        "\n",
        "Welcome to the f.. world of deep f...n reinforcement learning. Don't expect agent's reward to smoothly go up. Hope for it to go increase eventually. If it deems you worthy.\n",
        "\n",
        "Seriously though,\n",
        "* __ mean reward__ is the average reward per game. For a correct implementation it may stay low for some 10 epochs, then start growing while oscilating insanely and converges by ~50-100 steps depending on the network architecture.\n",
        "* If it never reaches target score by the end of for loop, try increasing the number of hidden neurons or look at the epsilon.\n",
        "* __ epsilon__ - agent's willingness to explore. If you see that agent's already at < 0.01 epsilon before it's is at least 200, just reset it back to 0.1 - 0.5."
      ]
    },
    {
      "cell_type": "markdown",
      "metadata": {
        "id": "lhKiN-qOEmiB"
      },
      "source": [
        "### Record videos\n",
        "\n",
        "As usual, we now use `gymnasium.wrappers.RecordVideo` to record a video of our agent playing the game. Unlike our previous attempts with state binarization, this time we expect our agent to act ~~(or fail)~~ more smoothly since there's no more binarization error at play.\n",
        "\n",
        "As you already did with tabular q-learning, we set epsilon=0 for final evaluation to prevent agent from exploring himself to death."
      ]
    },
    {
      "cell_type": "code",
      "execution_count": null,
      "metadata": {
        "id": "2yqPkj6HEmiB"
      },
      "outputs": [],
      "source": [
        "# Record sessions\n",
        "\n",
        "from gymnasium.wrappers import RecordVideo\n",
        "\n",
        "with gym.make(\"CartPole-v0\", render_mode=\"rgb_array\") as record_env, RecordVideo(\n",
        "    record_env, video_folder=\"videos\"\n",
        ") as env_monitor:\n",
        "    sessions = [\n",
        "        generate_session(env_monitor, epsilon=0, train=False) for _ in range(100)\n",
        "    ]\n"
      ]
    },
    {
      "cell_type": "code",
      "execution_count": null,
      "metadata": {
        "id": "afqi2qomEmiC"
      },
      "outputs": [],
      "source": [
        "# Show video. This may not work in some setups. If it doesn't\n",
        "# work for you, you can download the videos and view them locally.\n",
        "\n",
        "from pathlib import Path\n",
        "from base64 import b64encode\n",
        "from IPython.display import HTML\n",
        "\n",
        "video_paths = sorted([s for s in Path('videos').iterdir() if s.suffix == '.mp4'])\n",
        "video_path = video_paths[-1]  # You can also try other indices\n",
        "\n",
        "if 'google.colab' in sys.modules:\n",
        "    # https://stackoverflow.com/a/57378660/1214547\n",
        "    with video_path.open('rb') as fp:\n",
        "        mp4 = fp.read()\n",
        "    data_url = 'data:video/mp4;base64,' + b64encode(mp4).decode()\n",
        "else:\n",
        "    data_url = str(video_path)\n",
        "\n",
        "HTML(\"\"\"\n",
        "<video width=\"640\" height=\"480\" controls>\n",
        "  <source src=\"{}\" type=\"video/mp4\">\n",
        "</video>\n",
        "\"\"\".format(data_url))"
      ]
    }
  ],
  "metadata": {
    "colab": {
      "provenance": [],
      "include_colab_link": true
    },
    "kernelspec": {
      "display_name": "Python 3",
      "name": "python3"
    },
    "language_info": {
      "name": "python"
    }
  },
  "nbformat": 4,
  "nbformat_minor": 0
}