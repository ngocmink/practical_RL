{
  "cells": [
    {
      "cell_type": "markdown",
      "metadata": {
        "id": "view-in-github",
        "colab_type": "text"
      },
      "source": [
        "<a href=\"https://colab.research.google.com/github/ngocmink/practical_RL/blob/main/week04_approx_rl/seminar_pytorch.ipynb\" target=\"_parent\"><img src=\"https://colab.research.google.com/assets/colab-badge.svg\" alt=\"Open In Colab\"/></a>"
      ]
    },
    {
      "cell_type": "markdown",
      "metadata": {
        "id": "kr_aKWMGEmh-"
      },
      "source": [
        "# Approximate q-learning\n",
        "\n",
        "In this notebook you will teach a __PyTorch__ neural network to do Q-learning."
      ]
    },
    {
      "cell_type": "code",
      "execution_count": 2,
      "metadata": {
        "id": "oaMu65ONEmh_",
        "outputId": "6e4c16cc-63bd-4580-be13-12f2e670e66a",
        "colab": {
          "base_uri": "https://localhost:8080/"
        }
      },
      "outputs": [
        {
          "output_type": "stream",
          "name": "stdout",
          "text": [
            "W: Skipping acquire of configured file 'main/source/Sources' as repository 'https://r2u.stat.illinois.edu/ubuntu jammy InRelease' does not seem to provide it (sources.list entry misspelt?)\n",
            "Starting virtual X frame buffer: Xvfb.\n"
          ]
        }
      ],
      "source": [
        "import sys, os\n",
        "if 'google.colab' in sys.modules and not os.path.exists('.setup_complete'):\n",
        "    !wget -q https://raw.githubusercontent.com/yandexdataschool/Practical_RL/master/setup_colab.sh -O- | bash\n",
        "    !touch .setup_complete\n",
        "\n",
        "# This code creates a virtual display to draw game images on.\n",
        "# It will have no effect if your machine has a monitor.\n",
        "if type(os.environ.get(\"DISPLAY\")) is not str or len(os.environ.get(\"DISPLAY\")) == 0:\n",
        "    !bash ../xvfb start\n",
        "    os.environ['DISPLAY'] = ':1'"
      ]
    },
    {
      "cell_type": "code",
      "execution_count": 3,
      "metadata": {
        "id": "avILCRKkEpaX",
        "colab": {
          "base_uri": "https://localhost:8080/"
        },
        "outputId": "73f9702a-f7fd-4524-f735-2bcf86605a6b"
      },
      "outputs": [
        {
          "output_type": "stream",
          "name": "stdout",
          "text": [
            "Requirement already satisfied: gymnasium[classic_control] in /usr/local/lib/python3.12/dist-packages (1.2.1)\n",
            "Requirement already satisfied: numpy>=1.21.0 in /usr/local/lib/python3.12/dist-packages (from gymnasium[classic_control]) (2.0.2)\n",
            "Requirement already satisfied: cloudpickle>=1.2.0 in /usr/local/lib/python3.12/dist-packages (from gymnasium[classic_control]) (3.1.1)\n",
            "Requirement already satisfied: typing-extensions>=4.3.0 in /usr/local/lib/python3.12/dist-packages (from gymnasium[classic_control]) (4.15.0)\n",
            "Requirement already satisfied: farama-notifications>=0.0.1 in /usr/local/lib/python3.12/dist-packages (from gymnasium[classic_control]) (0.0.4)\n",
            "Requirement already satisfied: pygame>=2.1.3 in /usr/local/lib/python3.12/dist-packages (from gymnasium[classic_control]) (2.6.1)\n"
          ]
        }
      ],
      "source": [
        "!pip install gymnasium[classic_control]"
      ]
    },
    {
      "cell_type": "code",
      "execution_count": 4,
      "metadata": {
        "id": "K_SRk2ASEmh_"
      },
      "outputs": [],
      "source": [
        "import gymnasium as gym\n",
        "import numpy as np\n",
        "import pandas as pd\n",
        "import matplotlib.pyplot as plt\n",
        "%matplotlib inline"
      ]
    },
    {
      "cell_type": "code",
      "execution_count": 5,
      "metadata": {
        "id": "x2YvkgprEmh_",
        "colab": {
          "base_uri": "https://localhost:8080/",
          "height": 396
        },
        "outputId": "47dc65be-ecd6-4dc4-a61e-03dd86f5db6d"
      },
      "outputs": [
        {
          "output_type": "display_data",
          "data": {
            "text/plain": [
              "<Figure size 640x480 with 1 Axes>"
            ],
            "image/png": "[encoded data removed]"
          },
          "metadata": {}
        }
      ],
      "source": [
        "env = gym.make(\"CartPole-v1\", render_mode=\"rgb_array\").env\n",
        "env.reset()\n",
        "n_actions = env.action_space.n\n",
        "state_dim = env.observation_space.shape\n",
        "plt.imshow(env.render())\n",
        "env.close()"
      ]
    },
    {
      "cell_type": "markdown",
      "metadata": {
        "id": "sI8W19CwEmh_"
      },
      "source": [
        "# Approximate Q-learning: building the network\n",
        "\n",
        "To train a neural network policy one must have a neural network policy. Let's build it.\n",
        "\n",
        "\n",
        "Since we're working with a pre-extracted features (cart positions, angles and velocities), we don't need a complicated network yet. In fact, let's build something like this for starters:\n",
        "\n",
        "![img](https://raw.githubusercontent.com/yandexdataschool/Practical_RL/master/yet_another_week/_resource/qlearning_scheme.png)\n",
        "\n",
        "For your first run, please only use linear layers (`nn.Linear`) and activations. Stuff like batch normalization or dropout may ruin everything if used haphazardly.\n",
        "\n",
        "Also please avoid using nonlinearities like sigmoid & tanh: since agent's observations are not normalized, sigmoids might be saturated at initialization. Instead, use non-saturating nonlinearities like ReLU.\n",
        "\n",
        "Ideally you should start small with maybe 1-2 hidden layers with < 200 neurons and then increase network size if agent doesn't beat the target score."
      ]
    },
    {
      "cell_type": "code",
      "execution_count": 6,
      "metadata": {
        "id": "YdWXv8WJEmiA"
      },
      "outputs": [],
      "source": [
        "import torch\n",
        "import torch.nn as nn\n",
        "import torch.nn.functional as F"
      ]
    },
    {
      "cell_type": "code",
      "execution_count": 7,
      "metadata": {
        "id": "y2-PcaIQEmiA"
      },
      "outputs": [],
      "source": [
        "network = nn.Sequential()\n",
        "\n",
        "network.add_module('layer1', nn.Linear(state_dim[0], 64))\n",
        "network.add_module('layer2', nn.Linear(64, 128))\n",
        "# network.add_module('layer3', nn.ReLU())\n",
        "network.add_module('layer4', nn.Linear(128, n_actions))\n",
        "\n",
        "\n",
        "# hint: use state_dim[0] as input size"
      ]
    },
    {
      "cell_type": "code",
      "execution_count": 8,
      "metadata": {
        "id": "8xuWPGriEmiA"
      },
      "outputs": [],
      "source": [
        "def get_action(state, epsilon=0):\n",
        "    \"\"\"\n",
        "    sample actions with epsilon-greedy policy\n",
        "    recap: with p = epsilon pick random action, else pick action with highest Q(s,a)\n",
        "    \"\"\"\n",
        "    state = torch.tensor(state[None], dtype=torch.float32)\n",
        "    q_values = network(state).detach().numpy()\n",
        "    # print(q_values.shape)\n",
        "    idx_max = 0\n",
        "    max = -999999\n",
        "    for i in range(len(q_values[0])):\n",
        "      if q_values[0][i] > max:\n",
        "        max = q_values[0][i]\n",
        "        idx_max = i\n",
        "    if np.random.rand() < epsilon:\n",
        "      return np.random.randint(n_actions)\n",
        "    else:\n",
        "      return idx_max\n"
      ]
    },
    {
      "cell_type": "code",
      "execution_count": 9,
      "metadata": {
        "id": "wroEfSRNEmiA",
        "colab": {
          "base_uri": "https://localhost:8080/"
        },
        "outputId": "14ceb3da-328c-4a71-b669-3631ec7bd0ec"
      },
      "outputs": [
        {
          "output_type": "stream",
          "name": "stderr",
          "text": [
            "/tmp/ipython-input-2259198421.py:2: UserWarning: Creating a tensor from a list of numpy.ndarrays is extremely slow. Please consider converting the list to a single numpy.ndarray with numpy.array() before converting to a tensor. (Triggered internally at /pytorch/torch/csrc/utils/tensor_new.cpp:253.)\n",
            "  assert tuple(network(torch.tensor([s]*3, dtype=torch.float32)).size()) == (\n"
          ]
        },
        {
          "output_type": "stream",
          "name": "stdout",
          "text": [
            "e=0.0 tests passed\n",
            "e=0.1 tests passed\n",
            "e=0.5 tests passed\n",
            "e=1.0 tests passed\n"
          ]
        }
      ],
      "source": [
        "s, _ = env.reset()\n",
        "assert tuple(network(torch.tensor([s]*3, dtype=torch.float32)).size()) == (\n",
        "    3, n_actions), \"please make sure your model maps state s -> [Q(s,a0), ..., Q(s, a_last)]\"\n",
        "assert isinstance(list(network.modules(\n",
        "))[-1], nn.Linear), \"please make sure you predict q-values without nonlinearity (ignore if you know what you're doing)\"\n",
        "assert isinstance(get_action(s), int), \"get_action(s) must return int, not %s. try int(action)\" % (type(get_action(s)))\n",
        "\n",
        "# test epsilon-greedy exploration\n",
        "for eps in [0., 0.1, 0.5, 1.0]:\n",
        "    state_frequencies = np.bincount(\n",
        "        [get_action(s, epsilon=eps) for i in range(10000)], minlength=n_actions)\n",
        "    best_action = state_frequencies.argmax()\n",
        "    assert abs(state_frequencies[best_action] -\n",
        "               10000 * (1 - eps + eps / n_actions)) < 200\n",
        "    for other_action in range(n_actions):\n",
        "        if other_action != best_action:\n",
        "            assert abs(state_frequencies[other_action] -\n",
        "                       10000 * (eps / n_actions)) < 200\n",
        "    print('e=%.1f tests passed' % eps)"
      ]
    },
    {
      "cell_type": "markdown",
      "metadata": {
        "id": "f88ovLBQEmiA"
      },
      "source": [
        "### Q-learning via gradient descent\n",
        "\n",
        "We shall now train our agent's Q-function by minimizing the TD loss:\n",
        "$$ L = { 1 \\over N} \\sum_i (Q_{\\theta}(s,a) - [r(s,a) + \\gamma \\cdot max_{a'} Q_{-}(s', a')]) ^2 $$\n",
        "\n",
        "\n",
        "Where\n",
        "* $s, a, r, s'$ are current state, action, reward and next state respectively\n",
        "* $\\gamma$ is a discount factor defined two cells above.\n",
        "\n",
        "The tricky part is with  $Q_{-}(s',a')$. From an engineering standpoint, it's the same as $Q_{\\theta}$ - the output of your neural network policy. However, when doing gradient descent, __we won't propagate gradients through it__ to make training more stable (see lectures).\n",
        "\n",
        "To do so, we shall use `x.detach()` function which basically says \"consider this thing constant when doing backprop\"."
      ]
    },
    {
      "cell_type": "code",
      "execution_count": 10,
      "metadata": {
        "id": "bOIpO142EmiB"
      },
      "outputs": [],
      "source": [
        "def compute_td_loss(states, actions, rewards, next_states, is_done, gamma=0.99, check_shapes=False):\n",
        "    \"\"\" Compute td loss using torch operations only. Use the formula above. \"\"\"\n",
        "    states = torch.tensor(\n",
        "        states, dtype=torch.float32)                                  # shape: [batch_size, state_size]\n",
        "    actions = torch.tensor(actions, dtype=torch.long)                 # shape: [batch_size]\n",
        "    rewards = torch.tensor(rewards, dtype=torch.float32)              # shape: [batch_size]\n",
        "    # shape: [batch_size, state_size]\n",
        "    next_states = torch.tensor(next_states, dtype=torch.float32)\n",
        "    is_done = torch.tensor(is_done, dtype=torch.bool)                # shape: [batch_size]\n",
        "\n",
        "    # get q-values for all actions in current states\n",
        "    predicted_qvalues = network(states)                               # shape: [batch_size, n_actions]\n",
        "\n",
        "    # select q-values for chosen actions\n",
        "    predicted_qvalues_for_actions = predicted_qvalues[                # shape: [batch_size]\n",
        "      range(states.shape[0]), actions\n",
        "    ]\n",
        "\n",
        "    # compute q-values for all actions in next states\n",
        "    predicted_next_qvalues = network(next_states)\n",
        "\n",
        "    # compute V*(next_states) using predicted next q-values\n",
        "\n",
        "    next_state_values, _ = torch.max(predicted_next_qvalues, dim=1)\n",
        "    assert next_state_values.dtype == torch.float32\n",
        "\n",
        "    # compute \"target q-values\" for loss - it's what's inside square parentheses in the above formula.\n",
        "    target_qvalues_for_actions = rewards + gamma * next_state_values\n",
        "\n",
        "    # at the last state we shall use simplified formula: Q(s,a) = r(s,a) since s' doesn't exist\n",
        "    target_qvalues_for_actions = torch.where(\n",
        "        is_done, rewards, target_qvalues_for_actions)\n",
        "\n",
        "    # mean squared error loss to minimize\n",
        "    loss = torch.mean((predicted_qvalues_for_actions -\n",
        "                       target_qvalues_for_actions.detach()) ** 2)\n",
        "\n",
        "    if check_shapes:\n",
        "        assert predicted_next_qvalues.data.dim(\n",
        "        ) == 2, \"make sure you predicted q-values for all actions in next state\"\n",
        "        assert next_state_values.data.dim(\n",
        "        ) == 1, \"make sure you computed V(s') as maximum over just the actions axis and not all axes\"\n",
        "        assert target_qvalues_for_actions.data.dim(\n",
        "        ) == 1, \"there's something wrong with target q-values, they must be a vector\"\n",
        "\n",
        "    return loss"
      ]
    },
    {
      "cell_type": "code",
      "execution_count": 11,
      "metadata": {
        "id": "lKi6AK3DEmiB"
      },
      "outputs": [],
      "source": [
        "# sanity checks\n",
        "s, _ = env.reset()\n",
        "a = env.action_space.sample()\n",
        "next_s, r, terminated, _, _ = env.step(a)\n",
        "loss = compute_td_loss([s], [a], [r], [next_s], [terminated], check_shapes=True)\n",
        "loss.backward()\n",
        "\n",
        "assert len(loss.size()) == 0, \"you must return scalar loss - mean over batch\"\n",
        "assert np.any(next(network.parameters()).grad.detach().numpy() !=\n",
        "              0), \"loss must be differentiable w.r.t. network weights\""
      ]
    },
    {
      "cell_type": "markdown",
      "metadata": {
        "id": "LgL6G5lFEmiB"
      },
      "source": [
        "### Playing the game"
      ]
    },
    {
      "cell_type": "code",
      "execution_count": 12,
      "metadata": {
        "id": "zsHb_fjjEmiB"
      },
      "outputs": [],
      "source": [
        "opt = torch.optim.Adam(network.parameters(), lr=1e-4)"
      ]
    },
    {
      "cell_type": "code",
      "execution_count": 13,
      "metadata": {
        "id": "nJ_-xtsjEmiB"
      },
      "outputs": [],
      "source": [
        "def generate_session(env, t_max=1000, epsilon=0, train=False):\n",
        "    \"\"\"play env with approximate q-learning agent and train it at the same time\"\"\"\n",
        "    total_reward = 0\n",
        "    s, _ = env.reset()\n",
        "\n",
        "    for t in range(t_max):\n",
        "        a = get_action(s, epsilon=epsilon)\n",
        "        next_s, r, terminated, truncated, _ = env.step(a)\n",
        "\n",
        "        if train:\n",
        "            opt.zero_grad()\n",
        "            compute_td_loss([s], [a], [r], [next_s], [terminated]).backward()\n",
        "            opt.step()\n",
        "\n",
        "        total_reward += r\n",
        "        s = next_s\n",
        "        if terminated or truncated:\n",
        "            break\n",
        "\n",
        "    return total_reward"
      ]
    },
    {
      "cell_type": "code",
      "execution_count": 14,
      "metadata": {
        "id": "40mKYuVIEmiB"
      },
      "outputs": [],
      "source": [
        "epsilon = 0.5"
      ]
    },
    {
      "cell_type": "code",
      "execution_count": 15,
      "metadata": {
        "id": "EXy8ij00EmiB",
        "outputId": "a7cdfbd6-f496-45a8-d7a2-29d053316fbe",
        "colab": {
          "base_uri": "https://localhost:8080/"
        }
      },
      "outputs": [
        {
          "output_type": "stream",
          "name": "stdout",
          "text": [
            "epoch #0\tmean reward = 13.940\tepsilon = 0.500\n",
            "epoch #1\tmean reward = 13.710\tepsilon = 0.495\n",
            "epoch #2\tmean reward = 18.160\tepsilon = 0.490\n",
            "epoch #3\tmean reward = 17.260\tepsilon = 0.485\n",
            "epoch #4\tmean reward = 15.780\tepsilon = 0.480\n",
            "epoch #5\tmean reward = 18.540\tepsilon = 0.475\n",
            "epoch #6\tmean reward = 16.030\tepsilon = 0.471\n",
            "epoch #7\tmean reward = 22.880\tepsilon = 0.466\n",
            "epoch #8\tmean reward = 27.510\tepsilon = 0.461\n",
            "epoch #9\tmean reward = 36.300\tepsilon = 0.457\n",
            "epoch #10\tmean reward = 40.310\tepsilon = 0.452\n",
            "epoch #11\tmean reward = 40.330\tepsilon = 0.448\n",
            "epoch #12\tmean reward = 50.540\tepsilon = 0.443\n",
            "epoch #13\tmean reward = 58.420\tepsilon = 0.439\n",
            "epoch #14\tmean reward = 87.750\tepsilon = 0.434\n",
            "epoch #15\tmean reward = 93.860\tepsilon = 0.430\n",
            "epoch #16\tmean reward = 117.920\tepsilon = 0.426\n",
            "epoch #17\tmean reward = 142.060\tepsilon = 0.421\n",
            "epoch #18\tmean reward = 159.290\tepsilon = 0.417\n",
            "epoch #19\tmean reward = 164.680\tepsilon = 0.413\n",
            "epoch #20\tmean reward = 133.000\tepsilon = 0.409\n",
            "epoch #21\tmean reward = 148.780\tepsilon = 0.405\n",
            "epoch #22\tmean reward = 155.770\tepsilon = 0.401\n",
            "epoch #23\tmean reward = 168.640\tepsilon = 0.397\n",
            "epoch #24\tmean reward = 154.110\tepsilon = 0.393\n",
            "epoch #25\tmean reward = 167.690\tepsilon = 0.389\n",
            "epoch #26\tmean reward = 186.110\tepsilon = 0.385\n",
            "epoch #27\tmean reward = 171.400\tepsilon = 0.381\n",
            "epoch #28\tmean reward = 161.850\tepsilon = 0.377\n",
            "epoch #29\tmean reward = 205.130\tepsilon = 0.374\n",
            "epoch #30\tmean reward = 208.010\tepsilon = 0.370\n",
            "epoch #31\tmean reward = 212.960\tepsilon = 0.366\n",
            "epoch #32\tmean reward = 213.720\tepsilon = 0.362\n",
            "epoch #33\tmean reward = 209.960\tepsilon = 0.359\n",
            "epoch #34\tmean reward = 158.600\tepsilon = 0.355\n",
            "epoch #35\tmean reward = 304.590\tepsilon = 0.352\n",
            "You Win!\n"
          ]
        }
      ],
      "source": [
        "for i in range(1000):\n",
        "    session_rewards = [generate_session(env, epsilon=epsilon, train=True) for _ in range(100)]\n",
        "    print(\"epoch #{}\\tmean reward = {:.3f}\\tepsilon = {:.3f}\".format(i, np.mean(session_rewards), epsilon))\n",
        "\n",
        "    epsilon *= 0.99\n",
        "    assert epsilon >= 1e-4, \"Make sure epsilon is always nonzero during training\"\n",
        "\n",
        "    if np.mean(session_rewards) > 300:\n",
        "        print(\"You Win!\")\n",
        "        break"
      ]
    },
    {
      "cell_type": "markdown",
      "metadata": {
        "id": "XJPoF9XtEmiB"
      },
      "source": [
        "### How to interpret results\n",
        "\n",
        "\n",
        "Welcome to the f.. world of deep f...n reinforcement learning. Don't expect agent's reward to smoothly go up. Hope for it to go increase eventually. If it deems you worthy.\n",
        "\n",
        "Seriously though,\n",
        "* __ mean reward__ is the average reward per game. For a correct implementation it may stay low for some 10 epochs, then start growing while oscilating insanely and converges by ~50-100 steps depending on the network architecture.\n",
        "* If it never reaches target score by the end of for loop, try increasing the number of hidden neurons or look at the epsilon.\n",
        "* __ epsilon__ - agent's willingness to explore. If you see that agent's already at < 0.01 epsilon before it's is at least 200, just reset it back to 0.1 - 0.5."
      ]
    },
    {
      "cell_type": "markdown",
      "metadata": {
        "id": "lhKiN-qOEmiB"
      },
      "source": [
        "### Record videos\n",
        "\n",
        "As usual, we now use `gymnasium.wrappers.RecordVideo` to record a video of our agent playing the game. Unlike our previous attempts with state binarization, this time we expect our agent to act ~~(or fail)~~ more smoothly since there's no more binarization error at play.\n",
        "\n",
        "As you already did with tabular q-learning, we set epsilon=0 for final evaluation to prevent agent from exploring himself to death."
      ]
    },
    {
      "cell_type": "code",
      "execution_count": 16,
      "metadata": {
        "id": "2yqPkj6HEmiB",
        "outputId": "fb0f7b41-b4b3-4581-b12f-606b25126594",
        "colab": {
          "base_uri": "https://localhost:8080/"
        }
      },
      "outputs": [
        {
          "output_type": "stream",
          "name": "stderr",
          "text": [
            "/usr/local/lib/python3.12/dist-packages/gymnasium/envs/registration.py:512: DeprecationWarning: \u001b[33mWARN: The environment CartPole-v0 is out of date. You should consider upgrading to version `v1`.\u001b[0m\n",
            "  logger.deprecation(\n",
            "/usr/local/lib/python3.12/dist-packages/moviepy/config_defaults.py:47: SyntaxWarning: invalid escape sequence '\\P'\n",
            "  IMAGEMAGICK_BINARY = r\"C:\\Program Files\\ImageMagick-6.8.8-Q16\\magick.exe\"\n"
          ]
        }
      ],
      "source": [
        "# Record sessions\n",
        "\n",
        "from gymnasium.wrappers import RecordVideo\n",
        "\n",
        "with gym.make(\"CartPole-v0\", render_mode=\"rgb_array\") as record_env, RecordVideo(\n",
        "    record_env, video_folder=\"videos\"\n",
        ") as env_monitor:\n",
        "    sessions = [\n",
        "        generate_session(env_monitor, epsilon=0, train=False) for _ in range(100)\n",
        "    ]\n"
      ]
    },
    {
      "cell_type": "code",
      "execution_count": 17,
      "metadata": {
        "id": "afqi2qomEmiC",
        "outputId": "1a1217dc-06dd-4008-f1a8-f4737b672894",
        "colab": {
          "base_uri": "https://localhost:8080/",
          "height": 501
        }
      },
      "outputs": [
        {
          "output_type": "execute_result",
          "data": {
            "text/plain": [
              "<IPython.core.display.HTML object>"
            ],
            "text/html": [
              "\n",
              "<video width=\"640\" height=\"480\" controls>\n",
              "  <source src=\"data:video/mp4;base64,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\" type=\"video/mp4\">\n",
              "</video>\n"
            ]
          },
          "metadata": {},
          "execution_count": 17
        }
      ],
      "source": [
        "# Show video. This may not work in some setups. If it doesn't\n",
        "# work for you, you can download the videos and view them locally.\n",
        "\n",
        "from pathlib import Path\n",
        "from base64 import b64encode\n",
        "from IPython.display import HTML\n",
        "\n",
        "video_paths = sorted([s for s in Path('videos').iterdir() if s.suffix == '.mp4'])\n",
        "video_path = video_paths[-1]  # You can also try other indices\n",
        "\n",
        "if 'google.colab' in sys.modules:\n",
        "    # https://stackoverflow.com/a/57378660/1214547\n",
        "    with video_path.open('rb') as fp:\n",
        "        mp4 = fp.read()\n",
        "    data_url = 'data:video/mp4;base64,' + b64encode(mp4).decode()\n",
        "else:\n",
        "    data_url = str(video_path)\n",
        "\n",
        "HTML(\"\"\"\n",
        "<video width=\"640\" height=\"480\" controls>\n",
        "  <source src=\"{}\" type=\"video/mp4\">\n",
        "</video>\n",
        "\"\"\".format(data_url))"
      ]
    }
  ],
  "metadata": {
    "colab": {
      "provenance": [],
      "gpuType": "T4",
      "include_colab_link": true
    },
    "kernelspec": {
      "display_name": "Python 3",
      "name": "python3"
    },
    "language_info": {
      "name": "python"
    },
    "accelerator": "GPU"
  },
  "nbformat": 4,
  "nbformat_minor": 0
}