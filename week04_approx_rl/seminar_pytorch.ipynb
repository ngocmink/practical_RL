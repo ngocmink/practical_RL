{
  "cells": [
    {
      "cell_type": "markdown",
      "metadata": {
        "id": "view-in-github",
        "colab_type": "text"
      },
      "source": [
        "<a href=\"https://colab.research.google.com/github/ngocmink/practical_RL/blob/main/week04_approx_rl/seminar_pytorch.ipynb\" target=\"_parent\"><img src=\"https://colab.research.google.com/assets/colab-badge.svg\" alt=\"Open In Colab\"/></a>"
      ]
    },
    {
      "cell_type": "markdown",
      "metadata": {
        "id": "kr_aKWMGEmh-"
      },
      "source": [
        "# Approximate q-learning\n",
        "\n",
        "In this notebook you will teach a __PyTorch__ neural network to do Q-learning."
      ]
    },
    {
      "cell_type": "code",
      "execution_count": 1,
      "metadata": {
        "id": "oaMu65ONEmh_",
        "outputId": "69de4c07-624b-43d1-84ec-ed585622bb46",
        "colab": {
          "base_uri": "https://localhost:8080/"
        }
      },
      "outputs": [
        {
          "output_type": "stream",
          "name": "stdout",
          "text": [
            "W: Skipping acquire of configured file 'main/source/Sources' as repository 'https://r2u.stat.illinois.edu/ubuntu jammy InRelease' does not seem to provide it (sources.list entry misspelt?)\n",
            "Starting virtual X frame buffer: Xvfb.\n"
          ]
        }
      ],
      "source": [
        "import sys, os\n",
        "if 'google.colab' in sys.modules and not os.path.exists('.setup_complete'):\n",
        "    !wget -q https://raw.githubusercontent.com/yandexdataschool/Practical_RL/master/setup_colab.sh -O- | bash\n",
        "    !touch .setup_complete\n",
        "\n",
        "# This code creates a virtual display to draw game images on.\n",
        "# It will have no effect if your machine has a monitor.\n",
        "if type(os.environ.get(\"DISPLAY\")) is not str or len(os.environ.get(\"DISPLAY\")) == 0:\n",
        "    !bash ../xvfb start\n",
        "    os.environ['DISPLAY'] = ':1'"
      ]
    },
    {
      "cell_type": "code",
      "execution_count": 2,
      "metadata": {
        "id": "avILCRKkEpaX",
        "colab": {
          "base_uri": "https://localhost:8080/"
        },
        "outputId": "09a480e3-3790-4297-f6b6-38a643a9a54c"
      },
      "outputs": [
        {
          "output_type": "stream",
          "name": "stdout",
          "text": [
            "Requirement already satisfied: gymnasium[classic_control] in /usr/local/lib/python3.12/dist-packages (1.2.1)\n",
            "Requirement already satisfied: numpy>=1.21.0 in /usr/local/lib/python3.12/dist-packages (from gymnasium[classic_control]) (2.0.2)\n",
            "Requirement already satisfied: cloudpickle>=1.2.0 in /usr/local/lib/python3.12/dist-packages (from gymnasium[classic_control]) (3.1.1)\n",
            "Requirement already satisfied: typing-extensions>=4.3.0 in /usr/local/lib/python3.12/dist-packages (from gymnasium[classic_control]) (4.15.0)\n",
            "Requirement already satisfied: farama-notifications>=0.0.1 in /usr/local/lib/python3.12/dist-packages (from gymnasium[classic_control]) (0.0.4)\n",
            "Requirement already satisfied: pygame>=2.1.3 in /usr/local/lib/python3.12/dist-packages (from gymnasium[classic_control]) (2.6.1)\n"
          ]
        }
      ],
      "source": [
        "!pip install gymnasium[classic_control]"
      ]
    },
    {
      "cell_type": "code",
      "execution_count": 3,
      "metadata": {
        "id": "K_SRk2ASEmh_"
      },
      "outputs": [],
      "source": [
        "import gymnasium as gym\n",
        "import numpy as np\n",
        "import pandas as pd\n",
        "import matplotlib.pyplot as plt\n",
        "%matplotlib inline"
      ]
    },
    {
      "cell_type": "code",
      "execution_count": 4,
      "metadata": {
        "id": "x2YvkgprEmh_",
        "colab": {
          "base_uri": "https://localhost:8080/",
          "height": 396
        },
        "outputId": "a27e3125-f61b-48da-c36b-00b58ddb73aa"
      },
      "outputs": [
        {
          "output_type": "display_data",
          "data": {
            "text/plain": [
              "<Figure size 640x480 with 1 Axes>"
            ],
            "image/png": "[encoded data removed]"
          },
          "metadata": {}
        }
      ],
      "source": [
        "env = gym.make(\"CartPole-v1\", render_mode=\"rgb_array\").env\n",
        "env.reset()\n",
        "n_actions = env.action_space.n\n",
        "state_dim = env.observation_space.shape\n",
        "plt.imshow(env.render())\n",
        "env.close()"
      ]
    },
    {
      "cell_type": "markdown",
      "metadata": {
        "id": "sI8W19CwEmh_"
      },
      "source": [
        "# Approximate Q-learning: building the network\n",
        "\n",
        "To train a neural network policy one must have a neural network policy. Let's build it.\n",
        "\n",
        "\n",
        "Since we're working with a pre-extracted features (cart positions, angles and velocities), we don't need a complicated network yet. In fact, let's build something like this for starters:\n",
        "\n",
        "![img](https://raw.githubusercontent.com/yandexdataschool/Practical_RL/master/yet_another_week/_resource/qlearning_scheme.png)\n",
        "\n",
        "For your first run, please only use linear layers (`nn.Linear`) and activations. Stuff like batch normalization or dropout may ruin everything if used haphazardly.\n",
        "\n",
        "Also please avoid using nonlinearities like sigmoid & tanh: since agent's observations are not normalized, sigmoids might be saturated at initialization. Instead, use non-saturating nonlinearities like ReLU.\n",
        "\n",
        "Ideally you should start small with maybe 1-2 hidden layers with < 200 neurons and then increase network size if agent doesn't beat the target score."
      ]
    },
    {
      "cell_type": "code",
      "execution_count": 5,
      "metadata": {
        "id": "YdWXv8WJEmiA"
      },
      "outputs": [],
      "source": [
        "import torch\n",
        "import torch.nn as nn\n",
        "import torch.nn.functional as F"
      ]
    },
    {
      "cell_type": "code",
      "execution_count": 6,
      "metadata": {
        "id": "y2-PcaIQEmiA"
      },
      "outputs": [],
      "source": [
        "network = nn.Sequential()\n",
        "\n",
        "network.add_module('layer1', nn.Linear(state_dim[0], 100))\n",
        "network.add_module('layer2', nn.Linear(100, 100))\n",
        "network.add_module('layer3', nn.ReLU())\n",
        "network.add_module('layer4', nn.Linear(100, n_actions))\n",
        "\n",
        "\n",
        "# hint: use state_dim[0] as input size"
      ]
    },
    {
      "cell_type": "code",
      "execution_count": 7,
      "metadata": {
        "id": "8xuWPGriEmiA"
      },
      "outputs": [],
      "source": [
        "def get_action(state, epsilon=0):\n",
        "    \"\"\"\n",
        "    sample actions with epsilon-greedy policy\n",
        "    recap: with p = epsilon pick random action, else pick action with highest Q(s,a)\n",
        "    \"\"\"\n",
        "    state = torch.tensor(state[None], dtype=torch.float32)\n",
        "    q_values = network(state).detach().numpy()\n",
        "    # print(q_values.shape)\n",
        "    idx_max = 0\n",
        "    max = -999999\n",
        "    for i in range(len(q_values[0])):\n",
        "      if q_values[0][i] > max:\n",
        "        max = q_values[0][i]\n",
        "        idx_max = i\n",
        "    if np.random.rand() < epsilon:\n",
        "      return np.random.randint(n_actions)\n",
        "    else:\n",
        "      return idx_max\n"
      ]
    },
    {
      "cell_type": "code",
      "execution_count": 8,
      "metadata": {
        "id": "wroEfSRNEmiA",
        "colab": {
          "base_uri": "https://localhost:8080/"
        },
        "outputId": "a99156c5-ce91-42d2-a02c-04fac42ece23"
      },
      "outputs": [
        {
          "output_type": "stream",
          "name": "stderr",
          "text": [
            "/tmp/ipython-input-2259198421.py:2: UserWarning: Creating a tensor from a list of numpy.ndarrays is extremely slow. Please consider converting the list to a single numpy.ndarray with numpy.array() before converting to a tensor. (Triggered internally at /pytorch/torch/csrc/utils/tensor_new.cpp:253.)\n",
            "  assert tuple(network(torch.tensor([s]*3, dtype=torch.float32)).size()) == (\n"
          ]
        },
        {
          "output_type": "stream",
          "name": "stdout",
          "text": [
            "e=0.0 tests passed\n",
            "e=0.1 tests passed\n",
            "e=0.5 tests passed\n",
            "e=1.0 tests passed\n"
          ]
        }
      ],
      "source": [
        "s, _ = env.reset()\n",
        "assert tuple(network(torch.tensor([s]*3, dtype=torch.float32)).size()) == (\n",
        "    3, n_actions), \"please make sure your model maps state s -> [Q(s,a0), ..., Q(s, a_last)]\"\n",
        "assert isinstance(list(network.modules(\n",
        "))[-1], nn.Linear), \"please make sure you predict q-values without nonlinearity (ignore if you know what you're doing)\"\n",
        "assert isinstance(get_action(s), int), \"get_action(s) must return int, not %s. try int(action)\" % (type(get_action(s)))\n",
        "\n",
        "# test epsilon-greedy exploration\n",
        "for eps in [0., 0.1, 0.5, 1.0]:\n",
        "    state_frequencies = np.bincount(\n",
        "        [get_action(s, epsilon=eps) for i in range(10000)], minlength=n_actions)\n",
        "    best_action = state_frequencies.argmax()\n",
        "    assert abs(state_frequencies[best_action] -\n",
        "               10000 * (1 - eps + eps / n_actions)) < 200\n",
        "    for other_action in range(n_actions):\n",
        "        if other_action != best_action:\n",
        "            assert abs(state_frequencies[other_action] -\n",
        "                       10000 * (eps / n_actions)) < 200\n",
        "    print('e=%.1f tests passed' % eps)"
      ]
    },
    {
      "cell_type": "markdown",
      "metadata": {
        "id": "f88ovLBQEmiA"
      },
      "source": [
        "### Q-learning via gradient descent\n",
        "\n",
        "We shall now train our agent's Q-function by minimizing the TD loss:\n",
        "$$ L = { 1 \\over N} \\sum_i (Q_{\\theta}(s,a) - [r(s,a) + \\gamma \\cdot max_{a'} Q_{-}(s', a')]) ^2 $$\n",
        "\n",
        "\n",
        "Where\n",
        "* $s, a, r, s'$ are current state, action, reward and next state respectively\n",
        "* $\\gamma$ is a discount factor defined two cells above.\n",
        "\n",
        "The tricky part is with  $Q_{-}(s',a')$. From an engineering standpoint, it's the same as $Q_{\\theta}$ - the output of your neural network policy. However, when doing gradient descent, __we won't propagate gradients through it__ to make training more stable (see lectures).\n",
        "\n",
        "To do so, we shall use `x.detach()` function which basically says \"consider this thing constant when doing backprop\"."
      ]
    },
    {
      "cell_type": "code",
      "execution_count": 9,
      "metadata": {
        "id": "bOIpO142EmiB"
      },
      "outputs": [],
      "source": [
        "def compute_td_loss(states, actions, rewards, next_states, is_done, gamma=0.99, check_shapes=False):\n",
        "    \"\"\" Compute td loss using torch operations only. Use the formula above. \"\"\"\n",
        "    states = torch.tensor(\n",
        "        states, dtype=torch.float32)                                  # shape: [batch_size, state_size]\n",
        "    actions = torch.tensor(actions, dtype=torch.long)                 # shape: [batch_size]\n",
        "    rewards = torch.tensor(rewards, dtype=torch.float32)              # shape: [batch_size]\n",
        "    # shape: [batch_size, state_size]\n",
        "    next_states = torch.tensor(next_states, dtype=torch.float32)\n",
        "    is_done = torch.tensor(is_done, dtype=torch.bool)                # shape: [batch_size]\n",
        "\n",
        "    # get q-values for all actions in current states\n",
        "    predicted_qvalues = network(states)                               # shape: [batch_size, n_actions]\n",
        "\n",
        "    # select q-values for chosen actions\n",
        "    predicted_qvalues_for_actions = predicted_qvalues[                # shape: [batch_size]\n",
        "      range(states.shape[0]), actions\n",
        "    ]\n",
        "\n",
        "    # compute q-values for all actions in next states\n",
        "    predicted_next_qvalues = network(next_states)\n",
        "\n",
        "    # compute V*(next_states) using predicted next q-values\n",
        "\n",
        "    next_state_values, _ = torch.max(predicted_next_qvalues, dim=1)\n",
        "    assert next_state_values.dtype == torch.float32\n",
        "\n",
        "    # compute \"target q-values\" for loss - it's what's inside square parentheses in the above formula.\n",
        "    target_qvalues_for_actions = rewards + gamma * next_state_values\n",
        "\n",
        "    # at the last state we shall use simplified formula: Q(s,a) = r(s,a) since s' doesn't exist\n",
        "    target_qvalues_for_actions = torch.where(\n",
        "        is_done, rewards, target_qvalues_for_actions)\n",
        "\n",
        "    # mean squared error loss to minimize\n",
        "    loss = torch.mean((predicted_qvalues_for_actions -\n",
        "                       target_qvalues_for_actions.detach()) ** 2)\n",
        "\n",
        "    if check_shapes:\n",
        "        assert predicted_next_qvalues.data.dim(\n",
        "        ) == 2, \"make sure you predicted q-values for all actions in next state\"\n",
        "        assert next_state_values.data.dim(\n",
        "        ) == 1, \"make sure you computed V(s') as maximum over just the actions axis and not all axes\"\n",
        "        assert target_qvalues_for_actions.data.dim(\n",
        "        ) == 1, \"there's something wrong with target q-values, they must be a vector\"\n",
        "\n",
        "    return loss"
      ]
    },
    {
      "cell_type": "code",
      "execution_count": 10,
      "metadata": {
        "id": "lKi6AK3DEmiB"
      },
      "outputs": [],
      "source": [
        "# sanity checks\n",
        "s, _ = env.reset()\n",
        "a = env.action_space.sample()\n",
        "next_s, r, terminated, _, _ = env.step(a)\n",
        "loss = compute_td_loss([s], [a], [r], [next_s], [terminated], check_shapes=True)\n",
        "loss.backward()\n",
        "\n",
        "assert len(loss.size()) == 0, \"you must return scalar loss - mean over batch\"\n",
        "assert np.any(next(network.parameters()).grad.detach().numpy() !=\n",
        "              0), \"loss must be differentiable w.r.t. network weights\""
      ]
    },
    {
      "cell_type": "markdown",
      "metadata": {
        "id": "LgL6G5lFEmiB"
      },
      "source": [
        "### Playing the game"
      ]
    },
    {
      "cell_type": "code",
      "execution_count": 11,
      "metadata": {
        "id": "zsHb_fjjEmiB"
      },
      "outputs": [],
      "source": [
        "opt = torch.optim.Adam(network.parameters(), lr=1e-4)"
      ]
    },
    {
      "cell_type": "code",
      "execution_count": 12,
      "metadata": {
        "id": "nJ_-xtsjEmiB"
      },
      "outputs": [],
      "source": [
        "def generate_session(env, t_max=1000, epsilon=0, train=False):\n",
        "    \"\"\"play env with approximate q-learning agent and train it at the same time\"\"\"\n",
        "    total_reward = 0\n",
        "    s, _ = env.reset()\n",
        "\n",
        "    for t in range(t_max):\n",
        "        a = get_action(s, epsilon=epsilon)\n",
        "        next_s, r, terminated, truncated, _ = env.step(a)\n",
        "\n",
        "        if train:\n",
        "            opt.zero_grad()\n",
        "            compute_td_loss([s], [a], [r], [next_s], [terminated]).backward()\n",
        "            opt.step()\n",
        "\n",
        "        total_reward += r\n",
        "        s = next_s\n",
        "        if terminated or truncated:\n",
        "            break\n",
        "\n",
        "    return total_reward"
      ]
    },
    {
      "cell_type": "code",
      "execution_count": 13,
      "metadata": {
        "id": "40mKYuVIEmiB"
      },
      "outputs": [],
      "source": [
        "epsilon = 0.5"
      ]
    },
    {
      "cell_type": "code",
      "execution_count": 14,
      "metadata": {
        "id": "EXy8ij00EmiB",
        "outputId": "7f6e6742-9349-45cf-c40c-99c289bd5cc8",
        "colab": {
          "base_uri": "https://localhost:8080/"
        }
      },
      "outputs": [
        {
          "output_type": "stream",
          "name": "stdout",
          "text": [
            "epoch #0\tmean reward = 13.710\tepsilon = 0.500\n",
            "epoch #1\tmean reward = 15.510\tepsilon = 0.495\n",
            "epoch #2\tmean reward = 16.620\tepsilon = 0.490\n",
            "epoch #3\tmean reward = 19.340\tepsilon = 0.485\n",
            "epoch #4\tmean reward = 21.610\tepsilon = 0.480\n",
            "epoch #5\tmean reward = 22.390\tepsilon = 0.475\n",
            "epoch #6\tmean reward = 21.380\tepsilon = 0.471\n",
            "epoch #7\tmean reward = 29.200\tepsilon = 0.466\n",
            "epoch #8\tmean reward = 32.730\tepsilon = 0.461\n",
            "epoch #9\tmean reward = 36.200\tepsilon = 0.457\n",
            "epoch #10\tmean reward = 42.100\tepsilon = 0.452\n",
            "epoch #11\tmean reward = 50.740\tepsilon = 0.448\n",
            "epoch #12\tmean reward = 69.450\tepsilon = 0.443\n",
            "epoch #13\tmean reward = 62.720\tepsilon = 0.439\n",
            "epoch #14\tmean reward = 96.080\tepsilon = 0.434\n",
            "epoch #15\tmean reward = 110.770\tepsilon = 0.430\n",
            "epoch #16\tmean reward = 123.730\tepsilon = 0.426\n",
            "epoch #17\tmean reward = 131.970\tepsilon = 0.421\n",
            "epoch #18\tmean reward = 138.050\tepsilon = 0.417\n",
            "epoch #19\tmean reward = 144.590\tepsilon = 0.413\n",
            "epoch #20\tmean reward = 173.760\tepsilon = 0.409\n",
            "epoch #21\tmean reward = 172.320\tepsilon = 0.405\n",
            "epoch #22\tmean reward = 184.710\tepsilon = 0.401\n",
            "epoch #23\tmean reward = 177.770\tepsilon = 0.397\n",
            "epoch #24\tmean reward = 158.150\tepsilon = 0.393\n",
            "epoch #25\tmean reward = 184.490\tepsilon = 0.389\n",
            "epoch #26\tmean reward = 173.540\tepsilon = 0.385\n",
            "epoch #27\tmean reward = 196.510\tepsilon = 0.381\n",
            "epoch #28\tmean reward = 186.300\tepsilon = 0.377\n",
            "epoch #29\tmean reward = 213.820\tepsilon = 0.374\n",
            "epoch #30\tmean reward = 225.140\tepsilon = 0.370\n",
            "epoch #31\tmean reward = 286.230\tepsilon = 0.366\n",
            "epoch #32\tmean reward = 212.030\tepsilon = 0.362\n",
            "epoch #33\tmean reward = 287.390\tepsilon = 0.359\n",
            "epoch #34\tmean reward = 327.190\tepsilon = 0.355\n",
            "You Win!\n"
          ]
        }
      ],
      "source": [
        "for i in range(1000):\n",
        "    session_rewards = [generate_session(env, epsilon=epsilon, train=True) for _ in range(100)]\n",
        "    print(\"epoch #{}\\tmean reward = {:.3f}\\tepsilon = {:.3f}\".format(i, np.mean(session_rewards), epsilon))\n",
        "\n",
        "    epsilon *= 0.99\n",
        "    assert epsilon >= 1e-4, \"Make sure epsilon is always nonzero during training\"\n",
        "\n",
        "    if np.mean(session_rewards) > 300:\n",
        "        print(\"You Win!\")\n",
        "        break"
      ]
    },
    {
      "cell_type": "markdown",
      "metadata": {
        "id": "XJPoF9XtEmiB"
      },
      "source": [
        "### How to interpret results\n",
        "\n",
        "\n",
        "Welcome to the f.. world of deep f...n reinforcement learning. Don't expect agent's reward to smoothly go up. Hope for it to go increase eventually. If it deems you worthy.\n",
        "\n",
        "Seriously though,\n",
        "* __ mean reward__ is the average reward per game. For a correct implementation it may stay low for some 10 epochs, then start growing while oscilating insanely and converges by ~50-100 steps depending on the network architecture.\n",
        "* If it never reaches target score by the end of for loop, try increasing the number of hidden neurons or look at the epsilon.\n",
        "* __ epsilon__ - agent's willingness to explore. If you see that agent's already at < 0.01 epsilon before it's is at least 200, just reset it back to 0.1 - 0.5."
      ]
    },
    {
      "cell_type": "markdown",
      "metadata": {
        "id": "lhKiN-qOEmiB"
      },
      "source": [
        "### Record videos\n",
        "\n",
        "As usual, we now use `gymnasium.wrappers.RecordVideo` to record a video of our agent playing the game. Unlike our previous attempts with state binarization, this time we expect our agent to act ~~(or fail)~~ more smoothly since there's no more binarization error at play.\n",
        "\n",
        "As you already did with tabular q-learning, we set epsilon=0 for final evaluation to prevent agent from exploring himself to death."
      ]
    },
    {
      "cell_type": "code",
      "execution_count": 17,
      "metadata": {
        "id": "2yqPkj6HEmiB",
        "outputId": "c622ba87-3c65-4b1b-b0e9-215bb068e364",
        "colab": {
          "base_uri": "https://localhost:8080/"
        }
      },
      "outputs": [
        {
          "output_type": "stream",
          "name": "stderr",
          "text": [
            "/usr/local/lib/python3.12/dist-packages/gymnasium/envs/registration.py:512: DeprecationWarning: \u001b[33mWARN: The environment CartPole-v0 is out of date. You should consider upgrading to version `v1`.\u001b[0m\n",
            "  logger.deprecation(\n",
            "/usr/local/lib/python3.12/dist-packages/gymnasium/wrappers/rendering.py:293: UserWarning: \u001b[33mWARN: Overwriting existing videos at /content/videos folder (try specifying a different `video_folder` for the `RecordVideo` wrapper if this is not desired)\u001b[0m\n",
            "  logger.warn(\n"
          ]
        }
      ],
      "source": [
        "# Record sessions\n",
        "\n",
        "from gymnasium.wrappers import RecordVideo\n",
        "\n",
        "with gym.make(\"CartPole-v0\", render_mode=\"rgb_array\") as record_env, RecordVideo(\n",
        "    record_env, video_folder=\"videos\"\n",
        ") as env_monitor:\n",
        "    sessions = [\n",
        "        generate_session(env_monitor, epsilon=0, train=False) for _ in range(100)\n",
        "    ]\n"
      ]
    },
    {
      "cell_type": "code",
      "execution_count": 16,
      "metadata": {
        "id": "afqi2qomEmiC",
        "outputId": "53927bdf-49dc-4a3a-e92c-fb5d603540dc",
        "colab": {
          "base_uri": "https://localhost:8080/",
          "height": 501
        }
      },
      "outputs": [
        {
          "output_type": "execute_result",
          "data": {
            "text/plain": [
              "<IPython.core.display.HTML object>"
            ],
            "text/html": [
              "\n",
              "<video width=\"640\" height=\"480\" controls>\n",
              "  <source src=\"data:video/mp4;base64,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\" type=\"video/mp4\">\n",
              "</video>\n"
            ]
          },
          "metadata": {},
          "execution_count": 16
        }
      ],
      "source": [
        "# Show video. This may not work in some setups. If it doesn't\n",
        "# work for you, you can download the videos and view them locally.\n",
        "\n",
        "from pathlib import Path\n",
        "from base64 import b64encode\n",
        "from IPython.display import HTML\n",
        "\n",
        "video_paths = sorted([s for s in Path('videos').iterdir() if s.suffix == '.mp4'])\n",
        "video_path = video_paths[-1]  # You can also try other indices\n",
        "\n",
        "if 'google.colab' in sys.modules:\n",
        "    # https://stackoverflow.com/a/57378660/1214547\n",
        "    with video_path.open('rb') as fp:\n",
        "        mp4 = fp.read()\n",
        "    data_url = 'data:video/mp4;base64,' + b64encode(mp4).decode()\n",
        "else:\n",
        "    data_url = str(video_path)\n",
        "\n",
        "HTML(\"\"\"\n",
        "<video width=\"640\" height=\"480\" controls>\n",
        "  <source src=\"{}\" type=\"video/mp4\">\n",
        "</video>\n",
        "\"\"\".format(data_url))"
      ]
    }
  ],
  "metadata": {
    "colab": {
      "provenance": [],
      "gpuType": "T4",
      "include_colab_link": true
    },
    "kernelspec": {
      "display_name": "Python 3",
      "name": "python3"
    },
    "language_info": {
      "name": "python"
    },
    "accelerator": "GPU"
  },
  "nbformat": 4,
  "nbformat_minor": 0
}